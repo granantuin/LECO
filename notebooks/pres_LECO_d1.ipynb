{
  "nbformat": 4,
  "nbformat_minor": 0,
  "metadata": {
    "colab": {
      "provenance": []
    },
    "kernelspec": {
      "name": "python3",
      "display_name": "Python 3"
    },
    "language_info": {
      "name": "python"
    }
  },
  "cells": [
    {
      "cell_type": "code",
      "source": [
        "!pip install -r \"/content/drive/MyDrive/Colab Notebooks/LEVX_1km/requirements.txt\""
      ],
      "metadata": {
        "id": "EdGOq9bNcIsN"
      },
      "execution_count": null,
      "outputs": []
    },
    {
      "cell_type": "code",
      "source": [
        "!pip install lazypredict"
      ],
      "metadata": {
        "id": "Z5pVd9re32fK"
      },
      "execution_count": null,
      "outputs": []
    },
    {
      "cell_type": "code",
      "source": [
        "import plotly.express as px\n",
        "import pandas as pd\n",
        "import numpy as np\n",
        "\n",
        "\n",
        "coor = pd.read_csv(\"/content/drive/MyDrive/Colab Notebooks/LECO/input_files/distan_lat43.302lon-8.377p4R4Km.csv\")\n",
        "px.set_mapbox_access_token(\"pk.eyJ1IjoiZ3JhbmFudHVpbiIsImEiOiJja3B4dGU4OTkwMTFmMm9ycnNhMjJvaGJqIn0.VWzx_PkD9A5cSUVsn_ijCA\")\n",
        "px.scatter_mapbox(coor, hover_data=['distance'],lat='lat', lon='lon',color='distance', title=\"Nearest points\",\n",
        "                           color_continuous_scale=px.colors.cyclical.IceFire,)"
      ],
      "metadata": {
        "id": "L5ZGyKtdklV4",
        "colab": {
          "base_uri": "https://localhost:8080/",
          "height": 542
        },
        "outputId": "88c21869-26aa-4edb-d482-32f4b801949e"
      },
      "execution_count": 1,
      "outputs": [
        {
          "output_type": "display_data",
          "data": {
            "text/html": [
              "<html>\n",
              "<head><meta charset=\"utf-8\" /></head>\n",
              "<body>\n",
              "    <div>            <script src=\"https://cdnjs.cloudflare.com/ajax/libs/mathjax/2.7.5/MathJax.js?config=TeX-AMS-MML_SVG\"></script><script type=\"text/javascript\">if (window.MathJax) {MathJax.Hub.Config({SVG: {font: \"STIX-Web\"}});}</script>                <script type=\"text/javascript\">window.PlotlyConfig = {MathJaxConfig: 'local'};</script>\n",
              "        <script src=\"https://cdn.plot.ly/plotly-2.8.3.min.js\"></script>                <div id=\"2232d998-5b63-44fd-a442-c7cd77b04d34\" class=\"plotly-graph-div\" style=\"height:525px; width:100%;\"></div>            <script type=\"text/javascript\">                                    window.PLOTLYENV=window.PLOTLYENV || {};                                    if (document.getElementById(\"2232d998-5b63-44fd-a442-c7cd77b04d34\")) {                    Plotly.newPlot(                        \"2232d998-5b63-44fd-a442-c7cd77b04d34\",                        [{\"customdata\":[[1.69],[2.86],[3.24],[3.98]],\"hovertemplate\":\"lat=%{lat}<br>lon=%{lon}<br>distance=%{marker.color}<extra></extra>\",\"lat\":[43.312167328205405,43.30971492706036,43.2762791618013,43.273828191657],\"legendgroup\":\"\",\"lon\":[-8.392546563426139,-8.343226491469435,-8.395900525698163,-8.346609255749526],\"marker\":{\"color\":[1.69,2.86,3.24,3.98],\"coloraxis\":\"coloraxis\"},\"mode\":\"markers\",\"name\":\"\",\"showlegend\":false,\"subplot\":\"mapbox\",\"type\":\"scattermapbox\"}],                        {\"template\":{\"data\":{\"bar\":[{\"error_x\":{\"color\":\"#2a3f5f\"},\"error_y\":{\"color\":\"#2a3f5f\"},\"marker\":{\"line\":{\"color\":\"#E5ECF6\",\"width\":0.5},\"pattern\":{\"fillmode\":\"overlay\",\"size\":10,\"solidity\":0.2}},\"type\":\"bar\"}],\"barpolar\":[{\"marker\":{\"line\":{\"color\":\"#E5ECF6\",\"width\":0.5},\"pattern\":{\"fillmode\":\"overlay\",\"size\":10,\"solidity\":0.2}},\"type\":\"barpolar\"}],\"carpet\":[{\"aaxis\":{\"endlinecolor\":\"#2a3f5f\",\"gridcolor\":\"white\",\"linecolor\":\"white\",\"minorgridcolor\":\"white\",\"startlinecolor\":\"#2a3f5f\"},\"baxis\":{\"endlinecolor\":\"#2a3f5f\",\"gridcolor\":\"white\",\"linecolor\":\"white\",\"minorgridcolor\":\"white\",\"startlinecolor\":\"#2a3f5f\"},\"type\":\"carpet\"}],\"choropleth\":[{\"colorbar\":{\"outlinewidth\":0,\"ticks\":\"\"},\"type\":\"choropleth\"}],\"contour\":[{\"colorbar\":{\"outlinewidth\":0,\"ticks\":\"\"},\"colorscale\":[[0.0,\"#0d0887\"],[0.1111111111111111,\"#46039f\"],[0.2222222222222222,\"#7201a8\"],[0.3333333333333333,\"#9c179e\"],[0.4444444444444444,\"#bd3786\"],[0.5555555555555556,\"#d8576b\"],[0.6666666666666666,\"#ed7953\"],[0.7777777777777778,\"#fb9f3a\"],[0.8888888888888888,\"#fdca26\"],[1.0,\"#f0f921\"]],\"type\":\"contour\"}],\"contourcarpet\":[{\"colorbar\":{\"outlinewidth\":0,\"ticks\":\"\"},\"type\":\"contourcarpet\"}],\"heatmap\":[{\"colorbar\":{\"outlinewidth\":0,\"ticks\":\"\"},\"colorscale\":[[0.0,\"#0d0887\"],[0.1111111111111111,\"#46039f\"],[0.2222222222222222,\"#7201a8\"],[0.3333333333333333,\"#9c179e\"],[0.4444444444444444,\"#bd3786\"],[0.5555555555555556,\"#d8576b\"],[0.6666666666666666,\"#ed7953\"],[0.7777777777777778,\"#fb9f3a\"],[0.8888888888888888,\"#fdca26\"],[1.0,\"#f0f921\"]],\"type\":\"heatmap\"}],\"heatmapgl\":[{\"colorbar\":{\"outlinewidth\":0,\"ticks\":\"\"},\"colorscale\":[[0.0,\"#0d0887\"],[0.1111111111111111,\"#46039f\"],[0.2222222222222222,\"#7201a8\"],[0.3333333333333333,\"#9c179e\"],[0.4444444444444444,\"#bd3786\"],[0.5555555555555556,\"#d8576b\"],[0.6666666666666666,\"#ed7953\"],[0.7777777777777778,\"#fb9f3a\"],[0.8888888888888888,\"#fdca26\"],[1.0,\"#f0f921\"]],\"type\":\"heatmapgl\"}],\"histogram\":[{\"marker\":{\"pattern\":{\"fillmode\":\"overlay\",\"size\":10,\"solidity\":0.2}},\"type\":\"histogram\"}],\"histogram2d\":[{\"colorbar\":{\"outlinewidth\":0,\"ticks\":\"\"},\"colorscale\":[[0.0,\"#0d0887\"],[0.1111111111111111,\"#46039f\"],[0.2222222222222222,\"#7201a8\"],[0.3333333333333333,\"#9c179e\"],[0.4444444444444444,\"#bd3786\"],[0.5555555555555556,\"#d8576b\"],[0.6666666666666666,\"#ed7953\"],[0.7777777777777778,\"#fb9f3a\"],[0.8888888888888888,\"#fdca26\"],[1.0,\"#f0f921\"]],\"type\":\"histogram2d\"}],\"histogram2dcontour\":[{\"colorbar\":{\"outlinewidth\":0,\"ticks\":\"\"},\"colorscale\":[[0.0,\"#0d0887\"],[0.1111111111111111,\"#46039f\"],[0.2222222222222222,\"#7201a8\"],[0.3333333333333333,\"#9c179e\"],[0.4444444444444444,\"#bd3786\"],[0.5555555555555556,\"#d8576b\"],[0.6666666666666666,\"#ed7953\"],[0.7777777777777778,\"#fb9f3a\"],[0.8888888888888888,\"#fdca26\"],[1.0,\"#f0f921\"]],\"type\":\"histogram2dcontour\"}],\"mesh3d\":[{\"colorbar\":{\"outlinewidth\":0,\"ticks\":\"\"},\"type\":\"mesh3d\"}],\"parcoords\":[{\"line\":{\"colorbar\":{\"outlinewidth\":0,\"ticks\":\"\"}},\"type\":\"parcoords\"}],\"pie\":[{\"automargin\":true,\"type\":\"pie\"}],\"scatter\":[{\"marker\":{\"colorbar\":{\"outlinewidth\":0,\"ticks\":\"\"}},\"type\":\"scatter\"}],\"scatter3d\":[{\"line\":{\"colorbar\":{\"outlinewidth\":0,\"ticks\":\"\"}},\"marker\":{\"colorbar\":{\"outlinewidth\":0,\"ticks\":\"\"}},\"type\":\"scatter3d\"}],\"scattercarpet\":[{\"marker\":{\"colorbar\":{\"outlinewidth\":0,\"ticks\":\"\"}},\"type\":\"scattercarpet\"}],\"scattergeo\":[{\"marker\":{\"colorbar\":{\"outlinewidth\":0,\"ticks\":\"\"}},\"type\":\"scattergeo\"}],\"scattergl\":[{\"marker\":{\"colorbar\":{\"outlinewidth\":0,\"ticks\":\"\"}},\"type\":\"scattergl\"}],\"scattermapbox\":[{\"marker\":{\"colorbar\":{\"outlinewidth\":0,\"ticks\":\"\"}},\"type\":\"scattermapbox\"}],\"scatterpolar\":[{\"marker\":{\"colorbar\":{\"outlinewidth\":0,\"ticks\":\"\"}},\"type\":\"scatterpolar\"}],\"scatterpolargl\":[{\"marker\":{\"colorbar\":{\"outlinewidth\":0,\"ticks\":\"\"}},\"type\":\"scatterpolargl\"}],\"scatterternary\":[{\"marker\":{\"colorbar\":{\"outlinewidth\":0,\"ticks\":\"\"}},\"type\":\"scatterternary\"}],\"surface\":[{\"colorbar\":{\"outlinewidth\":0,\"ticks\":\"\"},\"colorscale\":[[0.0,\"#0d0887\"],[0.1111111111111111,\"#46039f\"],[0.2222222222222222,\"#7201a8\"],[0.3333333333333333,\"#9c179e\"],[0.4444444444444444,\"#bd3786\"],[0.5555555555555556,\"#d8576b\"],[0.6666666666666666,\"#ed7953\"],[0.7777777777777778,\"#fb9f3a\"],[0.8888888888888888,\"#fdca26\"],[1.0,\"#f0f921\"]],\"type\":\"surface\"}],\"table\":[{\"cells\":{\"fill\":{\"color\":\"#EBF0F8\"},\"line\":{\"color\":\"white\"}},\"header\":{\"fill\":{\"color\":\"#C8D4E3\"},\"line\":{\"color\":\"white\"}},\"type\":\"table\"}]},\"layout\":{\"annotationdefaults\":{\"arrowcolor\":\"#2a3f5f\",\"arrowhead\":0,\"arrowwidth\":1},\"autotypenumbers\":\"strict\",\"coloraxis\":{\"colorbar\":{\"outlinewidth\":0,\"ticks\":\"\"}},\"colorscale\":{\"diverging\":[[0,\"#8e0152\"],[0.1,\"#c51b7d\"],[0.2,\"#de77ae\"],[0.3,\"#f1b6da\"],[0.4,\"#fde0ef\"],[0.5,\"#f7f7f7\"],[0.6,\"#e6f5d0\"],[0.7,\"#b8e186\"],[0.8,\"#7fbc41\"],[0.9,\"#4d9221\"],[1,\"#276419\"]],\"sequential\":[[0.0,\"#0d0887\"],[0.1111111111111111,\"#46039f\"],[0.2222222222222222,\"#7201a8\"],[0.3333333333333333,\"#9c179e\"],[0.4444444444444444,\"#bd3786\"],[0.5555555555555556,\"#d8576b\"],[0.6666666666666666,\"#ed7953\"],[0.7777777777777778,\"#fb9f3a\"],[0.8888888888888888,\"#fdca26\"],[1.0,\"#f0f921\"]],\"sequentialminus\":[[0.0,\"#0d0887\"],[0.1111111111111111,\"#46039f\"],[0.2222222222222222,\"#7201a8\"],[0.3333333333333333,\"#9c179e\"],[0.4444444444444444,\"#bd3786\"],[0.5555555555555556,\"#d8576b\"],[0.6666666666666666,\"#ed7953\"],[0.7777777777777778,\"#fb9f3a\"],[0.8888888888888888,\"#fdca26\"],[1.0,\"#f0f921\"]]},\"colorway\":[\"#636efa\",\"#EF553B\",\"#00cc96\",\"#ab63fa\",\"#FFA15A\",\"#19d3f3\",\"#FF6692\",\"#B6E880\",\"#FF97FF\",\"#FECB52\"],\"font\":{\"color\":\"#2a3f5f\"},\"geo\":{\"bgcolor\":\"white\",\"lakecolor\":\"white\",\"landcolor\":\"#E5ECF6\",\"showlakes\":true,\"showland\":true,\"subunitcolor\":\"white\"},\"hoverlabel\":{\"align\":\"left\"},\"hovermode\":\"closest\",\"mapbox\":{\"style\":\"light\"},\"paper_bgcolor\":\"white\",\"plot_bgcolor\":\"#E5ECF6\",\"polar\":{\"angularaxis\":{\"gridcolor\":\"white\",\"linecolor\":\"white\",\"ticks\":\"\"},\"bgcolor\":\"#E5ECF6\",\"radialaxis\":{\"gridcolor\":\"white\",\"linecolor\":\"white\",\"ticks\":\"\"}},\"scene\":{\"xaxis\":{\"backgroundcolor\":\"#E5ECF6\",\"gridcolor\":\"white\",\"gridwidth\":2,\"linecolor\":\"white\",\"showbackground\":true,\"ticks\":\"\",\"zerolinecolor\":\"white\"},\"yaxis\":{\"backgroundcolor\":\"#E5ECF6\",\"gridcolor\":\"white\",\"gridwidth\":2,\"linecolor\":\"white\",\"showbackground\":true,\"ticks\":\"\",\"zerolinecolor\":\"white\"},\"zaxis\":{\"backgroundcolor\":\"#E5ECF6\",\"gridcolor\":\"white\",\"gridwidth\":2,\"linecolor\":\"white\",\"showbackground\":true,\"ticks\":\"\",\"zerolinecolor\":\"white\"}},\"shapedefaults\":{\"line\":{\"color\":\"#2a3f5f\"}},\"ternary\":{\"aaxis\":{\"gridcolor\":\"white\",\"linecolor\":\"white\",\"ticks\":\"\"},\"baxis\":{\"gridcolor\":\"white\",\"linecolor\":\"white\",\"ticks\":\"\"},\"bgcolor\":\"#E5ECF6\",\"caxis\":{\"gridcolor\":\"white\",\"linecolor\":\"white\",\"ticks\":\"\"}},\"title\":{\"x\":0.05},\"xaxis\":{\"automargin\":true,\"gridcolor\":\"white\",\"linecolor\":\"white\",\"ticks\":\"\",\"title\":{\"standoff\":15},\"zerolinecolor\":\"white\",\"zerolinewidth\":2},\"yaxis\":{\"automargin\":true,\"gridcolor\":\"white\",\"linecolor\":\"white\",\"ticks\":\"\",\"title\":{\"standoff\":15},\"zerolinecolor\":\"white\",\"zerolinewidth\":2}}},\"mapbox\":{\"domain\":{\"x\":[0.0,1.0],\"y\":[0.0,1.0]},\"center\":{\"lat\":43.292997402181015,\"lon\":-8.369570709085815},\"accesstoken\":\"pk.eyJ1IjoiZ3JhbmFudHVpbiIsImEiOiJja3B4dGU4OTkwMTFmMm9ycnNhMjJvaGJqIn0.VWzx_PkD9A5cSUVsn_ijCA\",\"zoom\":8},\"coloraxis\":{\"colorbar\":{\"title\":{\"text\":\"distance\"}},\"colorscale\":[[0.0,\"#000000\"],[0.0625,\"#001f4d\"],[0.125,\"#003786\"],[0.1875,\"#0e58a8\"],[0.25,\"#217eb8\"],[0.3125,\"#30a4ca\"],[0.375,\"#54c8df\"],[0.4375,\"#9be4ef\"],[0.5,\"#e1e9d1\"],[0.5625,\"#f3d573\"],[0.625,\"#e7b000\"],[0.6875,\"#da8200\"],[0.75,\"#c65400\"],[0.8125,\"#ac2301\"],[0.875,\"#820000\"],[0.9375,\"#4c0000\"],[1.0,\"#000000\"]]},\"legend\":{\"tracegroupgap\":0},\"title\":{\"text\":\"Nearest points\"}},                        {\"responsive\": true}                    ).then(function(){\n",
              "                            \n",
              "var gd = document.getElementById('2232d998-5b63-44fd-a442-c7cd77b04d34');\n",
              "var x = new MutationObserver(function (mutations, observer) {{\n",
              "        var display = window.getComputedStyle(gd).display;\n",
              "        if (!display || display === 'none') {{\n",
              "            console.log([gd, 'removed!']);\n",
              "            Plotly.purge(gd);\n",
              "            observer.disconnect();\n",
              "        }}\n",
              "}});\n",
              "\n",
              "// Listen for the removal of the full notebook cells\n",
              "var notebookContainer = gd.closest('#notebook-container');\n",
              "if (notebookContainer) {{\n",
              "    x.observe(notebookContainer, {childList: true});\n",
              "}}\n",
              "\n",
              "// Listen for the clearing of the current output cell\n",
              "var outputEl = gd.closest('.output');\n",
              "if (outputEl) {{\n",
              "    x.observe(outputEl, {childList: true});\n",
              "}}\n",
              "\n",
              "                        })                };                            </script>        </div>\n",
              "</body>\n",
              "</html>"
            ]
          },
          "metadata": {}
        }
      ]
    },
    {
      "cell_type": "code",
      "source": [
        "from scipy.stats import shapiro\n",
        "import pandas as pd\n",
        "\n",
        "\n",
        "station = pd.read_csv(\"/content/drive/MyDrive/Colab Notebooks/LECO/input_files/LECOY2018Y2022.csv\",\n",
        "                          usecols = [\"time\",\"mslp_o\"],\n",
        "                          parse_dates=[\"time\"]).set_index(\"time\")\n",
        "\n",
        "#Shapiro test normality\n",
        "print(\"Shapiro test normality\")\n",
        "\n",
        "\n",
        "sta, p = shapiro(station.mslp_o.sample(500))\n",
        "\n",
        "print(\"\\np value:\",p)\n",
        "#significance level alpha=0.01\n",
        "alpha = 0.01\n",
        "if p>alpha:\n",
        "  print(\"Accept null hypothesis: normal distribution pressure variable\\n\")\n",
        "else:\n",
        "  print(\"Reject null Hypothesis. Alternative hypothesis variable no normal distribution pressure variable\\n\")  \n",
        "\n",
        "                        \n",
        "station[\"mslp_o\"].describe()"
      ],
      "metadata": {
        "id": "OEX1x76AU35s",
        "colab": {
          "base_uri": "https://localhost:8080/"
        },
        "outputId": "598cbc8e-d1fe-4981-99c6-6fe90c6e052e"
      },
      "execution_count": 2,
      "outputs": [
        {
          "output_type": "stream",
          "name": "stdout",
          "text": [
            "Shapiro test normality\n",
            "\n",
            "p value: 5.188590876059607e-06\n",
            "Reject null Hypothesis. Alternative hypothesis variable no normal distribution pressure variable\n",
            "\n"
          ]
        },
        {
          "output_type": "execute_result",
          "data": {
            "text/plain": [
              "count    89594.000000\n",
              "mean      1017.871621\n",
              "std          7.482318\n",
              "min        975.000000\n",
              "25%       1014.000000\n",
              "50%       1018.000000\n",
              "75%       1022.000000\n",
              "max       1038.000000\n",
              "Name: mslp_o, dtype: float64"
            ]
          },
          "metadata": {},
          "execution_count": 2
        }
      ]
    },
    {
      "cell_type": "markdown",
      "source": [
        "**Forecast **"
      ],
      "metadata": {
        "id": "eXs3F5ZTnQ8M"
      }
    },
    {
      "cell_type": "code",
      "source": [
        "#Load\n",
        "mody2018 = pd.read_csv(\"/content/drive/MyDrive/Colab Notebooks/LECO/input_files/lat43.302lon-8.377p4R4KmD1Y2018.csv\",parse_dates=[\"time\"])\n",
        "mody2019 = pd.read_csv(\"/content/drive/MyDrive/Colab Notebooks/LECO/input_files/lat43.302lon-8.377p4R4KmD1Y2019.csv\",parse_dates=[\"time\"])\n",
        "mody2020 = pd.read_csv(\"/content/drive/MyDrive/Colab Notebooks/LECO/input_files/lat43.302lon-8.377p4R4KmD1Y2020.csv\",parse_dates=[\"time\"])\n",
        "mody2021 = pd.read_csv(\"/content/drive/MyDrive/Colab Notebooks/LECO/input_files/lat43.302lon-8.377p4R4KmD1Y2021.csv\",parse_dates=[\"time\"])\n",
        "mody2022 = pd.read_csv(\"/content/drive/MyDrive/Colab Notebooks/LECO/input_files/lat43.302lon-8.377p4R4KmD1Y2022.csv\",parse_dates=[\"time\"])\n",
        "model1k = pd.concat([mody2018,mody2019,mody2020,mody2021,mody2022]).drop(columns=[\"Unnamed: 0\"]).set_index(\"time\")\n",
        "\n",
        "model1k"
      ],
      "metadata": {
        "id": "o5ZTRduTZ36H",
        "colab": {
          "base_uri": "https://localhost:8080/",
          "height": 866
        },
        "outputId": "e6a33f66-5fd6-487a-b5ea-e37c37cd86de"
      },
      "execution_count": 3,
      "outputs": [
        {
          "output_type": "execute_result",
          "data": {
            "text/plain": [
              "                           dir0  snow_prec0   snowlevel0      mod0  \\\n",
              "time                                                                 \n",
              "2018-01-02 00:00:00  232.116882         0.0  1536.151245  6.673357   \n",
              "2018-01-02 01:00:00  231.433868         0.0  1600.927490  7.663245   \n",
              "2018-01-02 02:00:00  230.558472         0.0  1614.554321  7.296363   \n",
              "2018-01-02 03:00:00  234.801254         0.0  1622.880859  6.550061   \n",
              "2018-01-02 04:00:00  233.509735         0.0  1698.536133  7.280656   \n",
              "...                         ...         ...          ...       ...   \n",
              "2023-01-01 19:00:00  222.438339         0.0  1413.273926  3.480232   \n",
              "2023-01-01 20:00:00  236.080597         0.0  1425.150757  4.493026   \n",
              "2023-01-01 21:00:00  243.114624         0.0  1374.339600  4.680808   \n",
              "2023-01-01 22:00:00  238.143433         0.0  1352.922974  3.544768   \n",
              "2023-01-01 23:00:00  235.967514         0.0  1271.173584  3.106601   \n",
              "\n",
              "                     wind_gust0          mslp0       temp0       rh0  \\\n",
              "time                                                                   \n",
              "2018-01-02 00:00:00   15.847702  102913.742188  287.020935  0.878536   \n",
              "2018-01-02 01:00:00   16.997808  102830.460938  287.384613  0.866039   \n",
              "2018-01-02 02:00:00   16.141504  102797.046875  287.456238  0.874109   \n",
              "2018-01-02 03:00:00   14.820992  102707.976562  287.640747  0.884587   \n",
              "2018-01-02 04:00:00   16.431499  102714.929688  287.973114  0.864839   \n",
              "...                         ...            ...         ...       ...   \n",
              "2023-01-01 19:00:00    8.724230  101416.109375  284.580383  0.828276   \n",
              "2023-01-01 20:00:00    9.884865  101530.671875  284.500244  0.859321   \n",
              "2023-01-01 21:00:00    9.837169  101588.718750  284.540619  0.847495   \n",
              "2023-01-01 22:00:00    7.039274  101657.453125  284.066376  0.872991   \n",
              "2023-01-01 23:00:00    5.719226  101724.492188  283.935181  0.880705   \n",
              "\n",
              "                      visibility0     lhflx0  ...       cape3       cin3  \\\n",
              "time                                          ...                          \n",
              "2018-01-02 00:00:00  24035.375000  14.237828  ...    0.000000  -0.000438   \n",
              "2018-01-02 01:00:00  24233.882812  18.512604  ...    0.000000  -0.000438   \n",
              "2018-01-02 02:00:00  24232.816406  16.743593  ...    0.000000  -0.000105   \n",
              "2018-01-02 03:00:00   4635.833984  15.291382  ...    0.000000  -0.000125   \n",
              "2018-01-02 04:00:00  24233.916016  19.287750  ...    0.000000   0.000562   \n",
              "...                           ...        ...  ...         ...        ...   \n",
              "2023-01-01 19:00:00  24046.664062   9.276939  ...   69.529999 -15.124957   \n",
              "2023-01-01 20:00:00  24048.144531   9.792046  ...  118.860001 -13.584320   \n",
              "2023-01-01 21:00:00  24051.210938  11.269343  ...  155.720001 -13.667031   \n",
              "2023-01-01 22:00:00  24044.263672   6.801558  ...  212.419998 -11.919609   \n",
              "2023-01-01 23:00:00  24043.761719   5.407933  ...  240.720001 -15.033710   \n",
              "\n",
              "                         cfh3      cfl3      cfm3      cft3      HGT5003  \\\n",
              "time                                                                       \n",
              "2018-01-02 00:00:00  0.000000  0.089097  0.000000  0.089097  5693.558105   \n",
              "2018-01-02 01:00:00  0.000000  0.500000  0.200000  0.500000  5691.708008   \n",
              "2018-01-02 02:00:00  0.000000  0.254035  0.343750  0.343750  5690.079102   \n",
              "2018-01-02 03:00:00  0.289062  0.531250  0.734375  0.734375  5690.610840   \n",
              "2018-01-02 04:00:00  0.400000  0.656250  0.515625  0.656250  5690.393066   \n",
              "...                       ...       ...       ...       ...          ...   \n",
              "2023-01-01 19:00:00  0.400000  0.000000  0.000000  0.400000  5472.100098   \n",
              "2023-01-01 20:00:00  0.300000  0.000000  0.000000  0.300000  5467.734863   \n",
              "2023-01-01 21:00:00  0.500000  0.200000  0.000000  0.500000  5461.733887   \n",
              "2023-01-01 22:00:00  0.200000  0.000000  0.000000  0.200000  5457.067871   \n",
              "2023-01-01 23:00:00  0.000000  0.000000  0.007812  0.007812  5455.431152   \n",
              "\n",
              "                         HGT8503       T5003       T8503  \n",
              "time                                                      \n",
              "2018-01-02 00:00:00  1584.069946  254.864120  278.437256  \n",
              "2018-01-02 01:00:00  1580.140015  254.976685  279.093506  \n",
              "2018-01-02 02:00:00  1577.298950  255.064560  279.292755  \n",
              "2018-01-02 03:00:00  1572.140015  254.839066  279.247864  \n",
              "2018-01-02 04:00:00  1574.123047  255.089691  280.121765  \n",
              "...                          ...         ...         ...  \n",
              "2023-01-01 19:00:00  1437.536987  252.078400  275.643860  \n",
              "2023-01-01 20:00:00  1445.677002  250.850891  275.983063  \n",
              "2023-01-01 21:00:00  1450.810913  249.648865  275.520691  \n",
              "2023-01-01 22:00:00  1455.508545  248.522766  275.811554  \n",
              "2023-01-01 23:00:00  1461.139038  247.032303  275.489502  \n",
              "\n",
              "[43776 rows x 100 columns]"
            ],
            "text/html": [
              "\n",
              "  <div id=\"df-3ad70858-192f-4c8a-99be-ec7d720576a0\">\n",
              "    <div class=\"colab-df-container\">\n",
              "      <div>\n",
              "<style scoped>\n",
              "    .dataframe tbody tr th:only-of-type {\n",
              "        vertical-align: middle;\n",
              "    }\n",
              "\n",
              "    .dataframe tbody tr th {\n",
              "        vertical-align: top;\n",
              "    }\n",
              "\n",
              "    .dataframe thead th {\n",
              "        text-align: right;\n",
              "    }\n",
              "</style>\n",
              "<table border=\"1\" class=\"dataframe\">\n",
              "  <thead>\n",
              "    <tr style=\"text-align: right;\">\n",
              "      <th></th>\n",
              "      <th>dir0</th>\n",
              "      <th>snow_prec0</th>\n",
              "      <th>snowlevel0</th>\n",
              "      <th>mod0</th>\n",
              "      <th>wind_gust0</th>\n",
              "      <th>mslp0</th>\n",
              "      <th>temp0</th>\n",
              "      <th>rh0</th>\n",
              "      <th>visibility0</th>\n",
              "      <th>lhflx0</th>\n",
              "      <th>...</th>\n",
              "      <th>cape3</th>\n",
              "      <th>cin3</th>\n",
              "      <th>cfh3</th>\n",
              "      <th>cfl3</th>\n",
              "      <th>cfm3</th>\n",
              "      <th>cft3</th>\n",
              "      <th>HGT5003</th>\n",
              "      <th>HGT8503</th>\n",
              "      <th>T5003</th>\n",
              "      <th>T8503</th>\n",
              "    </tr>\n",
              "    <tr>\n",
              "      <th>time</th>\n",
              "      <th></th>\n",
              "      <th></th>\n",
              "      <th></th>\n",
              "      <th></th>\n",
              "      <th></th>\n",
              "      <th></th>\n",
              "      <th></th>\n",
              "      <th></th>\n",
              "      <th></th>\n",
              "      <th></th>\n",
              "      <th></th>\n",
              "      <th></th>\n",
              "      <th></th>\n",
              "      <th></th>\n",
              "      <th></th>\n",
              "      <th></th>\n",
              "      <th></th>\n",
              "      <th></th>\n",
              "      <th></th>\n",
              "      <th></th>\n",
              "      <th></th>\n",
              "    </tr>\n",
              "  </thead>\n",
              "  <tbody>\n",
              "    <tr>\n",
              "      <th>2018-01-02 00:00:00</th>\n",
              "      <td>232.116882</td>\n",
              "      <td>0.0</td>\n",
              "      <td>1536.151245</td>\n",
              "      <td>6.673357</td>\n",
              "      <td>15.847702</td>\n",
              "      <td>102913.742188</td>\n",
              "      <td>287.020935</td>\n",
              "      <td>0.878536</td>\n",
              "      <td>24035.375000</td>\n",
              "      <td>14.237828</td>\n",
              "      <td>...</td>\n",
              "      <td>0.000000</td>\n",
              "      <td>-0.000438</td>\n",
              "      <td>0.000000</td>\n",
              "      <td>0.089097</td>\n",
              "      <td>0.000000</td>\n",
              "      <td>0.089097</td>\n",
              "      <td>5693.558105</td>\n",
              "      <td>1584.069946</td>\n",
              "      <td>254.864120</td>\n",
              "      <td>278.437256</td>\n",
              "    </tr>\n",
              "    <tr>\n",
              "      <th>2018-01-02 01:00:00</th>\n",
              "      <td>231.433868</td>\n",
              "      <td>0.0</td>\n",
              "      <td>1600.927490</td>\n",
              "      <td>7.663245</td>\n",
              "      <td>16.997808</td>\n",
              "      <td>102830.460938</td>\n",
              "      <td>287.384613</td>\n",
              "      <td>0.866039</td>\n",
              "      <td>24233.882812</td>\n",
              "      <td>18.512604</td>\n",
              "      <td>...</td>\n",
              "      <td>0.000000</td>\n",
              "      <td>-0.000438</td>\n",
              "      <td>0.000000</td>\n",
              "      <td>0.500000</td>\n",
              "      <td>0.200000</td>\n",
              "      <td>0.500000</td>\n",
              "      <td>5691.708008</td>\n",
              "      <td>1580.140015</td>\n",
              "      <td>254.976685</td>\n",
              "      <td>279.093506</td>\n",
              "    </tr>\n",
              "    <tr>\n",
              "      <th>2018-01-02 02:00:00</th>\n",
              "      <td>230.558472</td>\n",
              "      <td>0.0</td>\n",
              "      <td>1614.554321</td>\n",
              "      <td>7.296363</td>\n",
              "      <td>16.141504</td>\n",
              "      <td>102797.046875</td>\n",
              "      <td>287.456238</td>\n",
              "      <td>0.874109</td>\n",
              "      <td>24232.816406</td>\n",
              "      <td>16.743593</td>\n",
              "      <td>...</td>\n",
              "      <td>0.000000</td>\n",
              "      <td>-0.000105</td>\n",
              "      <td>0.000000</td>\n",
              "      <td>0.254035</td>\n",
              "      <td>0.343750</td>\n",
              "      <td>0.343750</td>\n",
              "      <td>5690.079102</td>\n",
              "      <td>1577.298950</td>\n",
              "      <td>255.064560</td>\n",
              "      <td>279.292755</td>\n",
              "    </tr>\n",
              "    <tr>\n",
              "      <th>2018-01-02 03:00:00</th>\n",
              "      <td>234.801254</td>\n",
              "      <td>0.0</td>\n",
              "      <td>1622.880859</td>\n",
              "      <td>6.550061</td>\n",
              "      <td>14.820992</td>\n",
              "      <td>102707.976562</td>\n",
              "      <td>287.640747</td>\n",
              "      <td>0.884587</td>\n",
              "      <td>4635.833984</td>\n",
              "      <td>15.291382</td>\n",
              "      <td>...</td>\n",
              "      <td>0.000000</td>\n",
              "      <td>-0.000125</td>\n",
              "      <td>0.289062</td>\n",
              "      <td>0.531250</td>\n",
              "      <td>0.734375</td>\n",
              "      <td>0.734375</td>\n",
              "      <td>5690.610840</td>\n",
              "      <td>1572.140015</td>\n",
              "      <td>254.839066</td>\n",
              "      <td>279.247864</td>\n",
              "    </tr>\n",
              "    <tr>\n",
              "      <th>2018-01-02 04:00:00</th>\n",
              "      <td>233.509735</td>\n",
              "      <td>0.0</td>\n",
              "      <td>1698.536133</td>\n",
              "      <td>7.280656</td>\n",
              "      <td>16.431499</td>\n",
              "      <td>102714.929688</td>\n",
              "      <td>287.973114</td>\n",
              "      <td>0.864839</td>\n",
              "      <td>24233.916016</td>\n",
              "      <td>19.287750</td>\n",
              "      <td>...</td>\n",
              "      <td>0.000000</td>\n",
              "      <td>0.000562</td>\n",
              "      <td>0.400000</td>\n",
              "      <td>0.656250</td>\n",
              "      <td>0.515625</td>\n",
              "      <td>0.656250</td>\n",
              "      <td>5690.393066</td>\n",
              "      <td>1574.123047</td>\n",
              "      <td>255.089691</td>\n",
              "      <td>280.121765</td>\n",
              "    </tr>\n",
              "    <tr>\n",
              "      <th>...</th>\n",
              "      <td>...</td>\n",
              "      <td>...</td>\n",
              "      <td>...</td>\n",
              "      <td>...</td>\n",
              "      <td>...</td>\n",
              "      <td>...</td>\n",
              "      <td>...</td>\n",
              "      <td>...</td>\n",
              "      <td>...</td>\n",
              "      <td>...</td>\n",
              "      <td>...</td>\n",
              "      <td>...</td>\n",
              "      <td>...</td>\n",
              "      <td>...</td>\n",
              "      <td>...</td>\n",
              "      <td>...</td>\n",
              "      <td>...</td>\n",
              "      <td>...</td>\n",
              "      <td>...</td>\n",
              "      <td>...</td>\n",
              "      <td>...</td>\n",
              "    </tr>\n",
              "    <tr>\n",
              "      <th>2023-01-01 19:00:00</th>\n",
              "      <td>222.438339</td>\n",
              "      <td>0.0</td>\n",
              "      <td>1413.273926</td>\n",
              "      <td>3.480232</td>\n",
              "      <td>8.724230</td>\n",
              "      <td>101416.109375</td>\n",
              "      <td>284.580383</td>\n",
              "      <td>0.828276</td>\n",
              "      <td>24046.664062</td>\n",
              "      <td>9.276939</td>\n",
              "      <td>...</td>\n",
              "      <td>69.529999</td>\n",
              "      <td>-15.124957</td>\n",
              "      <td>0.400000</td>\n",
              "      <td>0.000000</td>\n",
              "      <td>0.000000</td>\n",
              "      <td>0.400000</td>\n",
              "      <td>5472.100098</td>\n",
              "      <td>1437.536987</td>\n",
              "      <td>252.078400</td>\n",
              "      <td>275.643860</td>\n",
              "    </tr>\n",
              "    <tr>\n",
              "      <th>2023-01-01 20:00:00</th>\n",
              "      <td>236.080597</td>\n",
              "      <td>0.0</td>\n",
              "      <td>1425.150757</td>\n",
              "      <td>4.493026</td>\n",
              "      <td>9.884865</td>\n",
              "      <td>101530.671875</td>\n",
              "      <td>284.500244</td>\n",
              "      <td>0.859321</td>\n",
              "      <td>24048.144531</td>\n",
              "      <td>9.792046</td>\n",
              "      <td>...</td>\n",
              "      <td>118.860001</td>\n",
              "      <td>-13.584320</td>\n",
              "      <td>0.300000</td>\n",
              "      <td>0.000000</td>\n",
              "      <td>0.000000</td>\n",
              "      <td>0.300000</td>\n",
              "      <td>5467.734863</td>\n",
              "      <td>1445.677002</td>\n",
              "      <td>250.850891</td>\n",
              "      <td>275.983063</td>\n",
              "    </tr>\n",
              "    <tr>\n",
              "      <th>2023-01-01 21:00:00</th>\n",
              "      <td>243.114624</td>\n",
              "      <td>0.0</td>\n",
              "      <td>1374.339600</td>\n",
              "      <td>4.680808</td>\n",
              "      <td>9.837169</td>\n",
              "      <td>101588.718750</td>\n",
              "      <td>284.540619</td>\n",
              "      <td>0.847495</td>\n",
              "      <td>24051.210938</td>\n",
              "      <td>11.269343</td>\n",
              "      <td>...</td>\n",
              "      <td>155.720001</td>\n",
              "      <td>-13.667031</td>\n",
              "      <td>0.500000</td>\n",
              "      <td>0.200000</td>\n",
              "      <td>0.000000</td>\n",
              "      <td>0.500000</td>\n",
              "      <td>5461.733887</td>\n",
              "      <td>1450.810913</td>\n",
              "      <td>249.648865</td>\n",
              "      <td>275.520691</td>\n",
              "    </tr>\n",
              "    <tr>\n",
              "      <th>2023-01-01 22:00:00</th>\n",
              "      <td>238.143433</td>\n",
              "      <td>0.0</td>\n",
              "      <td>1352.922974</td>\n",
              "      <td>3.544768</td>\n",
              "      <td>7.039274</td>\n",
              "      <td>101657.453125</td>\n",
              "      <td>284.066376</td>\n",
              "      <td>0.872991</td>\n",
              "      <td>24044.263672</td>\n",
              "      <td>6.801558</td>\n",
              "      <td>...</td>\n",
              "      <td>212.419998</td>\n",
              "      <td>-11.919609</td>\n",
              "      <td>0.200000</td>\n",
              "      <td>0.000000</td>\n",
              "      <td>0.000000</td>\n",
              "      <td>0.200000</td>\n",
              "      <td>5457.067871</td>\n",
              "      <td>1455.508545</td>\n",
              "      <td>248.522766</td>\n",
              "      <td>275.811554</td>\n",
              "    </tr>\n",
              "    <tr>\n",
              "      <th>2023-01-01 23:00:00</th>\n",
              "      <td>235.967514</td>\n",
              "      <td>0.0</td>\n",
              "      <td>1271.173584</td>\n",
              "      <td>3.106601</td>\n",
              "      <td>5.719226</td>\n",
              "      <td>101724.492188</td>\n",
              "      <td>283.935181</td>\n",
              "      <td>0.880705</td>\n",
              "      <td>24043.761719</td>\n",
              "      <td>5.407933</td>\n",
              "      <td>...</td>\n",
              "      <td>240.720001</td>\n",
              "      <td>-15.033710</td>\n",
              "      <td>0.000000</td>\n",
              "      <td>0.000000</td>\n",
              "      <td>0.007812</td>\n",
              "      <td>0.007812</td>\n",
              "      <td>5455.431152</td>\n",
              "      <td>1461.139038</td>\n",
              "      <td>247.032303</td>\n",
              "      <td>275.489502</td>\n",
              "    </tr>\n",
              "  </tbody>\n",
              "</table>\n",
              "<p>43776 rows × 100 columns</p>\n",
              "</div>\n",
              "      <button class=\"colab-df-convert\" onclick=\"convertToInteractive('df-3ad70858-192f-4c8a-99be-ec7d720576a0')\"\n",
              "              title=\"Convert this dataframe to an interactive table.\"\n",
              "              style=\"display:none;\">\n",
              "        \n",
              "  <svg xmlns=\"http://www.w3.org/2000/svg\" height=\"24px\"viewBox=\"0 0 24 24\"\n",
              "       width=\"24px\">\n",
              "    <path d=\"M0 0h24v24H0V0z\" fill=\"none\"/>\n",
              "    <path d=\"M18.56 5.44l.94 2.06.94-2.06 2.06-.94-2.06-.94-.94-2.06-.94 2.06-2.06.94zm-11 1L8.5 8.5l.94-2.06 2.06-.94-2.06-.94L8.5 2.5l-.94 2.06-2.06.94zm10 10l.94 2.06.94-2.06 2.06-.94-2.06-.94-.94-2.06-.94 2.06-2.06.94z\"/><path d=\"M17.41 7.96l-1.37-1.37c-.4-.4-.92-.59-1.43-.59-.52 0-1.04.2-1.43.59L10.3 9.45l-7.72 7.72c-.78.78-.78 2.05 0 2.83L4 21.41c.39.39.9.59 1.41.59.51 0 1.02-.2 1.41-.59l7.78-7.78 2.81-2.81c.8-.78.8-2.07 0-2.86zM5.41 20L4 18.59l7.72-7.72 1.47 1.35L5.41 20z\"/>\n",
              "  </svg>\n",
              "      </button>\n",
              "      \n",
              "  <style>\n",
              "    .colab-df-container {\n",
              "      display:flex;\n",
              "      flex-wrap:wrap;\n",
              "      gap: 12px;\n",
              "    }\n",
              "\n",
              "    .colab-df-convert {\n",
              "      background-color: #E8F0FE;\n",
              "      border: none;\n",
              "      border-radius: 50%;\n",
              "      cursor: pointer;\n",
              "      display: none;\n",
              "      fill: #1967D2;\n",
              "      height: 32px;\n",
              "      padding: 0 0 0 0;\n",
              "      width: 32px;\n",
              "    }\n",
              "\n",
              "    .colab-df-convert:hover {\n",
              "      background-color: #E2EBFA;\n",
              "      box-shadow: 0px 1px 2px rgba(60, 64, 67, 0.3), 0px 1px 3px 1px rgba(60, 64, 67, 0.15);\n",
              "      fill: #174EA6;\n",
              "    }\n",
              "\n",
              "    [theme=dark] .colab-df-convert {\n",
              "      background-color: #3B4455;\n",
              "      fill: #D2E3FC;\n",
              "    }\n",
              "\n",
              "    [theme=dark] .colab-df-convert:hover {\n",
              "      background-color: #434B5C;\n",
              "      box-shadow: 0px 1px 3px 1px rgba(0, 0, 0, 0.15);\n",
              "      filter: drop-shadow(0px 1px 2px rgba(0, 0, 0, 0.3));\n",
              "      fill: #FFFFFF;\n",
              "    }\n",
              "  </style>\n",
              "\n",
              "      <script>\n",
              "        const buttonEl =\n",
              "          document.querySelector('#df-3ad70858-192f-4c8a-99be-ec7d720576a0 button.colab-df-convert');\n",
              "        buttonEl.style.display =\n",
              "          google.colab.kernel.accessAllowed ? 'block' : 'none';\n",
              "\n",
              "        async function convertToInteractive(key) {\n",
              "          const element = document.querySelector('#df-3ad70858-192f-4c8a-99be-ec7d720576a0');\n",
              "          const dataTable =\n",
              "            await google.colab.kernel.invokeFunction('convertToInteractive',\n",
              "                                                     [key], {});\n",
              "          if (!dataTable) return;\n",
              "\n",
              "          const docLinkHtml = 'Like what you see? Visit the ' +\n",
              "            '<a target=\"_blank\" href=https://colab.research.google.com/notebooks/data_table.ipynb>data table notebook</a>'\n",
              "            + ' to learn more about interactive tables.';\n",
              "          element.innerHTML = '';\n",
              "          dataTable['output_type'] = 'display_data';\n",
              "          await google.colab.output.renderOutput(dataTable, element);\n",
              "          const docLink = document.createElement('div');\n",
              "          docLink.innerHTML = docLinkHtml;\n",
              "          element.appendChild(docLink);\n",
              "        }\n",
              "      </script>\n",
              "    </div>\n",
              "  </div>\n",
              "  "
            ]
          },
          "metadata": {},
          "execution_count": 3
        }
      ]
    },
    {
      "cell_type": "code",
      "source": [
        "#concat station model\n",
        "df_all1k = pd.concat([station,model1k],axis=1).dropna()\n",
        "df_all1k"
      ],
      "metadata": {
        "colab": {
          "base_uri": "https://localhost:8080/",
          "height": 866
        },
        "id": "Pew3L8PHgA0R",
        "outputId": "87d89181-ee0a-4f4f-d0d8-87f43ef35460"
      },
      "execution_count": 4,
      "outputs": [
        {
          "output_type": "execute_result",
          "data": {
            "text/plain": [
              "                     mslp_o        dir0  snow_prec0   snowlevel0       mod0  \\\n",
              "time                                                                          \n",
              "2018-01-02 00:00:00  1029.0  232.116882         0.0  1536.151245   6.673357   \n",
              "2018-01-02 01:00:00  1028.0  231.433868         0.0  1600.927490   7.663245   \n",
              "2018-01-02 02:00:00  1028.0  230.558472         0.0  1614.554321   7.296363   \n",
              "2018-01-02 03:00:00  1028.0  234.801254         0.0  1622.880859   6.550061   \n",
              "2018-01-02 04:00:00  1027.0  233.509735         0.0  1698.536133   7.280656   \n",
              "...                     ...         ...         ...          ...        ...   \n",
              "2022-12-30 19:00:00  1013.0  203.106339         0.0  2146.382812  10.008086   \n",
              "2022-12-30 20:00:00  1013.0  200.402176         0.0  2225.509766   9.753554   \n",
              "2022-12-30 21:00:00  1013.0  200.935623         0.0  2201.756836  10.804831   \n",
              "2022-12-30 22:00:00  1013.0  200.267090         0.0  2184.601562  10.619587   \n",
              "2022-12-30 23:00:00  1013.0  201.975098         0.0  2136.228271  10.659534   \n",
              "\n",
              "                     wind_gust0          mslp0       temp0       rh0  \\\n",
              "time                                                                   \n",
              "2018-01-02 00:00:00   15.847702  102913.742188  287.020935  0.878536   \n",
              "2018-01-02 01:00:00   16.997808  102830.460938  287.384613  0.866039   \n",
              "2018-01-02 02:00:00   16.141504  102797.046875  287.456238  0.874109   \n",
              "2018-01-02 03:00:00   14.820992  102707.976562  287.640747  0.884587   \n",
              "2018-01-02 04:00:00   16.431499  102714.929688  287.973114  0.864839   \n",
              "...                         ...            ...         ...       ...   \n",
              "2022-12-30 19:00:00   20.116726  101246.242188  289.797638  0.852191   \n",
              "2022-12-30 20:00:00   20.561062  101280.718750  289.646881  0.853204   \n",
              "2022-12-30 21:00:00   21.116741  101287.921875  289.878937  0.840266   \n",
              "2022-12-30 22:00:00   20.339075  101276.820312  289.768433  0.848708   \n",
              "2022-12-30 23:00:00   20.223284  101283.617188  289.763062  0.845492   \n",
              "\n",
              "                      visibility0  ...  cape3      cin3      cfh3      cfl3  \\\n",
              "time                               ...                                        \n",
              "2018-01-02 00:00:00  24035.375000  ...   0.00 -0.000438  0.000000  0.089097   \n",
              "2018-01-02 01:00:00  24233.882812  ...   0.00 -0.000438  0.000000  0.500000   \n",
              "2018-01-02 02:00:00  24232.816406  ...   0.00 -0.000105  0.000000  0.254035   \n",
              "2018-01-02 03:00:00   4635.833984  ...   0.00 -0.000125  0.289062  0.531250   \n",
              "2018-01-02 04:00:00  24233.916016  ...   0.00  0.000562  0.400000  0.656250   \n",
              "...                           ...  ...    ...       ...       ...       ...   \n",
              "2022-12-30 19:00:00  24037.156250  ...   1.88 -7.118680  0.500000  0.523438   \n",
              "2022-12-30 20:00:00  24038.056641  ...   2.13 -7.964000  0.400000  0.468750   \n",
              "2022-12-30 21:00:00  24234.199219  ...   5.40 -7.467734  0.500000  0.468750   \n",
              "2022-12-30 22:00:00  24233.261719  ...   7.06 -7.167746  0.000000  0.531250   \n",
              "2022-12-30 23:00:00  24234.580078  ...   8.80 -7.387965  0.100000  0.570312   \n",
              "\n",
              "                         cfm3      cft3      HGT5003      HGT8503       T5003  \\\n",
              "time                                                                            \n",
              "2018-01-02 00:00:00  0.000000  0.089097  5693.558105  1584.069946  254.864120   \n",
              "2018-01-02 01:00:00  0.200000  0.500000  5691.708008  1580.140015  254.976685   \n",
              "2018-01-02 02:00:00  0.343750  0.343750  5690.079102  1577.298950  255.064560   \n",
              "2018-01-02 03:00:00  0.734375  0.734375  5690.610840  1572.140015  254.839066   \n",
              "2018-01-02 04:00:00  0.515625  0.656250  5690.393066  1574.123047  255.089691   \n",
              "...                       ...       ...          ...          ...         ...   \n",
              "2022-12-30 19:00:00  0.000000  0.523438  5601.289062  1451.552979  256.711487   \n",
              "2022-12-30 20:00:00  0.000000  0.468750  5604.474121  1455.128052  256.961884   \n",
              "2022-12-30 21:00:00  0.000000  0.500000  5605.371094  1455.172974  257.088867   \n",
              "2022-12-30 22:00:00  0.000000  0.531250  5604.672852  1452.702026  257.069611   \n",
              "2022-12-30 23:00:00  0.000000  0.570312  5604.437988  1453.411011  257.346130   \n",
              "\n",
              "                          T8503  \n",
              "time                             \n",
              "2018-01-02 00:00:00  278.437256  \n",
              "2018-01-02 01:00:00  279.093506  \n",
              "2018-01-02 02:00:00  279.292755  \n",
              "2018-01-02 03:00:00  279.247864  \n",
              "2018-01-02 04:00:00  280.121765  \n",
              "...                         ...  \n",
              "2022-12-30 19:00:00  281.517120  \n",
              "2022-12-30 20:00:00  282.021515  \n",
              "2022-12-30 21:00:00  281.514496  \n",
              "2022-12-30 22:00:00  281.291199  \n",
              "2022-12-30 23:00:00  280.736450  \n",
              "\n",
              "[43527 rows x 101 columns]"
            ],
            "text/html": [
              "\n",
              "  <div id=\"df-5eac538f-fc27-4509-9726-1396e1a5fe43\">\n",
              "    <div class=\"colab-df-container\">\n",
              "      <div>\n",
              "<style scoped>\n",
              "    .dataframe tbody tr th:only-of-type {\n",
              "        vertical-align: middle;\n",
              "    }\n",
              "\n",
              "    .dataframe tbody tr th {\n",
              "        vertical-align: top;\n",
              "    }\n",
              "\n",
              "    .dataframe thead th {\n",
              "        text-align: right;\n",
              "    }\n",
              "</style>\n",
              "<table border=\"1\" class=\"dataframe\">\n",
              "  <thead>\n",
              "    <tr style=\"text-align: right;\">\n",
              "      <th></th>\n",
              "      <th>mslp_o</th>\n",
              "      <th>dir0</th>\n",
              "      <th>snow_prec0</th>\n",
              "      <th>snowlevel0</th>\n",
              "      <th>mod0</th>\n",
              "      <th>wind_gust0</th>\n",
              "      <th>mslp0</th>\n",
              "      <th>temp0</th>\n",
              "      <th>rh0</th>\n",
              "      <th>visibility0</th>\n",
              "      <th>...</th>\n",
              "      <th>cape3</th>\n",
              "      <th>cin3</th>\n",
              "      <th>cfh3</th>\n",
              "      <th>cfl3</th>\n",
              "      <th>cfm3</th>\n",
              "      <th>cft3</th>\n",
              "      <th>HGT5003</th>\n",
              "      <th>HGT8503</th>\n",
              "      <th>T5003</th>\n",
              "      <th>T8503</th>\n",
              "    </tr>\n",
              "    <tr>\n",
              "      <th>time</th>\n",
              "      <th></th>\n",
              "      <th></th>\n",
              "      <th></th>\n",
              "      <th></th>\n",
              "      <th></th>\n",
              "      <th></th>\n",
              "      <th></th>\n",
              "      <th></th>\n",
              "      <th></th>\n",
              "      <th></th>\n",
              "      <th></th>\n",
              "      <th></th>\n",
              "      <th></th>\n",
              "      <th></th>\n",
              "      <th></th>\n",
              "      <th></th>\n",
              "      <th></th>\n",
              "      <th></th>\n",
              "      <th></th>\n",
              "      <th></th>\n",
              "      <th></th>\n",
              "    </tr>\n",
              "  </thead>\n",
              "  <tbody>\n",
              "    <tr>\n",
              "      <th>2018-01-02 00:00:00</th>\n",
              "      <td>1029.0</td>\n",
              "      <td>232.116882</td>\n",
              "      <td>0.0</td>\n",
              "      <td>1536.151245</td>\n",
              "      <td>6.673357</td>\n",
              "      <td>15.847702</td>\n",
              "      <td>102913.742188</td>\n",
              "      <td>287.020935</td>\n",
              "      <td>0.878536</td>\n",
              "      <td>24035.375000</td>\n",
              "      <td>...</td>\n",
              "      <td>0.00</td>\n",
              "      <td>-0.000438</td>\n",
              "      <td>0.000000</td>\n",
              "      <td>0.089097</td>\n",
              "      <td>0.000000</td>\n",
              "      <td>0.089097</td>\n",
              "      <td>5693.558105</td>\n",
              "      <td>1584.069946</td>\n",
              "      <td>254.864120</td>\n",
              "      <td>278.437256</td>\n",
              "    </tr>\n",
              "    <tr>\n",
              "      <th>2018-01-02 01:00:00</th>\n",
              "      <td>1028.0</td>\n",
              "      <td>231.433868</td>\n",
              "      <td>0.0</td>\n",
              "      <td>1600.927490</td>\n",
              "      <td>7.663245</td>\n",
              "      <td>16.997808</td>\n",
              "      <td>102830.460938</td>\n",
              "      <td>287.384613</td>\n",
              "      <td>0.866039</td>\n",
              "      <td>24233.882812</td>\n",
              "      <td>...</td>\n",
              "      <td>0.00</td>\n",
              "      <td>-0.000438</td>\n",
              "      <td>0.000000</td>\n",
              "      <td>0.500000</td>\n",
              "      <td>0.200000</td>\n",
              "      <td>0.500000</td>\n",
              "      <td>5691.708008</td>\n",
              "      <td>1580.140015</td>\n",
              "      <td>254.976685</td>\n",
              "      <td>279.093506</td>\n",
              "    </tr>\n",
              "    <tr>\n",
              "      <th>2018-01-02 02:00:00</th>\n",
              "      <td>1028.0</td>\n",
              "      <td>230.558472</td>\n",
              "      <td>0.0</td>\n",
              "      <td>1614.554321</td>\n",
              "      <td>7.296363</td>\n",
              "      <td>16.141504</td>\n",
              "      <td>102797.046875</td>\n",
              "      <td>287.456238</td>\n",
              "      <td>0.874109</td>\n",
              "      <td>24232.816406</td>\n",
              "      <td>...</td>\n",
              "      <td>0.00</td>\n",
              "      <td>-0.000105</td>\n",
              "      <td>0.000000</td>\n",
              "      <td>0.254035</td>\n",
              "      <td>0.343750</td>\n",
              "      <td>0.343750</td>\n",
              "      <td>5690.079102</td>\n",
              "      <td>1577.298950</td>\n",
              "      <td>255.064560</td>\n",
              "      <td>279.292755</td>\n",
              "    </tr>\n",
              "    <tr>\n",
              "      <th>2018-01-02 03:00:00</th>\n",
              "      <td>1028.0</td>\n",
              "      <td>234.801254</td>\n",
              "      <td>0.0</td>\n",
              "      <td>1622.880859</td>\n",
              "      <td>6.550061</td>\n",
              "      <td>14.820992</td>\n",
              "      <td>102707.976562</td>\n",
              "      <td>287.640747</td>\n",
              "      <td>0.884587</td>\n",
              "      <td>4635.833984</td>\n",
              "      <td>...</td>\n",
              "      <td>0.00</td>\n",
              "      <td>-0.000125</td>\n",
              "      <td>0.289062</td>\n",
              "      <td>0.531250</td>\n",
              "      <td>0.734375</td>\n",
              "      <td>0.734375</td>\n",
              "      <td>5690.610840</td>\n",
              "      <td>1572.140015</td>\n",
              "      <td>254.839066</td>\n",
              "      <td>279.247864</td>\n",
              "    </tr>\n",
              "    <tr>\n",
              "      <th>2018-01-02 04:00:00</th>\n",
              "      <td>1027.0</td>\n",
              "      <td>233.509735</td>\n",
              "      <td>0.0</td>\n",
              "      <td>1698.536133</td>\n",
              "      <td>7.280656</td>\n",
              "      <td>16.431499</td>\n",
              "      <td>102714.929688</td>\n",
              "      <td>287.973114</td>\n",
              "      <td>0.864839</td>\n",
              "      <td>24233.916016</td>\n",
              "      <td>...</td>\n",
              "      <td>0.00</td>\n",
              "      <td>0.000562</td>\n",
              "      <td>0.400000</td>\n",
              "      <td>0.656250</td>\n",
              "      <td>0.515625</td>\n",
              "      <td>0.656250</td>\n",
              "      <td>5690.393066</td>\n",
              "      <td>1574.123047</td>\n",
              "      <td>255.089691</td>\n",
              "      <td>280.121765</td>\n",
              "    </tr>\n",
              "    <tr>\n",
              "      <th>...</th>\n",
              "      <td>...</td>\n",
              "      <td>...</td>\n",
              "      <td>...</td>\n",
              "      <td>...</td>\n",
              "      <td>...</td>\n",
              "      <td>...</td>\n",
              "      <td>...</td>\n",
              "      <td>...</td>\n",
              "      <td>...</td>\n",
              "      <td>...</td>\n",
              "      <td>...</td>\n",
              "      <td>...</td>\n",
              "      <td>...</td>\n",
              "      <td>...</td>\n",
              "      <td>...</td>\n",
              "      <td>...</td>\n",
              "      <td>...</td>\n",
              "      <td>...</td>\n",
              "      <td>...</td>\n",
              "      <td>...</td>\n",
              "      <td>...</td>\n",
              "    </tr>\n",
              "    <tr>\n",
              "      <th>2022-12-30 19:00:00</th>\n",
              "      <td>1013.0</td>\n",
              "      <td>203.106339</td>\n",
              "      <td>0.0</td>\n",
              "      <td>2146.382812</td>\n",
              "      <td>10.008086</td>\n",
              "      <td>20.116726</td>\n",
              "      <td>101246.242188</td>\n",
              "      <td>289.797638</td>\n",
              "      <td>0.852191</td>\n",
              "      <td>24037.156250</td>\n",
              "      <td>...</td>\n",
              "      <td>1.88</td>\n",
              "      <td>-7.118680</td>\n",
              "      <td>0.500000</td>\n",
              "      <td>0.523438</td>\n",
              "      <td>0.000000</td>\n",
              "      <td>0.523438</td>\n",
              "      <td>5601.289062</td>\n",
              "      <td>1451.552979</td>\n",
              "      <td>256.711487</td>\n",
              "      <td>281.517120</td>\n",
              "    </tr>\n",
              "    <tr>\n",
              "      <th>2022-12-30 20:00:00</th>\n",
              "      <td>1013.0</td>\n",
              "      <td>200.402176</td>\n",
              "      <td>0.0</td>\n",
              "      <td>2225.509766</td>\n",
              "      <td>9.753554</td>\n",
              "      <td>20.561062</td>\n",
              "      <td>101280.718750</td>\n",
              "      <td>289.646881</td>\n",
              "      <td>0.853204</td>\n",
              "      <td>24038.056641</td>\n",
              "      <td>...</td>\n",
              "      <td>2.13</td>\n",
              "      <td>-7.964000</td>\n",
              "      <td>0.400000</td>\n",
              "      <td>0.468750</td>\n",
              "      <td>0.000000</td>\n",
              "      <td>0.468750</td>\n",
              "      <td>5604.474121</td>\n",
              "      <td>1455.128052</td>\n",
              "      <td>256.961884</td>\n",
              "      <td>282.021515</td>\n",
              "    </tr>\n",
              "    <tr>\n",
              "      <th>2022-12-30 21:00:00</th>\n",
              "      <td>1013.0</td>\n",
              "      <td>200.935623</td>\n",
              "      <td>0.0</td>\n",
              "      <td>2201.756836</td>\n",
              "      <td>10.804831</td>\n",
              "      <td>21.116741</td>\n",
              "      <td>101287.921875</td>\n",
              "      <td>289.878937</td>\n",
              "      <td>0.840266</td>\n",
              "      <td>24234.199219</td>\n",
              "      <td>...</td>\n",
              "      <td>5.40</td>\n",
              "      <td>-7.467734</td>\n",
              "      <td>0.500000</td>\n",
              "      <td>0.468750</td>\n",
              "      <td>0.000000</td>\n",
              "      <td>0.500000</td>\n",
              "      <td>5605.371094</td>\n",
              "      <td>1455.172974</td>\n",
              "      <td>257.088867</td>\n",
              "      <td>281.514496</td>\n",
              "    </tr>\n",
              "    <tr>\n",
              "      <th>2022-12-30 22:00:00</th>\n",
              "      <td>1013.0</td>\n",
              "      <td>200.267090</td>\n",
              "      <td>0.0</td>\n",
              "      <td>2184.601562</td>\n",
              "      <td>10.619587</td>\n",
              "      <td>20.339075</td>\n",
              "      <td>101276.820312</td>\n",
              "      <td>289.768433</td>\n",
              "      <td>0.848708</td>\n",
              "      <td>24233.261719</td>\n",
              "      <td>...</td>\n",
              "      <td>7.06</td>\n",
              "      <td>-7.167746</td>\n",
              "      <td>0.000000</td>\n",
              "      <td>0.531250</td>\n",
              "      <td>0.000000</td>\n",
              "      <td>0.531250</td>\n",
              "      <td>5604.672852</td>\n",
              "      <td>1452.702026</td>\n",
              "      <td>257.069611</td>\n",
              "      <td>281.291199</td>\n",
              "    </tr>\n",
              "    <tr>\n",
              "      <th>2022-12-30 23:00:00</th>\n",
              "      <td>1013.0</td>\n",
              "      <td>201.975098</td>\n",
              "      <td>0.0</td>\n",
              "      <td>2136.228271</td>\n",
              "      <td>10.659534</td>\n",
              "      <td>20.223284</td>\n",
              "      <td>101283.617188</td>\n",
              "      <td>289.763062</td>\n",
              "      <td>0.845492</td>\n",
              "      <td>24234.580078</td>\n",
              "      <td>...</td>\n",
              "      <td>8.80</td>\n",
              "      <td>-7.387965</td>\n",
              "      <td>0.100000</td>\n",
              "      <td>0.570312</td>\n",
              "      <td>0.000000</td>\n",
              "      <td>0.570312</td>\n",
              "      <td>5604.437988</td>\n",
              "      <td>1453.411011</td>\n",
              "      <td>257.346130</td>\n",
              "      <td>280.736450</td>\n",
              "    </tr>\n",
              "  </tbody>\n",
              "</table>\n",
              "<p>43527 rows × 101 columns</p>\n",
              "</div>\n",
              "      <button class=\"colab-df-convert\" onclick=\"convertToInteractive('df-5eac538f-fc27-4509-9726-1396e1a5fe43')\"\n",
              "              title=\"Convert this dataframe to an interactive table.\"\n",
              "              style=\"display:none;\">\n",
              "        \n",
              "  <svg xmlns=\"http://www.w3.org/2000/svg\" height=\"24px\"viewBox=\"0 0 24 24\"\n",
              "       width=\"24px\">\n",
              "    <path d=\"M0 0h24v24H0V0z\" fill=\"none\"/>\n",
              "    <path d=\"M18.56 5.44l.94 2.06.94-2.06 2.06-.94-2.06-.94-.94-2.06-.94 2.06-2.06.94zm-11 1L8.5 8.5l.94-2.06 2.06-.94-2.06-.94L8.5 2.5l-.94 2.06-2.06.94zm10 10l.94 2.06.94-2.06 2.06-.94-2.06-.94-.94-2.06-.94 2.06-2.06.94z\"/><path d=\"M17.41 7.96l-1.37-1.37c-.4-.4-.92-.59-1.43-.59-.52 0-1.04.2-1.43.59L10.3 9.45l-7.72 7.72c-.78.78-.78 2.05 0 2.83L4 21.41c.39.39.9.59 1.41.59.51 0 1.02-.2 1.41-.59l7.78-7.78 2.81-2.81c.8-.78.8-2.07 0-2.86zM5.41 20L4 18.59l7.72-7.72 1.47 1.35L5.41 20z\"/>\n",
              "  </svg>\n",
              "      </button>\n",
              "      \n",
              "  <style>\n",
              "    .colab-df-container {\n",
              "      display:flex;\n",
              "      flex-wrap:wrap;\n",
              "      gap: 12px;\n",
              "    }\n",
              "\n",
              "    .colab-df-convert {\n",
              "      background-color: #E8F0FE;\n",
              "      border: none;\n",
              "      border-radius: 50%;\n",
              "      cursor: pointer;\n",
              "      display: none;\n",
              "      fill: #1967D2;\n",
              "      height: 32px;\n",
              "      padding: 0 0 0 0;\n",
              "      width: 32px;\n",
              "    }\n",
              "\n",
              "    .colab-df-convert:hover {\n",
              "      background-color: #E2EBFA;\n",
              "      box-shadow: 0px 1px 2px rgba(60, 64, 67, 0.3), 0px 1px 3px 1px rgba(60, 64, 67, 0.15);\n",
              "      fill: #174EA6;\n",
              "    }\n",
              "\n",
              "    [theme=dark] .colab-df-convert {\n",
              "      background-color: #3B4455;\n",
              "      fill: #D2E3FC;\n",
              "    }\n",
              "\n",
              "    [theme=dark] .colab-df-convert:hover {\n",
              "      background-color: #434B5C;\n",
              "      box-shadow: 0px 1px 3px 1px rgba(0, 0, 0, 0.15);\n",
              "      filter: drop-shadow(0px 1px 2px rgba(0, 0, 0, 0.3));\n",
              "      fill: #FFFFFF;\n",
              "    }\n",
              "  </style>\n",
              "\n",
              "      <script>\n",
              "        const buttonEl =\n",
              "          document.querySelector('#df-5eac538f-fc27-4509-9726-1396e1a5fe43 button.colab-df-convert');\n",
              "        buttonEl.style.display =\n",
              "          google.colab.kernel.accessAllowed ? 'block' : 'none';\n",
              "\n",
              "        async function convertToInteractive(key) {\n",
              "          const element = document.querySelector('#df-5eac538f-fc27-4509-9726-1396e1a5fe43');\n",
              "          const dataTable =\n",
              "            await google.colab.kernel.invokeFunction('convertToInteractive',\n",
              "                                                     [key], {});\n",
              "          if (!dataTable) return;\n",
              "\n",
              "          const docLinkHtml = 'Like what you see? Visit the ' +\n",
              "            '<a target=\"_blank\" href=https://colab.research.google.com/notebooks/data_table.ipynb>data table notebook</a>'\n",
              "            + ' to learn more about interactive tables.';\n",
              "          element.innerHTML = '';\n",
              "          dataTable['output_type'] = 'display_data';\n",
              "          await google.colab.output.renderOutput(dataTable, element);\n",
              "          const docLink = document.createElement('div');\n",
              "          docLink.innerHTML = docLinkHtml;\n",
              "          element.appendChild(docLink);\n",
              "        }\n",
              "      </script>\n",
              "    </div>\n",
              "  </div>\n",
              "  "
            ]
          },
          "metadata": {},
          "execution_count": 4
        }
      ]
    },
    {
      "cell_type": "markdown",
      "source": [
        "**Observed pressure (mslp_o) Vs forecasted pressure from meteorological model point 0 (mslp00)**"
      ],
      "metadata": {
        "id": "vXx7Pvwmx1g3"
      }
    },
    {
      "cell_type": "code",
      "source": [
        "pd.concat([df_all1k[\"mslp_o\"],df_all1k[\"mslp0\"]/100],axis = 1)[0::24].plot(figsize = (18, 8),grid = True,);"
      ],
      "metadata": {
        "colab": {
          "base_uri": "https://localhost:8080/",
          "height": 384
        },
        "id": "xcTPWg1XwllZ",
        "outputId": "46bb7059-3887-4364-b7b3-95ac9cc43b4b"
      },
      "execution_count": 5,
      "outputs": [
        {
          "output_type": "display_data",
          "data": {
            "text/plain": [
              "<Figure size 1296x576 with 1 Axes>"
            ],
            "image/png": "[encoded data removed]"
          },
          "metadata": {
            "needs_background": "light"
          }
        }
      ]
    },
    {
      "cell_type": "markdown",
      "source": [
        "**Meteorological model scores (Point 0)**"
      ],
      "metadata": {
        "id": "1Lwji_3AffES"
      }
    },
    {
      "cell_type": "code",
      "source": [
        "from sklearn.metrics import mean_absolute_error\n",
        "from sklearn.metrics import mean_squared_error\n",
        "from sklearn.metrics import r2_score\n",
        "from sklearn.metrics import median_absolute_error\n",
        "import seaborn as sns\n",
        "\n",
        "#Mean absolute error\n",
        "Mean_AE = round(mean_absolute_error(df_all1k[\"mslp_o\"], df_all1k[\"mslp0\"]/100),2)\n",
        "\n",
        "#MSE \n",
        "MSE = round(mean_squared_error(df_all1k[\"mslp_o\"], df_all1k[\"mslp0\"]/100),2)\n",
        "\n",
        "#R2\n",
        "R2 = round(r2_score(df_all1k[\"mslp_o\"], df_all1k[\"mslp0\"]/100),2)\n",
        "\n",
        "#Median absolute error\n",
        "Median_AE = round(median_absolute_error(df_all1k[\"mslp_o\"], df_all1k[\"mslp0\"]/100),2)\n",
        "\n",
        "\n",
        "#random seed 1\n",
        "np.random.seed(1)\n",
        "\n",
        "res = pd.concat([df_all1k[\"mslp_o\"],df_all1k[\"mslp0\"]/100],axis = 1)\n",
        "sns.set_theme(style=\"darkgrid\")\n",
        "g = sns.jointplot(x=\"mslp0\", y=\"mslp_o\", data=res.sample(100),\n",
        "                  kind=\"reg\", truncate=False,\n",
        "                  color=\"m\", height=7)\n",
        "\n",
        "print(pd.DataFrame({\"Mean_AE\":Mean_AE,\"MSE\":MSE,\"R2\":R2,\"Median_AE\":Median_AE},index=[\"results point 0\"]))\n"
      ],
      "metadata": {
        "colab": {
          "base_uri": "https://localhost:8080/",
          "height": 544
        },
        "id": "giwyzjm-zVbh",
        "outputId": "63de392d-b153-4ac3-f679-79eb12dccca1"
      },
      "execution_count": 6,
      "outputs": [
        {
          "output_type": "stream",
          "name": "stdout",
          "text": [
            "                 Mean_AE   MSE    R2  Median_AE\n",
            "results point 0     1.02  1.73  0.97       0.83\n"
          ]
        },
        {
          "output_type": "display_data",
          "data": {
            "text/plain": [
              "<Figure size 504x504 with 3 Axes>"
            ],
            "image/png": "[encoded data removed]"
          },
          "metadata": {}
        }
      ]
    },
    {
      "cell_type": "markdown",
      "source": [
        "**Meteorological model scores (Point 1)**"
      ],
      "metadata": {
        "id": "lLKgtDBM0HTA"
      }
    },
    {
      "cell_type": "code",
      "source": [
        "\n",
        "#Mean absolute error\n",
        "Mean_AE = round(mean_absolute_error(df_all1k[\"mslp_o\"], df_all1k[\"mslp1\"]/100),2)\n",
        "\n",
        "#MSE \n",
        "MSE = round(mean_squared_error(df_all1k[\"mslp_o\"], df_all1k[\"mslp1\"]/100),2)\n",
        "\n",
        "#R2\n",
        "R2 = round(r2_score(df_all1k[\"mslp_o\"], df_all1k[\"mslp1\"]/100),2)\n",
        "\n",
        "#Median absolute error\n",
        "Median_AE = round(median_absolute_error(df_all1k[\"mslp_o\"], df_all1k[\"mslp1\"]/100),2)\n",
        "\n",
        "#random seed 1\n",
        "np.random.seed(1)\n",
        "\n",
        "res = pd.concat([df_all1k[\"mslp_o\"],df_all1k[\"mslp1\"]/100],axis = 1)\n",
        "sns.set_theme(style=\"darkgrid\")\n",
        "g = sns.jointplot(x=\"mslp1\", y=\"mslp_o\", data=res.sample(100),\n",
        "                  kind=\"reg\", truncate=False,\n",
        "                  color=\"m\", height=7)\n",
        "\n",
        "\n",
        "print(pd.DataFrame({\"Mean_AE\":Mean_AE,\"MSE\":MSE,\"R2\":R2,\"Median_AE\":Median_AE},index=[\"results point 1\"]))"
      ],
      "metadata": {
        "colab": {
          "base_uri": "https://localhost:8080/",
          "height": 544
        },
        "id": "Ig8J2qWT0Mys",
        "outputId": "d631feea-28a3-4ed1-e106-719c36aee36d"
      },
      "execution_count": 7,
      "outputs": [
        {
          "output_type": "stream",
          "name": "stdout",
          "text": [
            "                 Mean_AE   MSE    R2  Median_AE\n",
            "results point 1      1.0  1.69  0.97       0.82\n"
          ]
        },
        {
          "output_type": "display_data",
          "data": {
            "text/plain": [
              "<Figure size 504x504 with 3 Axes>"
            ],
            "image/png": "[encoded data removed]"
          },
          "metadata": {}
        }
      ]
    },
    {
      "cell_type": "markdown",
      "source": [
        "**Meteorological model independent variables X**"
      ],
      "metadata": {
        "id": "uu6AJ_C51NXM"
      }
    },
    {
      "cell_type": "code",
      "source": [
        "df_all1k.iloc[:,1:].columns\n"
      ],
      "metadata": {
        "id": "RN6Ibn-t8l1o",
        "colab": {
          "base_uri": "https://localhost:8080/"
        },
        "outputId": "eb86714c-c4e1-4f4e-a0ef-b77bfb151f19"
      },
      "execution_count": 8,
      "outputs": [
        {
          "output_type": "execute_result",
          "data": {
            "text/plain": [
              "Index(['dir0', 'snow_prec0', 'snowlevel0', 'mod0', 'wind_gust0', 'mslp0',\n",
              "       'temp0', 'rh0', 'visibility0', 'lhflx0', 'lwflx0', 'conv_prec0',\n",
              "       'prec0', 'swflx0', 'shflx0', 'cape0', 'cin0', 'cfh0', 'cfl0', 'cfm0',\n",
              "       'cft0', 'HGT5000', 'HGT8500', 'T5000', 'T8500', 'dir1', 'snow_prec1',\n",
              "       'snowlevel1', 'mod1', 'wind_gust1', 'mslp1', 'temp1', 'rh1',\n",
              "       'visibility1', 'lhflx1', 'lwflx1', 'conv_prec1', 'prec1', 'swflx1',\n",
              "       'shflx1', 'cape1', 'cin1', 'cfh1', 'cfl1', 'cfm1', 'cft1', 'HGT5001',\n",
              "       'HGT8501', 'T5001', 'T8501', 'dir2', 'snow_prec2', 'snowlevel2', 'mod2',\n",
              "       'wind_gust2', 'mslp2', 'temp2', 'rh2', 'visibility2', 'lhflx2',\n",
              "       'lwflx2', 'conv_prec2', 'prec2', 'swflx2', 'shflx2', 'cape2', 'cin2',\n",
              "       'cfh2', 'cfl2', 'cfm2', 'cft2', 'HGT5002', 'HGT8502', 'T5002', 'T8502',\n",
              "       'dir3', 'snow_prec3', 'snowlevel3', 'mod3', 'wind_gust3', 'mslp3',\n",
              "       'temp3', 'rh3', 'visibility3', 'lhflx3', 'lwflx3', 'conv_prec3',\n",
              "       'prec3', 'swflx3', 'shflx3', 'cape3', 'cin3', 'cfh3', 'cfl3', 'cfm3',\n",
              "       'cft3', 'HGT5003', 'HGT8503', 'T5003', 'T8503'],\n",
              "      dtype='object')"
            ]
          },
          "metadata": {},
          "execution_count": 8
        }
      ]
    },
    {
      "cell_type": "markdown",
      "source": [
        "**Find ML algorithm**"
      ],
      "metadata": {
        "id": "ChfMtedU1i6z"
      }
    },
    {
      "cell_type": "code",
      "source": [
        "from sklearn.model_selection import train_test_split\n",
        "import lazypredict\n",
        "from lazypredict.Supervised import LazyRegressor\n",
        "\n",
        "# X and Y\n",
        "Y = df_all1k[\"mslp_o\"]\n",
        "X = df_all1k.iloc[:,1:]\n",
        "\n",
        "\n",
        "X_train, X_test, y_train, y_test = train_test_split(X,Y, test_size=0.2, )\n",
        "\n",
        "\n",
        "multiple_model = LazyRegressor(verbose =0, ignore_warnings = True,predictions=True)\n",
        "models,predictions = multiple_model.fit(X_train,X_test,y_train,y_test)"
      ],
      "metadata": {
        "colab": {
          "base_uri": "https://localhost:8080/"
        },
        "id": "yDXLnryb71O1",
        "outputId": "58207801-edd6-4671-c8ee-f62c0ae66c12"
      },
      "execution_count": null,
      "outputs": [
        {
          "output_type": "stream",
          "name": "stderr",
          "text": [
            " 95%|█████████▌| 39/41 [05:25<00:12,  6.28s/it]"
          ]
        },
        {
          "output_type": "stream",
          "name": "stdout",
          "text": [
            "[08:58:02] WARNING: /workspace/src/objective/regression_obj.cu:152: reg:linear is now deprecated in favor of reg:squarederror.\n"
          ]
        },
        {
          "output_type": "stream",
          "name": "stderr",
          "text": [
            "100%|██████████| 41/41 [05:32<00:00,  8.12s/it]\n"
          ]
        }
      ]
    },
    {
      "cell_type": "code",
      "source": [
        "models"
      ],
      "metadata": {
        "id": "UOjWiLjS_zvi"
      },
      "execution_count": null,
      "outputs": []
    },
    {
      "cell_type": "markdown",
      "source": [
        "**LGBMRegressor (y_test from lazypredict)**"
      ],
      "metadata": {
        "id": "GLB6qlndgjob"
      }
    },
    {
      "cell_type": "code",
      "source": [
        "Mean_AE = round(mean_absolute_error(y_test, predictions.LGBMRegressor),2)\n",
        "MSE = round(mean_squared_error(y_test, predictions.LGBMRegressor),2)\n",
        "R2 = round(r2_score(y_test, predictions.LGBMRegressor),2)\n",
        "Median_AE = round(median_absolute_error(y_test, predictions.LGBMRegressor),2)\n",
        "\n",
        "print(pd.DataFrame({\"Mean_AE\":Mean_AE,\"MSE\":MSE,\"R2\":R2,\"Median_AE\":Median_AE},index=[\"results LGBMRegressor\"]))\n",
        "\n"
      ],
      "metadata": {
        "colab": {
          "base_uri": "https://localhost:8080/"
        },
        "id": "UdxLyqh8ARgH",
        "outputId": "e0616f30-2812-457b-b060-98d1a3922ac3"
      },
      "execution_count": null,
      "outputs": [
        {
          "output_type": "stream",
          "name": "stdout",
          "text": [
            "                       Mean_AE  MSE   R2  Median_AE\n",
            "results LGBMRegressor     0.55 0.51 0.99       0.45\n"
          ]
        }
      ]
    },
    {
      "cell_type": "markdown",
      "source": [
        "**ExtraTreesRegressor (y_test from lazypredict)**"
      ],
      "metadata": {
        "id": "CrCi7JXsg22q"
      }
    },
    {
      "cell_type": "code",
      "source": [
        "Mean_AE = round(mean_absolute_error(y_test, predictions.ExtraTreesRegressor),2)\n",
        "MSE = round(mean_squared_error(y_test, predictions.ExtraTreesRegressor),2)\n",
        "R2 = round(r2_score(y_test, predictions.ExtraTreesRegressor),2)\n",
        "Median_AE = round(median_absolute_error(y_test, predictions.ExtraTreesRegressor),2)\n",
        "\n",
        "print(pd.DataFrame({\"Mean_AE\":Mean_AE,\"MSE\":MSE,\"R2\":R2,\"Median_AE\":Median_AE},index=[\"results ExtraTreesRegressor\"]))"
      ],
      "metadata": {
        "colab": {
          "base_uri": "https://localhost:8080/"
        },
        "id": "v_1CrEyPg9t4",
        "outputId": "5d6af77a-2cea-4bea-91df-cc7ae0b54d30"
      },
      "execution_count": null,
      "outputs": [
        {
          "output_type": "stream",
          "name": "stdout",
          "text": [
            "                             Mean_AE  MSE   R2  Median_AE\n",
            "results ExtraTreesRegressor     0.51 0.46 0.99       0.39\n"
          ]
        }
      ]
    },
    {
      "cell_type": "markdown",
      "source": [
        "**lgbmregressor ML algorithm selected**"
      ],
      "metadata": {
        "id": "39WWhfb66PSv"
      }
    },
    {
      "cell_type": "code",
      "source": [
        "from lightgbm.sklearn import LGBMRegressor\n",
        "from sklearn.model_selection import train_test_split\n",
        "\n",
        "#random seed 1\n",
        "np.random.seed(1)\n",
        "\n",
        "# X and Y\n",
        "Y = df_all1k.mslp_o\n",
        "X = df_all1k.iloc[:,1:]\n",
        "\n",
        "# loop random\n",
        "Median_AE_ml = []\n",
        "Mean_AE_ml =[]\n",
        "MSE_ml = []\n",
        "R2_ml = []\n",
        "\n",
        "#20 samples to test algorithm\n",
        "for t in range (0,5):\n",
        "  #split variables\n",
        "  X_train, X_test, y_train, y_test = train_test_split(X,Y, test_size=0.15, )\n",
        "\n",
        "  #machine learning model\n",
        "  ml_model = LGBMRegressor().fit(X_train,y_train)\n",
        "  y_pred = ml_model.predict(X_test)\n",
        "  \n",
        "  #Score calculation\n",
        "  Mean_AE_ml.append(round(mean_absolute_error(y_test, y_pred),2))\n",
        "  Median_AE_ml.append(round(median_absolute_error(y_test, y_pred),2))\n",
        "  MSE_ml.append (round(mean_squared_error(y_test, y_pred),2))\n",
        "  R2_ml.append(round(r2_score(y_test, y_pred),2))\n",
        "  \n",
        "  \n",
        "print(pd.DataFrame({\"Median_AE\":Median_AE_ml,\" Mean_AE\":Mean_AE_ml,\"MSE\":MSE_ml,\"R2\":R2_ml}))"
      ],
      "metadata": {
        "colab": {
          "base_uri": "https://localhost:8080/"
        },
        "id": "AmaGouiY4907",
        "outputId": "ef1a72e7-5cde-4221-b21c-8cc92464e632"
      },
      "execution_count": 9,
      "outputs": [
        {
          "output_type": "stream",
          "name": "stdout",
          "text": [
            "   Median_AE   Mean_AE   MSE    R2\n",
            "0       0.61      0.75  0.97  0.98\n",
            "1       0.60      0.75  0.98  0.98\n",
            "2       0.61      0.75  0.96  0.98\n",
            "3       0.60      0.75  0.98  0.98\n",
            "4       0.60      0.74  0.95  0.98\n"
          ]
        }
      ]
    },
    {
      "cell_type": "markdown",
      "source": [
        "**T test (1sample) compare machine learning median absolute error in a sample (n=\n",
        "5) versus meteorological model median absolute error at point 0 (0.8) and at point 1 (0.8). the alternative hypothesis is: the mean of the underlying distribution of the sample is less than the given population mean (popmean). Significance level (alpha) = 0.01**"
      ],
      "metadata": {
        "id": "3j5DH1765--U"
      }
    },
    {
      "cell_type": "code",
      "source": [
        "from scipy import stats\n",
        "\n",
        "alpha = 0.01\n",
        "sta0, p_value0 = stats.ttest_1samp(Median_AE_ml, popmean=0.8, alternative=\"less\")\n",
        "sta1, p_value1 = stats.ttest_1samp(Median_AE_ml, popmean=0.8, alternative=\"less\")\n",
        "\n",
        "print(\"\\nalpha: \",alpha)\n",
        "\n",
        "print(\"\\nMedian Absolute error list from machine learning test:\",Median_AE_ml)\n",
        "print(\"\\n**** Point 0 ****\")\n",
        "print(\"\\np_value point 0:\",p_value0)\n",
        "if p_value0 < alpha:    \n",
        "    print(\"\\nwe are rejecting null hypothesis  H0: Median Absolute Error machine learning = Median Absolute Error meteorological model point 0\")\n",
        "    print(\"\\nwe are accepting alternative hypothesis: Median Absolute Error machine learning is less than Median Absolute Error meteorological point 0\")\n",
        "else:\n",
        "    print(\"\\nwe are accepting null hypothesis:  H0:  Median Absolute Error machine learning = Median Absolute Error meteorological model point 0 \")\n",
        "\n",
        "print(\"\\n**** Point 1 ****\")\n",
        "print(\"\\np value point 1:\",p_value1 )\n",
        "if p_value1 < alpha:    \n",
        "    print(\"\\nwe are rejecting null hypothesis  H0: Median Absolute Error machine learning = Median Absolute Error meteorological model point 1\")\n",
        "    print(\"\\nwe are accepting alternative hypothesis: Median Absolute Error machine learning is less than Median Absolute Error meteorological point 1\")\n",
        "else:\n",
        "    print(\"\\nwe are accepting null hypothesis:  H0  Median Absolute Error machine learning = Median Absolute Error meteorological model point 1\")"
      ],
      "metadata": {
        "colab": {
          "base_uri": "https://localhost:8080/"
        },
        "id": "Rsrp3_FM6Uea",
        "outputId": "007849d2-180d-4da1-d33d-7211f24e2d9e"
      },
      "execution_count": 10,
      "outputs": [
        {
          "output_type": "stream",
          "name": "stdout",
          "text": [
            "\n",
            "alpha:  0.01\n",
            "\n",
            "Median Absolute error list from machine learning test: [0.61, 0.6, 0.61, 0.6, 0.6]\n",
            "\n",
            "**** Point 0 ****\n",
            "\n",
            "p_value point 0: 7.31050542461124e-08\n",
            "\n",
            "we are rejecting null hypothesis  H0: Median Absolute Error machine learning = Median Absolute Error meteorological model point 0\n",
            "\n",
            "we are accepting alternative hypothesis: Median Absolute Error machine learning is less than Median Absolute Error meteorological point 0\n",
            "\n",
            "**** Point 1 ****\n",
            "\n",
            "p value point 1: 7.31050542461124e-08\n",
            "\n",
            "we are rejecting null hypothesis  H0: Median Absolute Error machine learning = Median Absolute Error meteorological model point 1\n",
            "\n",
            "we are accepting alternative hypothesis: Median Absolute Error machine learning is less than Median Absolute Error meteorological point 1\n"
          ]
        }
      ]
    },
    {
      "cell_type": "markdown",
      "source": [
        "**Add time variables**"
      ],
      "metadata": {
        "id": "3LB7ooEm7KY7"
      }
    },
    {
      "cell_type": "code",
      "source": [
        "df_all1k[\"hour\"] = df_all1k.index.hour\n",
        "df_all1k[\"month\"] = df_all1k.index.month\n",
        "df_all1k[\"dayofyear\"] = df_all1k.index.dayofyear\n",
        "df_all1k[\"weekofyear\"] = df_all1k.index.isocalendar().week.astype(int)"
      ],
      "metadata": {
        "id": "53SehPaetF9j"
      },
      "execution_count": 11,
      "outputs": []
    },
    {
      "cell_type": "markdown",
      "source": [
        "**Machine learning with time variables**"
      ],
      "metadata": {
        "id": "-hXqalG-8edT"
      }
    },
    {
      "cell_type": "markdown",
      "source": [
        " **X variables**"
      ],
      "metadata": {
        "id": "xsz1bScg8ILz"
      }
    },
    {
      "cell_type": "code",
      "source": [
        " df_all1k.iloc[:,1:].columns"
      ],
      "metadata": {
        "colab": {
          "base_uri": "https://localhost:8080/"
        },
        "id": "jQ0o2l828Q_a",
        "outputId": "05f92959-1006-4daf-f262-569d97b68047"
      },
      "execution_count": 12,
      "outputs": [
        {
          "output_type": "execute_result",
          "data": {
            "text/plain": [
              "Index(['dir0', 'snow_prec0', 'snowlevel0', 'mod0', 'wind_gust0', 'mslp0',\n",
              "       'temp0', 'rh0', 'visibility0', 'lhflx0',\n",
              "       ...\n",
              "       'cfm3', 'cft3', 'HGT5003', 'HGT8503', 'T5003', 'T8503', 'hour', 'month',\n",
              "       'dayofyear', 'weekofyear'],\n",
              "      dtype='object', length=104)"
            ]
          },
          "metadata": {},
          "execution_count": 12
        }
      ]
    },
    {
      "cell_type": "code",
      "source": [
        "#random seed 1\n",
        "np.random.seed(1)\n",
        "\n",
        "# X and Y\n",
        "Y = df_all1k.mslp_o\n",
        "X = df_all1k.iloc[:,1:]\n",
        "\n",
        "# loop random\n",
        "Median_AE_ml_t = []\n",
        "Mean_AE_ml_t =[]\n",
        "MSE_ml_t = []\n",
        "R2_ml_t = []\n",
        "\n",
        "#20 samples to test algorithm\n",
        "for t in range (0,5):\n",
        "  #split variables\n",
        "  X_train, X_test, y_train, y_test = train_test_split(X,Y, test_size=0.15, )\n",
        "\n",
        "  #machine learning model\n",
        "  ml_model = LGBMRegressor().fit(X_train,y_train)\n",
        "  y_pred = ml_model.predict(X_test)\n",
        "  \n",
        "  #Score calculation\n",
        "  Mean_AE_ml_t.append(round(mean_absolute_error(y_test, y_pred),2))\n",
        "  Median_AE_ml_t.append(round(median_absolute_error(y_test, y_pred),2))\n",
        "  MSE_ml_t.append (round(mean_squared_error(y_test, y_pred),2))\n",
        "  R2_ml_t.append(round(r2_score(y_test, y_pred),2))\n",
        "  \n",
        "  \n",
        "print(pd.DataFrame({\"Median_AE\":Median_AE_ml_t,\" Mean_AE\":Mean_AE_ml_t,\"MSE\":MSE_ml_t,\"R2\":R2_ml_t}))"
      ],
      "metadata": {
        "colab": {
          "base_uri": "https://localhost:8080/"
        },
        "id": "XXKcR59T71M8",
        "outputId": "d411be31-0139-4ea0-9385-ace9b408a633"
      },
      "execution_count": 13,
      "outputs": [
        {
          "output_type": "stream",
          "name": "stdout",
          "text": [
            "   Median_AE   Mean_AE   MSE    R2\n",
            "0       0.57      0.71  0.85  0.98\n",
            "1       0.56      0.70  0.86  0.98\n",
            "2       0.57      0.71  0.85  0.98\n",
            "3       0.57      0.71  0.86  0.98\n",
            "4       0.57      0.70  0.83  0.99\n"
          ]
        }
      ]
    },
    {
      "cell_type": "code",
      "source": [
        "feature_importances = ml_model.feature_importances_\n",
        "total_sum = sum(feature_importances)\n",
        "feature_importances_perc = [(importance/total_sum)*100 for importance in feature_importances]\n",
        "# Print the feature importances as a percentage of total feature importance\n",
        "\n",
        "for name, importance in zip(X.columns, feature_importances_perc):\n",
        "    print(f\"{name}: {importance:.1f}%\")"
      ],
      "metadata": {
        "colab": {
          "base_uri": "https://localhost:8080/"
        },
        "id": "H5az9GIeUScV",
        "outputId": "df52bbd7-714e-4523-cfb1-de8b2e09fa2e"
      },
      "execution_count": 14,
      "outputs": [
        {
          "output_type": "stream",
          "name": "stdout",
          "text": [
            "dir0: 2.2%\n",
            "snow_prec0: 0.0%\n",
            "snowlevel0: 1.6%\n",
            "mod0: 0.6%\n",
            "wind_gust0: 0.8%\n",
            "mslp0: 3.0%\n",
            "temp0: 0.4%\n",
            "rh0: 1.5%\n",
            "visibility0: 0.4%\n",
            "lhflx0: 0.2%\n",
            "lwflx0: 1.1%\n",
            "conv_prec0: 0.3%\n",
            "prec0: 0.5%\n",
            "swflx0: 0.1%\n",
            "shflx0: 0.2%\n",
            "cape0: 1.1%\n",
            "cin0: 0.5%\n",
            "cfh0: 0.5%\n",
            "cfl0: 0.4%\n",
            "cfm0: 0.6%\n",
            "cft0: 0.2%\n",
            "HGT5000: 1.7%\n",
            "HGT8500: 1.6%\n",
            "T5000: 1.9%\n",
            "T8500: 1.5%\n",
            "dir1: 0.9%\n",
            "snow_prec1: 0.0%\n",
            "snowlevel1: 0.9%\n",
            "mod1: 0.4%\n",
            "wind_gust1: 0.6%\n",
            "mslp1: 5.0%\n",
            "temp1: 0.3%\n",
            "rh1: 0.8%\n",
            "visibility1: 0.5%\n",
            "lhflx1: 0.3%\n",
            "lwflx1: 0.6%\n",
            "conv_prec1: 0.1%\n",
            "prec1: 0.3%\n",
            "swflx1: 0.1%\n",
            "shflx1: 0.9%\n",
            "cape1: 0.4%\n",
            "cin1: 0.5%\n",
            "cfh1: 0.3%\n",
            "cfl1: 1.0%\n",
            "cfm1: 0.3%\n",
            "cft1: 0.3%\n",
            "HGT5001: 0.7%\n",
            "HGT8501: 0.9%\n",
            "T5001: 0.9%\n",
            "T8501: 1.3%\n",
            "dir2: 2.3%\n",
            "snow_prec2: 0.0%\n",
            "snowlevel2: 1.1%\n",
            "mod2: 0.7%\n",
            "wind_gust2: 0.9%\n",
            "mslp2: 4.2%\n",
            "temp2: 0.3%\n",
            "rh2: 0.8%\n",
            "visibility2: 0.8%\n",
            "lhflx2: 0.3%\n",
            "lwflx2: 1.1%\n",
            "conv_prec2: 0.1%\n",
            "prec2: 0.2%\n",
            "swflx2: 0.0%\n",
            "shflx2: 0.5%\n",
            "cape2: 0.8%\n",
            "cin2: 0.4%\n",
            "cfh2: 0.3%\n",
            "cfl2: 0.1%\n",
            "cfm2: 0.2%\n",
            "cft2: 0.2%\n",
            "HGT5002: 0.5%\n",
            "HGT8502: 1.3%\n",
            "T5002: 2.3%\n",
            "T8502: 1.4%\n",
            "dir3: 1.2%\n",
            "snow_prec3: 0.0%\n",
            "snowlevel3: 1.0%\n",
            "mod3: 1.1%\n",
            "wind_gust3: 1.0%\n",
            "mslp3: 6.0%\n",
            "temp3: 0.3%\n",
            "rh3: 0.8%\n",
            "visibility3: 0.4%\n",
            "lhflx3: 0.2%\n",
            "lwflx3: 0.5%\n",
            "conv_prec3: 0.1%\n",
            "prec3: 0.4%\n",
            "swflx3: 0.0%\n",
            "shflx3: 0.3%\n",
            "cape3: 0.2%\n",
            "cin3: 0.6%\n",
            "cfh3: 0.3%\n",
            "cfl3: 0.3%\n",
            "cfm3: 0.2%\n",
            "cft3: 0.4%\n",
            "HGT5003: 0.5%\n",
            "HGT8503: 0.8%\n",
            "T5003: 1.4%\n",
            "T8503: 1.2%\n",
            "hour: 1.7%\n",
            "month: 0.7%\n",
            "dayofyear: 12.2%\n",
            "weekofyear: 4.1%\n"
          ]
        }
      ]
    },
    {
      "cell_type": "markdown",
      "source": [
        "**T test two related samples. This is a test for the null hypothesis that two related samples have identical Median Absolute Error. Alternative hypothesis the Median Absolute Error of the distribution underlying the sample with time variables is less than the Median Absolute Error of the distribution underlying the sample without time variables. Significance level (alpha) = 0.01**"
      ],
      "metadata": {
        "id": "-uQb1jDO84oc"
      }
    },
    {
      "cell_type": "code",
      "source": [
        "from scipy import stats\n",
        "\n",
        "alpha = 0.01\n",
        "sta, p_value = stats.ttest_rel(Median_AE_ml_t, Median_AE_ml, alternative=\"less\")\n",
        "\n",
        "print(\"\\nMedian absolute error without time variables:\", Median_AE_ml)\n",
        "print(\"\\nMedian absolute error with time variables:\", Median_AE_ml_t)\n",
        "\n",
        "print(\"\\nalpha: \",alpha)\n",
        "\n",
        "print(\"\\np_value point: \",p_value)\n",
        "if p_value < alpha:    \n",
        "    print(\"\\nwe are rejecting null hypothesis  H0: Median absolute error machine learning without time variables = Median absolute error machine learning with time variables\")\n",
        "    print(\"\\nwe are accepting alternative hypothesis: Median absolute error of the sample with time variables inputs is less than the Median absolute error of the sample without time variables inputs\")\n",
        "else:\n",
        "    print(\"\\nwe are accepting null hypothesis:  H0: Median absolute error machine learning without time variables = Median absolute error machine learning with time variables\")\n",
        "     "
      ],
      "metadata": {
        "colab": {
          "base_uri": "https://localhost:8080/"
        },
        "id": "_AW7s4T19JEO",
        "outputId": "d196762e-2460-4d2e-c224-5e366f523ba0"
      },
      "execution_count": 15,
      "outputs": [
        {
          "output_type": "stream",
          "name": "stdout",
          "text": [
            "\n",
            "Median absolute error without time variables: [0.61, 0.6, 0.61, 0.6, 0.6]\n",
            "\n",
            "Median absolute error with time variables: [0.57, 0.56, 0.57, 0.57, 0.57]\n",
            "\n",
            "alpha:  0.01\n",
            "\n",
            "p_value point:  6.2363017620797e-05\n",
            "\n",
            "we are rejecting null hypothesis  H0: Median absolute error machine learning without time variables = Median absolute error machine learning with time variables\n",
            "\n",
            "we are accepting alternative hypothesis: Median absolute error of the sample with time variables inputs is less than the Median absolute error of the sample without time variables inputs\n"
          ]
        }
      ]
    },
    {
      "cell_type": "markdown",
      "source": [
        "**Save algorithm**"
      ],
      "metadata": {
        "id": "owVD0zsI_1JD"
      }
    },
    {
      "cell_type": "code",
      "source": [
        "import pickle\n",
        "from sklearn.pipeline import Pipeline\n",
        "\n",
        "x_var = df_all1k.iloc[:,1:].columns\n",
        "estimators = [('ml_model', ml_model)]\n",
        "pipe = Pipeline(estimators)\n",
        "print(pipe)\n",
        "al_file={\"x_var\":x_var,\"coor\":coor,\"pipe\":pipe}\n",
        "pickle.dump(al_file, open(\"pres_LECO_d1.al\", 'wb'))"
      ],
      "metadata": {
        "colab": {
          "base_uri": "https://localhost:8080/"
        },
        "id": "ZXM71i31__XS",
        "outputId": "8a96996c-391f-4b78-c3d5-249bfc24a47c"
      },
      "execution_count": 16,
      "outputs": [
        {
          "output_type": "stream",
          "name": "stdout",
          "text": [
            "Pipeline(steps=[('ml_model', LGBMRegressor())])\n"
          ]
        }
      ]
    }
  ]
}