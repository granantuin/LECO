{
  "nbformat": 4,
  "nbformat_minor": 0,
  "metadata": {
    "colab": {
      "provenance": []
    },
    "kernelspec": {
      "name": "python3",
      "display_name": "Python 3"
    },
    "language_info": {
      "name": "python"
    }
  },
  "cells": [
    {
      "cell_type": "code",
      "source": [
        "!pip install -r \"/content/drive/MyDrive/Colab Notebooks/LEVX_1km/requirements.txt\""
      ],
      "metadata": {
        "id": "EdGOq9bNcIsN"
      },
      "execution_count": null,
      "outputs": []
    },
    {
      "cell_type": "code",
      "source": [
        "!pip install lazypredict"
      ],
      "metadata": {
        "id": "Z5pVd9re32fK"
      },
      "execution_count": null,
      "outputs": []
    },
    {
      "cell_type": "code",
      "source": [
        "import plotly.express as px\n",
        "import pandas as pd\n",
        "import numpy as np\n",
        "\n",
        "\n",
        "coor = pd.read_csv(\"/content/drive/MyDrive/Colab Notebooks/LECO/input_files/distan_lat43.302lon-8.377p4R4Km.csv\")\n",
        "px.set_mapbox_access_token(\"pk.eyJ1IjoiZ3JhbmFudHVpbiIsImEiOiJja3B4dGU4OTkwMTFmMm9ycnNhMjJvaGJqIn0.VWzx_PkD9A5cSUVsn_ijCA\")\n",
        "px.scatter_mapbox(coor, hover_data=['distance'],lat='lat', lon='lon',color='distance', title=\"Nearest points\",\n",
        "                           color_continuous_scale=px.colors.cyclical.IceFire,)"
      ],
      "metadata": {
        "id": "L5ZGyKtdklV4",
        "colab": {
          "base_uri": "https://localhost:8080/",
          "height": 542
        },
        "outputId": "912f1c11-a23d-4203-d62e-675aeed0cd8e"
      },
      "execution_count": 1,
      "outputs": [
        {
          "output_type": "display_data",
          "data": {
            "text/html": [
              "<html>\n",
              "<head><meta charset=\"utf-8\" /></head>\n",
              "<body>\n",
              "    <div>            <script src=\"https://cdnjs.cloudflare.com/ajax/libs/mathjax/2.7.5/MathJax.js?config=TeX-AMS-MML_SVG\"></script><script type=\"text/javascript\">if (window.MathJax) {MathJax.Hub.Config({SVG: {font: \"STIX-Web\"}});}</script>                <script type=\"text/javascript\">window.PlotlyConfig = {MathJaxConfig: 'local'};</script>\n",
              "        <script src=\"https://cdn.plot.ly/plotly-2.8.3.min.js\"></script>                <div id=\"70c509a4-5573-4777-a09e-d73416ff8666\" class=\"plotly-graph-div\" style=\"height:525px; width:100%;\"></div>            <script type=\"text/javascript\">                                    window.PLOTLYENV=window.PLOTLYENV || {};                                    if (document.getElementById(\"70c509a4-5573-4777-a09e-d73416ff8666\")) {                    Plotly.newPlot(                        \"70c509a4-5573-4777-a09e-d73416ff8666\",                        [{\"customdata\":[[1.69],[2.86],[3.24],[3.98]],\"hovertemplate\":\"lat=%{lat}<br>lon=%{lon}<br>distance=%{marker.color}<extra></extra>\",\"lat\":[43.312167328205405,43.30971492706036,43.2762791618013,43.273828191657],\"legendgroup\":\"\",\"lon\":[-8.392546563426139,-8.343226491469435,-8.395900525698163,-8.346609255749526],\"marker\":{\"color\":[1.69,2.86,3.24,3.98],\"coloraxis\":\"coloraxis\"},\"mode\":\"markers\",\"name\":\"\",\"showlegend\":false,\"subplot\":\"mapbox\",\"type\":\"scattermapbox\"}],                        {\"template\":{\"data\":{\"bar\":[{\"error_x\":{\"color\":\"#2a3f5f\"},\"error_y\":{\"color\":\"#2a3f5f\"},\"marker\":{\"line\":{\"color\":\"#E5ECF6\",\"width\":0.5},\"pattern\":{\"fillmode\":\"overlay\",\"size\":10,\"solidity\":0.2}},\"type\":\"bar\"}],\"barpolar\":[{\"marker\":{\"line\":{\"color\":\"#E5ECF6\",\"width\":0.5},\"pattern\":{\"fillmode\":\"overlay\",\"size\":10,\"solidity\":0.2}},\"type\":\"barpolar\"}],\"carpet\":[{\"aaxis\":{\"endlinecolor\":\"#2a3f5f\",\"gridcolor\":\"white\",\"linecolor\":\"white\",\"minorgridcolor\":\"white\",\"startlinecolor\":\"#2a3f5f\"},\"baxis\":{\"endlinecolor\":\"#2a3f5f\",\"gridcolor\":\"white\",\"linecolor\":\"white\",\"minorgridcolor\":\"white\",\"startlinecolor\":\"#2a3f5f\"},\"type\":\"carpet\"}],\"choropleth\":[{\"colorbar\":{\"outlinewidth\":0,\"ticks\":\"\"},\"type\":\"choropleth\"}],\"contour\":[{\"colorbar\":{\"outlinewidth\":0,\"ticks\":\"\"},\"colorscale\":[[0.0,\"#0d0887\"],[0.1111111111111111,\"#46039f\"],[0.2222222222222222,\"#7201a8\"],[0.3333333333333333,\"#9c179e\"],[0.4444444444444444,\"#bd3786\"],[0.5555555555555556,\"#d8576b\"],[0.6666666666666666,\"#ed7953\"],[0.7777777777777778,\"#fb9f3a\"],[0.8888888888888888,\"#fdca26\"],[1.0,\"#f0f921\"]],\"type\":\"contour\"}],\"contourcarpet\":[{\"colorbar\":{\"outlinewidth\":0,\"ticks\":\"\"},\"type\":\"contourcarpet\"}],\"heatmap\":[{\"colorbar\":{\"outlinewidth\":0,\"ticks\":\"\"},\"colorscale\":[[0.0,\"#0d0887\"],[0.1111111111111111,\"#46039f\"],[0.2222222222222222,\"#7201a8\"],[0.3333333333333333,\"#9c179e\"],[0.4444444444444444,\"#bd3786\"],[0.5555555555555556,\"#d8576b\"],[0.6666666666666666,\"#ed7953\"],[0.7777777777777778,\"#fb9f3a\"],[0.8888888888888888,\"#fdca26\"],[1.0,\"#f0f921\"]],\"type\":\"heatmap\"}],\"heatmapgl\":[{\"colorbar\":{\"outlinewidth\":0,\"ticks\":\"\"},\"colorscale\":[[0.0,\"#0d0887\"],[0.1111111111111111,\"#46039f\"],[0.2222222222222222,\"#7201a8\"],[0.3333333333333333,\"#9c179e\"],[0.4444444444444444,\"#bd3786\"],[0.5555555555555556,\"#d8576b\"],[0.6666666666666666,\"#ed7953\"],[0.7777777777777778,\"#fb9f3a\"],[0.8888888888888888,\"#fdca26\"],[1.0,\"#f0f921\"]],\"type\":\"heatmapgl\"}],\"histogram\":[{\"marker\":{\"pattern\":{\"fillmode\":\"overlay\",\"size\":10,\"solidity\":0.2}},\"type\":\"histogram\"}],\"histogram2d\":[{\"colorbar\":{\"outlinewidth\":0,\"ticks\":\"\"},\"colorscale\":[[0.0,\"#0d0887\"],[0.1111111111111111,\"#46039f\"],[0.2222222222222222,\"#7201a8\"],[0.3333333333333333,\"#9c179e\"],[0.4444444444444444,\"#bd3786\"],[0.5555555555555556,\"#d8576b\"],[0.6666666666666666,\"#ed7953\"],[0.7777777777777778,\"#fb9f3a\"],[0.8888888888888888,\"#fdca26\"],[1.0,\"#f0f921\"]],\"type\":\"histogram2d\"}],\"histogram2dcontour\":[{\"colorbar\":{\"outlinewidth\":0,\"ticks\":\"\"},\"colorscale\":[[0.0,\"#0d0887\"],[0.1111111111111111,\"#46039f\"],[0.2222222222222222,\"#7201a8\"],[0.3333333333333333,\"#9c179e\"],[0.4444444444444444,\"#bd3786\"],[0.5555555555555556,\"#d8576b\"],[0.6666666666666666,\"#ed7953\"],[0.7777777777777778,\"#fb9f3a\"],[0.8888888888888888,\"#fdca26\"],[1.0,\"#f0f921\"]],\"type\":\"histogram2dcontour\"}],\"mesh3d\":[{\"colorbar\":{\"outlinewidth\":0,\"ticks\":\"\"},\"type\":\"mesh3d\"}],\"parcoords\":[{\"line\":{\"colorbar\":{\"outlinewidth\":0,\"ticks\":\"\"}},\"type\":\"parcoords\"}],\"pie\":[{\"automargin\":true,\"type\":\"pie\"}],\"scatter\":[{\"marker\":{\"colorbar\":{\"outlinewidth\":0,\"ticks\":\"\"}},\"type\":\"scatter\"}],\"scatter3d\":[{\"line\":{\"colorbar\":{\"outlinewidth\":0,\"ticks\":\"\"}},\"marker\":{\"colorbar\":{\"outlinewidth\":0,\"ticks\":\"\"}},\"type\":\"scatter3d\"}],\"scattercarpet\":[{\"marker\":{\"colorbar\":{\"outlinewidth\":0,\"ticks\":\"\"}},\"type\":\"scattercarpet\"}],\"scattergeo\":[{\"marker\":{\"colorbar\":{\"outlinewidth\":0,\"ticks\":\"\"}},\"type\":\"scattergeo\"}],\"scattergl\":[{\"marker\":{\"colorbar\":{\"outlinewidth\":0,\"ticks\":\"\"}},\"type\":\"scattergl\"}],\"scattermapbox\":[{\"marker\":{\"colorbar\":{\"outlinewidth\":0,\"ticks\":\"\"}},\"type\":\"scattermapbox\"}],\"scatterpolar\":[{\"marker\":{\"colorbar\":{\"outlinewidth\":0,\"ticks\":\"\"}},\"type\":\"scatterpolar\"}],\"scatterpolargl\":[{\"marker\":{\"colorbar\":{\"outlinewidth\":0,\"ticks\":\"\"}},\"type\":\"scatterpolargl\"}],\"scatterternary\":[{\"marker\":{\"colorbar\":{\"outlinewidth\":0,\"ticks\":\"\"}},\"type\":\"scatterternary\"}],\"surface\":[{\"colorbar\":{\"outlinewidth\":0,\"ticks\":\"\"},\"colorscale\":[[0.0,\"#0d0887\"],[0.1111111111111111,\"#46039f\"],[0.2222222222222222,\"#7201a8\"],[0.3333333333333333,\"#9c179e\"],[0.4444444444444444,\"#bd3786\"],[0.5555555555555556,\"#d8576b\"],[0.6666666666666666,\"#ed7953\"],[0.7777777777777778,\"#fb9f3a\"],[0.8888888888888888,\"#fdca26\"],[1.0,\"#f0f921\"]],\"type\":\"surface\"}],\"table\":[{\"cells\":{\"fill\":{\"color\":\"#EBF0F8\"},\"line\":{\"color\":\"white\"}},\"header\":{\"fill\":{\"color\":\"#C8D4E3\"},\"line\":{\"color\":\"white\"}},\"type\":\"table\"}]},\"layout\":{\"annotationdefaults\":{\"arrowcolor\":\"#2a3f5f\",\"arrowhead\":0,\"arrowwidth\":1},\"autotypenumbers\":\"strict\",\"coloraxis\":{\"colorbar\":{\"outlinewidth\":0,\"ticks\":\"\"}},\"colorscale\":{\"diverging\":[[0,\"#8e0152\"],[0.1,\"#c51b7d\"],[0.2,\"#de77ae\"],[0.3,\"#f1b6da\"],[0.4,\"#fde0ef\"],[0.5,\"#f7f7f7\"],[0.6,\"#e6f5d0\"],[0.7,\"#b8e186\"],[0.8,\"#7fbc41\"],[0.9,\"#4d9221\"],[1,\"#276419\"]],\"sequential\":[[0.0,\"#0d0887\"],[0.1111111111111111,\"#46039f\"],[0.2222222222222222,\"#7201a8\"],[0.3333333333333333,\"#9c179e\"],[0.4444444444444444,\"#bd3786\"],[0.5555555555555556,\"#d8576b\"],[0.6666666666666666,\"#ed7953\"],[0.7777777777777778,\"#fb9f3a\"],[0.8888888888888888,\"#fdca26\"],[1.0,\"#f0f921\"]],\"sequentialminus\":[[0.0,\"#0d0887\"],[0.1111111111111111,\"#46039f\"],[0.2222222222222222,\"#7201a8\"],[0.3333333333333333,\"#9c179e\"],[0.4444444444444444,\"#bd3786\"],[0.5555555555555556,\"#d8576b\"],[0.6666666666666666,\"#ed7953\"],[0.7777777777777778,\"#fb9f3a\"],[0.8888888888888888,\"#fdca26\"],[1.0,\"#f0f921\"]]},\"colorway\":[\"#636efa\",\"#EF553B\",\"#00cc96\",\"#ab63fa\",\"#FFA15A\",\"#19d3f3\",\"#FF6692\",\"#B6E880\",\"#FF97FF\",\"#FECB52\"],\"font\":{\"color\":\"#2a3f5f\"},\"geo\":{\"bgcolor\":\"white\",\"lakecolor\":\"white\",\"landcolor\":\"#E5ECF6\",\"showlakes\":true,\"showland\":true,\"subunitcolor\":\"white\"},\"hoverlabel\":{\"align\":\"left\"},\"hovermode\":\"closest\",\"mapbox\":{\"style\":\"light\"},\"paper_bgcolor\":\"white\",\"plot_bgcolor\":\"#E5ECF6\",\"polar\":{\"angularaxis\":{\"gridcolor\":\"white\",\"linecolor\":\"white\",\"ticks\":\"\"},\"bgcolor\":\"#E5ECF6\",\"radialaxis\":{\"gridcolor\":\"white\",\"linecolor\":\"white\",\"ticks\":\"\"}},\"scene\":{\"xaxis\":{\"backgroundcolor\":\"#E5ECF6\",\"gridcolor\":\"white\",\"gridwidth\":2,\"linecolor\":\"white\",\"showbackground\":true,\"ticks\":\"\",\"zerolinecolor\":\"white\"},\"yaxis\":{\"backgroundcolor\":\"#E5ECF6\",\"gridcolor\":\"white\",\"gridwidth\":2,\"linecolor\":\"white\",\"showbackground\":true,\"ticks\":\"\",\"zerolinecolor\":\"white\"},\"zaxis\":{\"backgroundcolor\":\"#E5ECF6\",\"gridcolor\":\"white\",\"gridwidth\":2,\"linecolor\":\"white\",\"showbackground\":true,\"ticks\":\"\",\"zerolinecolor\":\"white\"}},\"shapedefaults\":{\"line\":{\"color\":\"#2a3f5f\"}},\"ternary\":{\"aaxis\":{\"gridcolor\":\"white\",\"linecolor\":\"white\",\"ticks\":\"\"},\"baxis\":{\"gridcolor\":\"white\",\"linecolor\":\"white\",\"ticks\":\"\"},\"bgcolor\":\"#E5ECF6\",\"caxis\":{\"gridcolor\":\"white\",\"linecolor\":\"white\",\"ticks\":\"\"}},\"title\":{\"x\":0.05},\"xaxis\":{\"automargin\":true,\"gridcolor\":\"white\",\"linecolor\":\"white\",\"ticks\":\"\",\"title\":{\"standoff\":15},\"zerolinecolor\":\"white\",\"zerolinewidth\":2},\"yaxis\":{\"automargin\":true,\"gridcolor\":\"white\",\"linecolor\":\"white\",\"ticks\":\"\",\"title\":{\"standoff\":15},\"zerolinecolor\":\"white\",\"zerolinewidth\":2}}},\"mapbox\":{\"domain\":{\"x\":[0.0,1.0],\"y\":[0.0,1.0]},\"center\":{\"lat\":43.292997402181015,\"lon\":-8.369570709085815},\"accesstoken\":\"pk.eyJ1IjoiZ3JhbmFudHVpbiIsImEiOiJja3B4dGU4OTkwMTFmMm9ycnNhMjJvaGJqIn0.VWzx_PkD9A5cSUVsn_ijCA\",\"zoom\":8},\"coloraxis\":{\"colorbar\":{\"title\":{\"text\":\"distance\"}},\"colorscale\":[[0.0,\"#000000\"],[0.0625,\"#001f4d\"],[0.125,\"#003786\"],[0.1875,\"#0e58a8\"],[0.25,\"#217eb8\"],[0.3125,\"#30a4ca\"],[0.375,\"#54c8df\"],[0.4375,\"#9be4ef\"],[0.5,\"#e1e9d1\"],[0.5625,\"#f3d573\"],[0.625,\"#e7b000\"],[0.6875,\"#da8200\"],[0.75,\"#c65400\"],[0.8125,\"#ac2301\"],[0.875,\"#820000\"],[0.9375,\"#4c0000\"],[1.0,\"#000000\"]]},\"legend\":{\"tracegroupgap\":0},\"title\":{\"text\":\"Nearest points\"}},                        {\"responsive\": true}                    ).then(function(){\n",
              "                            \n",
              "var gd = document.getElementById('70c509a4-5573-4777-a09e-d73416ff8666');\n",
              "var x = new MutationObserver(function (mutations, observer) {{\n",
              "        var display = window.getComputedStyle(gd).display;\n",
              "        if (!display || display === 'none') {{\n",
              "            console.log([gd, 'removed!']);\n",
              "            Plotly.purge(gd);\n",
              "            observer.disconnect();\n",
              "        }}\n",
              "}});\n",
              "\n",
              "// Listen for the removal of the full notebook cells\n",
              "var notebookContainer = gd.closest('#notebook-container');\n",
              "if (notebookContainer) {{\n",
              "    x.observe(notebookContainer, {childList: true});\n",
              "}}\n",
              "\n",
              "// Listen for the clearing of the current output cell\n",
              "var outputEl = gd.closest('.output');\n",
              "if (outputEl) {{\n",
              "    x.observe(outputEl, {childList: true});\n",
              "}}\n",
              "\n",
              "                        })                };                            </script>        </div>\n",
              "</body>\n",
              "</html>"
            ]
          },
          "metadata": {}
        }
      ]
    },
    {
      "cell_type": "code",
      "source": [
        "from scipy.stats import shapiro\n",
        "import pandas as pd\n",
        "\n",
        "\n",
        "station = pd.read_csv(\"/content/drive/MyDrive/Colab Notebooks/LECO/input_files/LECOY2018Y2022.csv\",\n",
        "                          usecols = [\"time\",\"mslp_o\"],\n",
        "                          parse_dates=[\"time\"]).set_index(\"time\")\n",
        "\n",
        "#Shapiro test normality\n",
        "print(\"Shapiro test normality\")\n",
        "\n",
        "\n",
        "sta, p = shapiro(station.mslp_o.sample(500))\n",
        "\n",
        "print(\"\\np value:\",p)\n",
        "#significance level alpha=0.01\n",
        "alpha = 0.01\n",
        "if p>alpha:\n",
        "  print(\"Accept null hypothesis: normal distribution pressure variable\\n\")\n",
        "else:\n",
        "  print(\"Reject null Hypothesis. Alternative hypothesis variable no normal distribution pressure variable\\n\")  \n",
        "\n",
        "                        \n",
        "station[\"mslp_o\"].describe()"
      ],
      "metadata": {
        "id": "OEX1x76AU35s",
        "colab": {
          "base_uri": "https://localhost:8080/"
        },
        "outputId": "0b12fb0e-8a6d-4fd0-e2bc-aa1caea07289"
      },
      "execution_count": 2,
      "outputs": [
        {
          "output_type": "stream",
          "name": "stdout",
          "text": [
            "Shapiro test normality\n",
            "\n",
            "p value: 8.217564406720612e-10\n",
            "Reject null Hypothesis. Alternative hypothesis variable no normal distribution pressure variable\n",
            "\n"
          ]
        },
        {
          "output_type": "execute_result",
          "data": {
            "text/plain": [
              "count    89594.000000\n",
              "mean      1017.871621\n",
              "std          7.482318\n",
              "min        975.000000\n",
              "25%       1014.000000\n",
              "50%       1018.000000\n",
              "75%       1022.000000\n",
              "max       1038.000000\n",
              "Name: mslp_o, dtype: float64"
            ]
          },
          "metadata": {},
          "execution_count": 2
        }
      ]
    },
    {
      "cell_type": "markdown",
      "source": [
        "**Forecast **"
      ],
      "metadata": {
        "id": "eXs3F5ZTnQ8M"
      }
    },
    {
      "cell_type": "code",
      "source": [
        "#Load\n",
        "mody2018 = pd.read_csv(\"/content/drive/MyDrive/Colab Notebooks/LECO/input_files/lat43.302lon-8.377p4R4KmD0Y2018.csv\",parse_dates=[\"time\"])\n",
        "mody2019 = pd.read_csv(\"/content/drive/MyDrive/Colab Notebooks/LECO/input_files/lat43.302lon-8.377p4R4KmD0Y2019.csv\",parse_dates=[\"time\"])\n",
        "mody2020 = pd.read_csv(\"/content/drive/MyDrive/Colab Notebooks/LECO/input_files/lat43.302lon-8.377p4R4KmD0Y2020.csv\",parse_dates=[\"time\"])\n",
        "mody2021 = pd.read_csv(\"/content/drive/MyDrive/Colab Notebooks/LECO/input_files/lat43.302lon-8.377p4R4KmD0Y2021.csv\",parse_dates=[\"time\"])\n",
        "mody2022 = pd.read_csv(\"/content/drive/MyDrive/Colab Notebooks/LECO/input_files/lat43.302lon-8.377p4R4KmD0Y2022.csv\",parse_dates=[\"time\"])\n",
        "model1k = pd.concat([mody2018,mody2019,mody2020,mody2021,mody2022]).drop(columns=[\"Unnamed: 0\"]).set_index(\"time\")\n",
        "\n",
        "model1k"
      ],
      "metadata": {
        "id": "o5ZTRduTZ36H",
        "colab": {
          "base_uri": "https://localhost:8080/",
          "height": 866
        },
        "outputId": "0b519b01-525c-4f70-96c3-5f72ee408d56"
      },
      "execution_count": 3,
      "outputs": [
        {
          "output_type": "execute_result",
          "data": {
            "text/plain": [
              "                           dir0  snow_prec0   snowlevel0      mod0  \\\n",
              "time                                                                 \n",
              "2018-01-01 01:00:00  215.747849         0.0   902.306519  5.105255   \n",
              "2018-01-01 02:00:00  215.917984         0.0   914.343018  5.875232   \n",
              "2018-01-01 03:00:00  223.666367         0.0   940.227722  5.960269   \n",
              "2018-01-01 04:00:00  228.431320         0.0   956.362671  6.237044   \n",
              "2018-01-01 05:00:00  233.394775         0.0  1000.156311  6.957641   \n",
              "...                         ...         ...          ...       ...   \n",
              "2022-12-31 19:00:00  196.194504         0.0  1728.410522  6.787476   \n",
              "2022-12-31 20:00:00  196.235443         0.0  1765.730835  7.008511   \n",
              "2022-12-31 21:00:00  191.455536         0.0  1723.741089  7.775247   \n",
              "2022-12-31 22:00:00  189.382706         0.0  1806.905273  8.172070   \n",
              "2022-12-31 23:00:00  193.353058         0.0  1814.829102  7.558612   \n",
              "\n",
              "                     wind_gust0          mslp0       temp0       rh0  \\\n",
              "time                                                                   \n",
              "2018-01-01 01:00:00   13.569287  102718.562500  283.712128  0.804692   \n",
              "2018-01-01 02:00:00   14.852463  102704.343750  284.151947  0.809324   \n",
              "2018-01-01 03:00:00   14.331568  102696.648438  284.475311  0.807002   \n",
              "2018-01-01 04:00:00   15.082509  102694.281250  284.740265  0.815113   \n",
              "2018-01-01 05:00:00   15.846083  102686.031250  285.119202  0.827759   \n",
              "...                         ...            ...         ...       ...   \n",
              "2022-12-31 19:00:00   15.680066  101285.656250  286.803375  0.799586   \n",
              "2022-12-31 20:00:00   15.354391  101351.742188  286.676361  0.757733   \n",
              "2022-12-31 21:00:00   17.001736  101384.421875  286.187012  0.787016   \n",
              "2022-12-31 22:00:00   17.608215  101349.453125  286.234619  0.811537   \n",
              "2022-12-31 23:00:00   16.919928  101371.398438  286.304443  0.828767   \n",
              "\n",
              "                      visibility0     lhflx0  ...      cape3       cin3  \\\n",
              "time                                          ...                         \n",
              "2018-01-01 01:00:00  24051.365234  14.114291  ...   0.000000  -0.000477   \n",
              "2018-01-01 02:00:00  24039.359375  16.504606  ...   3.170000 -34.650459   \n",
              "2018-01-01 03:00:00  24040.320312  17.431562  ...  17.260000 -24.117239   \n",
              "2018-01-01 04:00:00  24042.085938  17.804031  ...  30.129999 -19.603157   \n",
              "2018-01-01 05:00:00  24040.648438  18.838913  ...  50.369999 -10.988547   \n",
              "...                           ...        ...  ...        ...        ...   \n",
              "2022-12-31 19:00:00  24039.525391  24.996758  ...   0.000000   0.000188   \n",
              "2022-12-31 20:00:00  24039.185547  30.592403  ...   0.000000   0.000438   \n",
              "2022-12-31 21:00:00  24044.787109  28.796240  ...   0.000000  -0.000937   \n",
              "2022-12-31 22:00:00  24040.322266  26.579182  ...   0.000000   0.000070   \n",
              "2022-12-31 23:00:00  24035.822266  22.632986  ...   0.000000  -0.000500   \n",
              "\n",
              "                        cfh3      cfl3      cfm3      cft3      HGT5003  \\\n",
              "time                                                                      \n",
              "2018-01-01 01:00:00  0.20000  0.000000  0.000000  0.200000  5563.714844   \n",
              "2018-01-01 02:00:00  0.20000  0.000000  0.000000  0.200000  5569.226074   \n",
              "2018-01-01 03:00:00  0.30000  0.101562  0.000000  0.300000  5577.497070   \n",
              "2018-01-01 04:00:00  0.30000  0.429688  0.000000  0.429688  5584.778809   \n",
              "2018-01-01 05:00:00  0.20000  0.000000  0.000000  0.200000  5587.893066   \n",
              "...                      ...       ...       ...       ...          ...   \n",
              "2022-12-31 19:00:00  0.30000  0.000000  0.328125  0.328125  5544.549805   \n",
              "2022-12-31 20:00:00  0.20000  0.000000  0.218750  0.218750  5547.923828   \n",
              "2022-12-31 21:00:00  0.10000  0.000000  0.242188  0.242188  5549.165039   \n",
              "2022-12-31 22:00:00  0.10000  0.000000  0.200000  0.200000  5549.271973   \n",
              "2022-12-31 23:00:00  0.15625  0.000000  0.210938  0.210938  5547.823242   \n",
              "\n",
              "                         HGT8503       T5003       T8503  \n",
              "time                                                      \n",
              "2018-01-01 01:00:00  1548.354980  248.946930  273.993866  \n",
              "2018-01-01 02:00:00  1547.240967  249.484375  273.890198  \n",
              "2018-01-01 03:00:00  1547.338013  249.928879  273.821869  \n",
              "2018-01-01 04:00:00  1548.901001  250.126190  273.762177  \n",
              "2018-01-01 05:00:00  1549.415039  250.114441  274.289764  \n",
              "...                          ...         ...         ...  \n",
              "2022-12-31 19:00:00  1437.326050  255.119003  278.081055  \n",
              "2022-12-31 20:00:00  1442.520996  254.816254  278.311188  \n",
              "2022-12-31 21:00:00  1447.194946  254.677689  278.057617  \n",
              "2022-12-31 22:00:00  1444.762939  254.540131  279.187073  \n",
              "2022-12-31 23:00:00  1443.887939  254.542496  279.232513  \n",
              "\n",
              "[41055 rows x 100 columns]"
            ],
            "text/html": [
              "\n",
              "  <div id=\"df-73cbbd2f-55ae-4c64-be29-6ab7a669eaa0\">\n",
              "    <div class=\"colab-df-container\">\n",
              "      <div>\n",
              "<style scoped>\n",
              "    .dataframe tbody tr th:only-of-type {\n",
              "        vertical-align: middle;\n",
              "    }\n",
              "\n",
              "    .dataframe tbody tr th {\n",
              "        vertical-align: top;\n",
              "    }\n",
              "\n",
              "    .dataframe thead th {\n",
              "        text-align: right;\n",
              "    }\n",
              "</style>\n",
              "<table border=\"1\" class=\"dataframe\">\n",
              "  <thead>\n",
              "    <tr style=\"text-align: right;\">\n",
              "      <th></th>\n",
              "      <th>dir0</th>\n",
              "      <th>snow_prec0</th>\n",
              "      <th>snowlevel0</th>\n",
              "      <th>mod0</th>\n",
              "      <th>wind_gust0</th>\n",
              "      <th>mslp0</th>\n",
              "      <th>temp0</th>\n",
              "      <th>rh0</th>\n",
              "      <th>visibility0</th>\n",
              "      <th>lhflx0</th>\n",
              "      <th>...</th>\n",
              "      <th>cape3</th>\n",
              "      <th>cin3</th>\n",
              "      <th>cfh3</th>\n",
              "      <th>cfl3</th>\n",
              "      <th>cfm3</th>\n",
              "      <th>cft3</th>\n",
              "      <th>HGT5003</th>\n",
              "      <th>HGT8503</th>\n",
              "      <th>T5003</th>\n",
              "      <th>T8503</th>\n",
              "    </tr>\n",
              "    <tr>\n",
              "      <th>time</th>\n",
              "      <th></th>\n",
              "      <th></th>\n",
              "      <th></th>\n",
              "      <th></th>\n",
              "      <th></th>\n",
              "      <th></th>\n",
              "      <th></th>\n",
              "      <th></th>\n",
              "      <th></th>\n",
              "      <th></th>\n",
              "      <th></th>\n",
              "      <th></th>\n",
              "      <th></th>\n",
              "      <th></th>\n",
              "      <th></th>\n",
              "      <th></th>\n",
              "      <th></th>\n",
              "      <th></th>\n",
              "      <th></th>\n",
              "      <th></th>\n",
              "      <th></th>\n",
              "    </tr>\n",
              "  </thead>\n",
              "  <tbody>\n",
              "    <tr>\n",
              "      <th>2018-01-01 01:00:00</th>\n",
              "      <td>215.747849</td>\n",
              "      <td>0.0</td>\n",
              "      <td>902.306519</td>\n",
              "      <td>5.105255</td>\n",
              "      <td>13.569287</td>\n",
              "      <td>102718.562500</td>\n",
              "      <td>283.712128</td>\n",
              "      <td>0.804692</td>\n",
              "      <td>24051.365234</td>\n",
              "      <td>14.114291</td>\n",
              "      <td>...</td>\n",
              "      <td>0.000000</td>\n",
              "      <td>-0.000477</td>\n",
              "      <td>0.20000</td>\n",
              "      <td>0.000000</td>\n",
              "      <td>0.000000</td>\n",
              "      <td>0.200000</td>\n",
              "      <td>5563.714844</td>\n",
              "      <td>1548.354980</td>\n",
              "      <td>248.946930</td>\n",
              "      <td>273.993866</td>\n",
              "    </tr>\n",
              "    <tr>\n",
              "      <th>2018-01-01 02:00:00</th>\n",
              "      <td>215.917984</td>\n",
              "      <td>0.0</td>\n",
              "      <td>914.343018</td>\n",
              "      <td>5.875232</td>\n",
              "      <td>14.852463</td>\n",
              "      <td>102704.343750</td>\n",
              "      <td>284.151947</td>\n",
              "      <td>0.809324</td>\n",
              "      <td>24039.359375</td>\n",
              "      <td>16.504606</td>\n",
              "      <td>...</td>\n",
              "      <td>3.170000</td>\n",
              "      <td>-34.650459</td>\n",
              "      <td>0.20000</td>\n",
              "      <td>0.000000</td>\n",
              "      <td>0.000000</td>\n",
              "      <td>0.200000</td>\n",
              "      <td>5569.226074</td>\n",
              "      <td>1547.240967</td>\n",
              "      <td>249.484375</td>\n",
              "      <td>273.890198</td>\n",
              "    </tr>\n",
              "    <tr>\n",
              "      <th>2018-01-01 03:00:00</th>\n",
              "      <td>223.666367</td>\n",
              "      <td>0.0</td>\n",
              "      <td>940.227722</td>\n",
              "      <td>5.960269</td>\n",
              "      <td>14.331568</td>\n",
              "      <td>102696.648438</td>\n",
              "      <td>284.475311</td>\n",
              "      <td>0.807002</td>\n",
              "      <td>24040.320312</td>\n",
              "      <td>17.431562</td>\n",
              "      <td>...</td>\n",
              "      <td>17.260000</td>\n",
              "      <td>-24.117239</td>\n",
              "      <td>0.30000</td>\n",
              "      <td>0.101562</td>\n",
              "      <td>0.000000</td>\n",
              "      <td>0.300000</td>\n",
              "      <td>5577.497070</td>\n",
              "      <td>1547.338013</td>\n",
              "      <td>249.928879</td>\n",
              "      <td>273.821869</td>\n",
              "    </tr>\n",
              "    <tr>\n",
              "      <th>2018-01-01 04:00:00</th>\n",
              "      <td>228.431320</td>\n",
              "      <td>0.0</td>\n",
              "      <td>956.362671</td>\n",
              "      <td>6.237044</td>\n",
              "      <td>15.082509</td>\n",
              "      <td>102694.281250</td>\n",
              "      <td>284.740265</td>\n",
              "      <td>0.815113</td>\n",
              "      <td>24042.085938</td>\n",
              "      <td>17.804031</td>\n",
              "      <td>...</td>\n",
              "      <td>30.129999</td>\n",
              "      <td>-19.603157</td>\n",
              "      <td>0.30000</td>\n",
              "      <td>0.429688</td>\n",
              "      <td>0.000000</td>\n",
              "      <td>0.429688</td>\n",
              "      <td>5584.778809</td>\n",
              "      <td>1548.901001</td>\n",
              "      <td>250.126190</td>\n",
              "      <td>273.762177</td>\n",
              "    </tr>\n",
              "    <tr>\n",
              "      <th>2018-01-01 05:00:00</th>\n",
              "      <td>233.394775</td>\n",
              "      <td>0.0</td>\n",
              "      <td>1000.156311</td>\n",
              "      <td>6.957641</td>\n",
              "      <td>15.846083</td>\n",
              "      <td>102686.031250</td>\n",
              "      <td>285.119202</td>\n",
              "      <td>0.827759</td>\n",
              "      <td>24040.648438</td>\n",
              "      <td>18.838913</td>\n",
              "      <td>...</td>\n",
              "      <td>50.369999</td>\n",
              "      <td>-10.988547</td>\n",
              "      <td>0.20000</td>\n",
              "      <td>0.000000</td>\n",
              "      <td>0.000000</td>\n",
              "      <td>0.200000</td>\n",
              "      <td>5587.893066</td>\n",
              "      <td>1549.415039</td>\n",
              "      <td>250.114441</td>\n",
              "      <td>274.289764</td>\n",
              "    </tr>\n",
              "    <tr>\n",
              "      <th>...</th>\n",
              "      <td>...</td>\n",
              "      <td>...</td>\n",
              "      <td>...</td>\n",
              "      <td>...</td>\n",
              "      <td>...</td>\n",
              "      <td>...</td>\n",
              "      <td>...</td>\n",
              "      <td>...</td>\n",
              "      <td>...</td>\n",
              "      <td>...</td>\n",
              "      <td>...</td>\n",
              "      <td>...</td>\n",
              "      <td>...</td>\n",
              "      <td>...</td>\n",
              "      <td>...</td>\n",
              "      <td>...</td>\n",
              "      <td>...</td>\n",
              "      <td>...</td>\n",
              "      <td>...</td>\n",
              "      <td>...</td>\n",
              "      <td>...</td>\n",
              "    </tr>\n",
              "    <tr>\n",
              "      <th>2022-12-31 19:00:00</th>\n",
              "      <td>196.194504</td>\n",
              "      <td>0.0</td>\n",
              "      <td>1728.410522</td>\n",
              "      <td>6.787476</td>\n",
              "      <td>15.680066</td>\n",
              "      <td>101285.656250</td>\n",
              "      <td>286.803375</td>\n",
              "      <td>0.799586</td>\n",
              "      <td>24039.525391</td>\n",
              "      <td>24.996758</td>\n",
              "      <td>...</td>\n",
              "      <td>0.000000</td>\n",
              "      <td>0.000188</td>\n",
              "      <td>0.30000</td>\n",
              "      <td>0.000000</td>\n",
              "      <td>0.328125</td>\n",
              "      <td>0.328125</td>\n",
              "      <td>5544.549805</td>\n",
              "      <td>1437.326050</td>\n",
              "      <td>255.119003</td>\n",
              "      <td>278.081055</td>\n",
              "    </tr>\n",
              "    <tr>\n",
              "      <th>2022-12-31 20:00:00</th>\n",
              "      <td>196.235443</td>\n",
              "      <td>0.0</td>\n",
              "      <td>1765.730835</td>\n",
              "      <td>7.008511</td>\n",
              "      <td>15.354391</td>\n",
              "      <td>101351.742188</td>\n",
              "      <td>286.676361</td>\n",
              "      <td>0.757733</td>\n",
              "      <td>24039.185547</td>\n",
              "      <td>30.592403</td>\n",
              "      <td>...</td>\n",
              "      <td>0.000000</td>\n",
              "      <td>0.000438</td>\n",
              "      <td>0.20000</td>\n",
              "      <td>0.000000</td>\n",
              "      <td>0.218750</td>\n",
              "      <td>0.218750</td>\n",
              "      <td>5547.923828</td>\n",
              "      <td>1442.520996</td>\n",
              "      <td>254.816254</td>\n",
              "      <td>278.311188</td>\n",
              "    </tr>\n",
              "    <tr>\n",
              "      <th>2022-12-31 21:00:00</th>\n",
              "      <td>191.455536</td>\n",
              "      <td>0.0</td>\n",
              "      <td>1723.741089</td>\n",
              "      <td>7.775247</td>\n",
              "      <td>17.001736</td>\n",
              "      <td>101384.421875</td>\n",
              "      <td>286.187012</td>\n",
              "      <td>0.787016</td>\n",
              "      <td>24044.787109</td>\n",
              "      <td>28.796240</td>\n",
              "      <td>...</td>\n",
              "      <td>0.000000</td>\n",
              "      <td>-0.000937</td>\n",
              "      <td>0.10000</td>\n",
              "      <td>0.000000</td>\n",
              "      <td>0.242188</td>\n",
              "      <td>0.242188</td>\n",
              "      <td>5549.165039</td>\n",
              "      <td>1447.194946</td>\n",
              "      <td>254.677689</td>\n",
              "      <td>278.057617</td>\n",
              "    </tr>\n",
              "    <tr>\n",
              "      <th>2022-12-31 22:00:00</th>\n",
              "      <td>189.382706</td>\n",
              "      <td>0.0</td>\n",
              "      <td>1806.905273</td>\n",
              "      <td>8.172070</td>\n",
              "      <td>17.608215</td>\n",
              "      <td>101349.453125</td>\n",
              "      <td>286.234619</td>\n",
              "      <td>0.811537</td>\n",
              "      <td>24040.322266</td>\n",
              "      <td>26.579182</td>\n",
              "      <td>...</td>\n",
              "      <td>0.000000</td>\n",
              "      <td>0.000070</td>\n",
              "      <td>0.10000</td>\n",
              "      <td>0.000000</td>\n",
              "      <td>0.200000</td>\n",
              "      <td>0.200000</td>\n",
              "      <td>5549.271973</td>\n",
              "      <td>1444.762939</td>\n",
              "      <td>254.540131</td>\n",
              "      <td>279.187073</td>\n",
              "    </tr>\n",
              "    <tr>\n",
              "      <th>2022-12-31 23:00:00</th>\n",
              "      <td>193.353058</td>\n",
              "      <td>0.0</td>\n",
              "      <td>1814.829102</td>\n",
              "      <td>7.558612</td>\n",
              "      <td>16.919928</td>\n",
              "      <td>101371.398438</td>\n",
              "      <td>286.304443</td>\n",
              "      <td>0.828767</td>\n",
              "      <td>24035.822266</td>\n",
              "      <td>22.632986</td>\n",
              "      <td>...</td>\n",
              "      <td>0.000000</td>\n",
              "      <td>-0.000500</td>\n",
              "      <td>0.15625</td>\n",
              "      <td>0.000000</td>\n",
              "      <td>0.210938</td>\n",
              "      <td>0.210938</td>\n",
              "      <td>5547.823242</td>\n",
              "      <td>1443.887939</td>\n",
              "      <td>254.542496</td>\n",
              "      <td>279.232513</td>\n",
              "    </tr>\n",
              "  </tbody>\n",
              "</table>\n",
              "<p>41055 rows × 100 columns</p>\n",
              "</div>\n",
              "      <button class=\"colab-df-convert\" onclick=\"convertToInteractive('df-73cbbd2f-55ae-4c64-be29-6ab7a669eaa0')\"\n",
              "              title=\"Convert this dataframe to an interactive table.\"\n",
              "              style=\"display:none;\">\n",
              "        \n",
              "  <svg xmlns=\"http://www.w3.org/2000/svg\" height=\"24px\"viewBox=\"0 0 24 24\"\n",
              "       width=\"24px\">\n",
              "    <path d=\"M0 0h24v24H0V0z\" fill=\"none\"/>\n",
              "    <path d=\"M18.56 5.44l.94 2.06.94-2.06 2.06-.94-2.06-.94-.94-2.06-.94 2.06-2.06.94zm-11 1L8.5 8.5l.94-2.06 2.06-.94-2.06-.94L8.5 2.5l-.94 2.06-2.06.94zm10 10l.94 2.06.94-2.06 2.06-.94-2.06-.94-.94-2.06-.94 2.06-2.06.94z\"/><path d=\"M17.41 7.96l-1.37-1.37c-.4-.4-.92-.59-1.43-.59-.52 0-1.04.2-1.43.59L10.3 9.45l-7.72 7.72c-.78.78-.78 2.05 0 2.83L4 21.41c.39.39.9.59 1.41.59.51 0 1.02-.2 1.41-.59l7.78-7.78 2.81-2.81c.8-.78.8-2.07 0-2.86zM5.41 20L4 18.59l7.72-7.72 1.47 1.35L5.41 20z\"/>\n",
              "  </svg>\n",
              "      </button>\n",
              "      \n",
              "  <style>\n",
              "    .colab-df-container {\n",
              "      display:flex;\n",
              "      flex-wrap:wrap;\n",
              "      gap: 12px;\n",
              "    }\n",
              "\n",
              "    .colab-df-convert {\n",
              "      background-color: #E8F0FE;\n",
              "      border: none;\n",
              "      border-radius: 50%;\n",
              "      cursor: pointer;\n",
              "      display: none;\n",
              "      fill: #1967D2;\n",
              "      height: 32px;\n",
              "      padding: 0 0 0 0;\n",
              "      width: 32px;\n",
              "    }\n",
              "\n",
              "    .colab-df-convert:hover {\n",
              "      background-color: #E2EBFA;\n",
              "      box-shadow: 0px 1px 2px rgba(60, 64, 67, 0.3), 0px 1px 3px 1px rgba(60, 64, 67, 0.15);\n",
              "      fill: #174EA6;\n",
              "    }\n",
              "\n",
              "    [theme=dark] .colab-df-convert {\n",
              "      background-color: #3B4455;\n",
              "      fill: #D2E3FC;\n",
              "    }\n",
              "\n",
              "    [theme=dark] .colab-df-convert:hover {\n",
              "      background-color: #434B5C;\n",
              "      box-shadow: 0px 1px 3px 1px rgba(0, 0, 0, 0.15);\n",
              "      filter: drop-shadow(0px 1px 2px rgba(0, 0, 0, 0.3));\n",
              "      fill: #FFFFFF;\n",
              "    }\n",
              "  </style>\n",
              "\n",
              "      <script>\n",
              "        const buttonEl =\n",
              "          document.querySelector('#df-73cbbd2f-55ae-4c64-be29-6ab7a669eaa0 button.colab-df-convert');\n",
              "        buttonEl.style.display =\n",
              "          google.colab.kernel.accessAllowed ? 'block' : 'none';\n",
              "\n",
              "        async function convertToInteractive(key) {\n",
              "          const element = document.querySelector('#df-73cbbd2f-55ae-4c64-be29-6ab7a669eaa0');\n",
              "          const dataTable =\n",
              "            await google.colab.kernel.invokeFunction('convertToInteractive',\n",
              "                                                     [key], {});\n",
              "          if (!dataTable) return;\n",
              "\n",
              "          const docLinkHtml = 'Like what you see? Visit the ' +\n",
              "            '<a target=\"_blank\" href=https://colab.research.google.com/notebooks/data_table.ipynb>data table notebook</a>'\n",
              "            + ' to learn more about interactive tables.';\n",
              "          element.innerHTML = '';\n",
              "          dataTable['output_type'] = 'display_data';\n",
              "          await google.colab.output.renderOutput(dataTable, element);\n",
              "          const docLink = document.createElement('div');\n",
              "          docLink.innerHTML = docLinkHtml;\n",
              "          element.appendChild(docLink);\n",
              "        }\n",
              "      </script>\n",
              "    </div>\n",
              "  </div>\n",
              "  "
            ]
          },
          "metadata": {},
          "execution_count": 3
        }
      ]
    },
    {
      "cell_type": "code",
      "source": [
        "#concat station model\n",
        "df_all1k = pd.concat([station,model1k],axis=1).dropna()\n",
        "df_all1k"
      ],
      "metadata": {
        "colab": {
          "base_uri": "https://localhost:8080/",
          "height": 866
        },
        "id": "Pew3L8PHgA0R",
        "outputId": "0a436060-aa60-4deb-80e2-6991735e7041"
      },
      "execution_count": 4,
      "outputs": [
        {
          "output_type": "execute_result",
          "data": {
            "text/plain": [
              "                     mslp_o        dir0  snow_prec0   snowlevel0       mod0  \\\n",
              "time                                                                          \n",
              "2018-01-01 01:00:00  1027.0  215.747849         0.0   902.306519   5.105255   \n",
              "2018-01-01 02:00:00  1027.0  215.917984         0.0   914.343018   5.875232   \n",
              "2018-01-01 03:00:00  1027.0  223.666367         0.0   940.227722   5.960269   \n",
              "2018-01-01 04:00:00  1026.0  228.431320         0.0   956.362671   6.237044   \n",
              "2018-01-01 05:00:00  1026.0  233.394775         0.0  1000.156311   6.957641   \n",
              "...                     ...         ...         ...          ...        ...   \n",
              "2022-12-30 19:00:00  1013.0  205.438812         0.0  2140.130859  10.966944   \n",
              "2022-12-30 20:00:00  1013.0  205.519791         0.0  2128.530762  10.623146   \n",
              "2022-12-30 21:00:00  1013.0  203.523941         0.0  2142.092529  10.237870   \n",
              "2022-12-30 22:00:00  1013.0  201.616959         0.0  2121.737793   9.658238   \n",
              "2022-12-30 23:00:00  1013.0  196.627472         0.0  2122.162842   9.923582   \n",
              "\n",
              "                     wind_gust0          mslp0       temp0       rh0  \\\n",
              "time                                                                   \n",
              "2018-01-01 01:00:00   13.569287  102718.562500  283.712128  0.804692   \n",
              "2018-01-01 02:00:00   14.852463  102704.343750  284.151947  0.809324   \n",
              "2018-01-01 03:00:00   14.331568  102696.648438  284.475311  0.807002   \n",
              "2018-01-01 04:00:00   15.082509  102694.281250  284.740265  0.815113   \n",
              "2018-01-01 05:00:00   15.846083  102686.031250  285.119202  0.827759   \n",
              "...                         ...            ...         ...       ...   \n",
              "2022-12-30 19:00:00   20.408443  101224.937500  289.855621  0.844320   \n",
              "2022-12-30 20:00:00   20.809048  101283.632812  289.902374  0.844684   \n",
              "2022-12-30 21:00:00   20.840071  101280.671875  289.717926  0.853459   \n",
              "2022-12-30 22:00:00   19.937672  101289.281250  289.617004  0.854495   \n",
              "2022-12-30 23:00:00   20.322779  101273.460938  289.326935  0.857122   \n",
              "\n",
              "                      visibility0  ...      cape3       cin3  cfh3      cfl3  \\\n",
              "time                               ...                                         \n",
              "2018-01-01 01:00:00  24051.365234  ...   0.000000  -0.000477   0.2  0.000000   \n",
              "2018-01-01 02:00:00  24039.359375  ...   3.170000 -34.650459   0.2  0.000000   \n",
              "2018-01-01 03:00:00  24040.320312  ...  17.260000 -24.117239   0.3  0.101562   \n",
              "2018-01-01 04:00:00  24042.085938  ...  30.129999 -19.603157   0.3  0.429688   \n",
              "2018-01-01 05:00:00  24040.648438  ...  50.369999 -10.988547   0.2  0.000000   \n",
              "...                           ...  ...        ...        ...   ...       ...   \n",
              "2022-12-30 19:00:00  24038.054688  ...   0.000000   0.000000   0.2  0.320312   \n",
              "2022-12-30 20:00:00  24036.107422  ...   1.280000  -8.179551   0.3  0.500000   \n",
              "2022-12-30 21:00:00  24234.943359  ...   0.000000   0.000113   0.6  0.437500   \n",
              "2022-12-30 22:00:00  24234.662109  ...   0.656000  -9.782903   0.6  0.429688   \n",
              "2022-12-30 23:00:00  24036.123047  ...   1.680000  -2.866535   0.5  0.515625   \n",
              "\n",
              "                     cfm3      cft3      HGT5003      HGT8503       T5003  \\\n",
              "time                                                                        \n",
              "2018-01-01 01:00:00   0.0  0.200000  5563.714844  1548.354980  248.946930   \n",
              "2018-01-01 02:00:00   0.0  0.200000  5569.226074  1547.240967  249.484375   \n",
              "2018-01-01 03:00:00   0.0  0.300000  5577.497070  1547.338013  249.928879   \n",
              "2018-01-01 04:00:00   0.0  0.429688  5584.778809  1548.901001  250.126190   \n",
              "2018-01-01 05:00:00   0.0  0.200000  5587.893066  1549.415039  250.114441   \n",
              "...                   ...       ...          ...          ...         ...   \n",
              "2022-12-30 19:00:00   0.0  0.320312  5593.541016  1449.093994  256.560760   \n",
              "2022-12-30 20:00:00   0.0  0.500000  5598.160156  1454.644043  257.004120   \n",
              "2022-12-30 21:00:00   0.0  0.600000  5602.586914  1453.765991  257.113007   \n",
              "2022-12-30 22:00:00   0.0  0.600000  5604.122070  1452.741943  257.041443   \n",
              "2022-12-30 23:00:00   0.0  0.515625  5603.122070  1450.875000  257.380432   \n",
              "\n",
              "                          T8503  \n",
              "time                             \n",
              "2018-01-01 01:00:00  273.993866  \n",
              "2018-01-01 02:00:00  273.890198  \n",
              "2018-01-01 03:00:00  273.821869  \n",
              "2018-01-01 04:00:00  273.762177  \n",
              "2018-01-01 05:00:00  274.289764  \n",
              "...                         ...  \n",
              "2022-12-30 19:00:00  282.030304  \n",
              "2022-12-30 20:00:00  281.343872  \n",
              "2022-12-30 21:00:00  281.831879  \n",
              "2022-12-30 22:00:00  281.463501  \n",
              "2022-12-30 23:00:00  281.020813  \n",
              "\n",
              "[40843 rows x 101 columns]"
            ],
            "text/html": [
              "\n",
              "  <div id=\"df-767e45ea-6065-4fb1-84bc-e4a9bdfffc39\">\n",
              "    <div class=\"colab-df-container\">\n",
              "      <div>\n",
              "<style scoped>\n",
              "    .dataframe tbody tr th:only-of-type {\n",
              "        vertical-align: middle;\n",
              "    }\n",
              "\n",
              "    .dataframe tbody tr th {\n",
              "        vertical-align: top;\n",
              "    }\n",
              "\n",
              "    .dataframe thead th {\n",
              "        text-align: right;\n",
              "    }\n",
              "</style>\n",
              "<table border=\"1\" class=\"dataframe\">\n",
              "  <thead>\n",
              "    <tr style=\"text-align: right;\">\n",
              "      <th></th>\n",
              "      <th>mslp_o</th>\n",
              "      <th>dir0</th>\n",
              "      <th>snow_prec0</th>\n",
              "      <th>snowlevel0</th>\n",
              "      <th>mod0</th>\n",
              "      <th>wind_gust0</th>\n",
              "      <th>mslp0</th>\n",
              "      <th>temp0</th>\n",
              "      <th>rh0</th>\n",
              "      <th>visibility0</th>\n",
              "      <th>...</th>\n",
              "      <th>cape3</th>\n",
              "      <th>cin3</th>\n",
              "      <th>cfh3</th>\n",
              "      <th>cfl3</th>\n",
              "      <th>cfm3</th>\n",
              "      <th>cft3</th>\n",
              "      <th>HGT5003</th>\n",
              "      <th>HGT8503</th>\n",
              "      <th>T5003</th>\n",
              "      <th>T8503</th>\n",
              "    </tr>\n",
              "    <tr>\n",
              "      <th>time</th>\n",
              "      <th></th>\n",
              "      <th></th>\n",
              "      <th></th>\n",
              "      <th></th>\n",
              "      <th></th>\n",
              "      <th></th>\n",
              "      <th></th>\n",
              "      <th></th>\n",
              "      <th></th>\n",
              "      <th></th>\n",
              "      <th></th>\n",
              "      <th></th>\n",
              "      <th></th>\n",
              "      <th></th>\n",
              "      <th></th>\n",
              "      <th></th>\n",
              "      <th></th>\n",
              "      <th></th>\n",
              "      <th></th>\n",
              "      <th></th>\n",
              "      <th></th>\n",
              "    </tr>\n",
              "  </thead>\n",
              "  <tbody>\n",
              "    <tr>\n",
              "      <th>2018-01-01 01:00:00</th>\n",
              "      <td>1027.0</td>\n",
              "      <td>215.747849</td>\n",
              "      <td>0.0</td>\n",
              "      <td>902.306519</td>\n",
              "      <td>5.105255</td>\n",
              "      <td>13.569287</td>\n",
              "      <td>102718.562500</td>\n",
              "      <td>283.712128</td>\n",
              "      <td>0.804692</td>\n",
              "      <td>24051.365234</td>\n",
              "      <td>...</td>\n",
              "      <td>0.000000</td>\n",
              "      <td>-0.000477</td>\n",
              "      <td>0.2</td>\n",
              "      <td>0.000000</td>\n",
              "      <td>0.0</td>\n",
              "      <td>0.200000</td>\n",
              "      <td>5563.714844</td>\n",
              "      <td>1548.354980</td>\n",
              "      <td>248.946930</td>\n",
              "      <td>273.993866</td>\n",
              "    </tr>\n",
              "    <tr>\n",
              "      <th>2018-01-01 02:00:00</th>\n",
              "      <td>1027.0</td>\n",
              "      <td>215.917984</td>\n",
              "      <td>0.0</td>\n",
              "      <td>914.343018</td>\n",
              "      <td>5.875232</td>\n",
              "      <td>14.852463</td>\n",
              "      <td>102704.343750</td>\n",
              "      <td>284.151947</td>\n",
              "      <td>0.809324</td>\n",
              "      <td>24039.359375</td>\n",
              "      <td>...</td>\n",
              "      <td>3.170000</td>\n",
              "      <td>-34.650459</td>\n",
              "      <td>0.2</td>\n",
              "      <td>0.000000</td>\n",
              "      <td>0.0</td>\n",
              "      <td>0.200000</td>\n",
              "      <td>5569.226074</td>\n",
              "      <td>1547.240967</td>\n",
              "      <td>249.484375</td>\n",
              "      <td>273.890198</td>\n",
              "    </tr>\n",
              "    <tr>\n",
              "      <th>2018-01-01 03:00:00</th>\n",
              "      <td>1027.0</td>\n",
              "      <td>223.666367</td>\n",
              "      <td>0.0</td>\n",
              "      <td>940.227722</td>\n",
              "      <td>5.960269</td>\n",
              "      <td>14.331568</td>\n",
              "      <td>102696.648438</td>\n",
              "      <td>284.475311</td>\n",
              "      <td>0.807002</td>\n",
              "      <td>24040.320312</td>\n",
              "      <td>...</td>\n",
              "      <td>17.260000</td>\n",
              "      <td>-24.117239</td>\n",
              "      <td>0.3</td>\n",
              "      <td>0.101562</td>\n",
              "      <td>0.0</td>\n",
              "      <td>0.300000</td>\n",
              "      <td>5577.497070</td>\n",
              "      <td>1547.338013</td>\n",
              "      <td>249.928879</td>\n",
              "      <td>273.821869</td>\n",
              "    </tr>\n",
              "    <tr>\n",
              "      <th>2018-01-01 04:00:00</th>\n",
              "      <td>1026.0</td>\n",
              "      <td>228.431320</td>\n",
              "      <td>0.0</td>\n",
              "      <td>956.362671</td>\n",
              "      <td>6.237044</td>\n",
              "      <td>15.082509</td>\n",
              "      <td>102694.281250</td>\n",
              "      <td>284.740265</td>\n",
              "      <td>0.815113</td>\n",
              "      <td>24042.085938</td>\n",
              "      <td>...</td>\n",
              "      <td>30.129999</td>\n",
              "      <td>-19.603157</td>\n",
              "      <td>0.3</td>\n",
              "      <td>0.429688</td>\n",
              "      <td>0.0</td>\n",
              "      <td>0.429688</td>\n",
              "      <td>5584.778809</td>\n",
              "      <td>1548.901001</td>\n",
              "      <td>250.126190</td>\n",
              "      <td>273.762177</td>\n",
              "    </tr>\n",
              "    <tr>\n",
              "      <th>2018-01-01 05:00:00</th>\n",
              "      <td>1026.0</td>\n",
              "      <td>233.394775</td>\n",
              "      <td>0.0</td>\n",
              "      <td>1000.156311</td>\n",
              "      <td>6.957641</td>\n",
              "      <td>15.846083</td>\n",
              "      <td>102686.031250</td>\n",
              "      <td>285.119202</td>\n",
              "      <td>0.827759</td>\n",
              "      <td>24040.648438</td>\n",
              "      <td>...</td>\n",
              "      <td>50.369999</td>\n",
              "      <td>-10.988547</td>\n",
              "      <td>0.2</td>\n",
              "      <td>0.000000</td>\n",
              "      <td>0.0</td>\n",
              "      <td>0.200000</td>\n",
              "      <td>5587.893066</td>\n",
              "      <td>1549.415039</td>\n",
              "      <td>250.114441</td>\n",
              "      <td>274.289764</td>\n",
              "    </tr>\n",
              "    <tr>\n",
              "      <th>...</th>\n",
              "      <td>...</td>\n",
              "      <td>...</td>\n",
              "      <td>...</td>\n",
              "      <td>...</td>\n",
              "      <td>...</td>\n",
              "      <td>...</td>\n",
              "      <td>...</td>\n",
              "      <td>...</td>\n",
              "      <td>...</td>\n",
              "      <td>...</td>\n",
              "      <td>...</td>\n",
              "      <td>...</td>\n",
              "      <td>...</td>\n",
              "      <td>...</td>\n",
              "      <td>...</td>\n",
              "      <td>...</td>\n",
              "      <td>...</td>\n",
              "      <td>...</td>\n",
              "      <td>...</td>\n",
              "      <td>...</td>\n",
              "      <td>...</td>\n",
              "    </tr>\n",
              "    <tr>\n",
              "      <th>2022-12-30 19:00:00</th>\n",
              "      <td>1013.0</td>\n",
              "      <td>205.438812</td>\n",
              "      <td>0.0</td>\n",
              "      <td>2140.130859</td>\n",
              "      <td>10.966944</td>\n",
              "      <td>20.408443</td>\n",
              "      <td>101224.937500</td>\n",
              "      <td>289.855621</td>\n",
              "      <td>0.844320</td>\n",
              "      <td>24038.054688</td>\n",
              "      <td>...</td>\n",
              "      <td>0.000000</td>\n",
              "      <td>0.000000</td>\n",
              "      <td>0.2</td>\n",
              "      <td>0.320312</td>\n",
              "      <td>0.0</td>\n",
              "      <td>0.320312</td>\n",
              "      <td>5593.541016</td>\n",
              "      <td>1449.093994</td>\n",
              "      <td>256.560760</td>\n",
              "      <td>282.030304</td>\n",
              "    </tr>\n",
              "    <tr>\n",
              "      <th>2022-12-30 20:00:00</th>\n",
              "      <td>1013.0</td>\n",
              "      <td>205.519791</td>\n",
              "      <td>0.0</td>\n",
              "      <td>2128.530762</td>\n",
              "      <td>10.623146</td>\n",
              "      <td>20.809048</td>\n",
              "      <td>101283.632812</td>\n",
              "      <td>289.902374</td>\n",
              "      <td>0.844684</td>\n",
              "      <td>24036.107422</td>\n",
              "      <td>...</td>\n",
              "      <td>1.280000</td>\n",
              "      <td>-8.179551</td>\n",
              "      <td>0.3</td>\n",
              "      <td>0.500000</td>\n",
              "      <td>0.0</td>\n",
              "      <td>0.500000</td>\n",
              "      <td>5598.160156</td>\n",
              "      <td>1454.644043</td>\n",
              "      <td>257.004120</td>\n",
              "      <td>281.343872</td>\n",
              "    </tr>\n",
              "    <tr>\n",
              "      <th>2022-12-30 21:00:00</th>\n",
              "      <td>1013.0</td>\n",
              "      <td>203.523941</td>\n",
              "      <td>0.0</td>\n",
              "      <td>2142.092529</td>\n",
              "      <td>10.237870</td>\n",
              "      <td>20.840071</td>\n",
              "      <td>101280.671875</td>\n",
              "      <td>289.717926</td>\n",
              "      <td>0.853459</td>\n",
              "      <td>24234.943359</td>\n",
              "      <td>...</td>\n",
              "      <td>0.000000</td>\n",
              "      <td>0.000113</td>\n",
              "      <td>0.6</td>\n",
              "      <td>0.437500</td>\n",
              "      <td>0.0</td>\n",
              "      <td>0.600000</td>\n",
              "      <td>5602.586914</td>\n",
              "      <td>1453.765991</td>\n",
              "      <td>257.113007</td>\n",
              "      <td>281.831879</td>\n",
              "    </tr>\n",
              "    <tr>\n",
              "      <th>2022-12-30 22:00:00</th>\n",
              "      <td>1013.0</td>\n",
              "      <td>201.616959</td>\n",
              "      <td>0.0</td>\n",
              "      <td>2121.737793</td>\n",
              "      <td>9.658238</td>\n",
              "      <td>19.937672</td>\n",
              "      <td>101289.281250</td>\n",
              "      <td>289.617004</td>\n",
              "      <td>0.854495</td>\n",
              "      <td>24234.662109</td>\n",
              "      <td>...</td>\n",
              "      <td>0.656000</td>\n",
              "      <td>-9.782903</td>\n",
              "      <td>0.6</td>\n",
              "      <td>0.429688</td>\n",
              "      <td>0.0</td>\n",
              "      <td>0.600000</td>\n",
              "      <td>5604.122070</td>\n",
              "      <td>1452.741943</td>\n",
              "      <td>257.041443</td>\n",
              "      <td>281.463501</td>\n",
              "    </tr>\n",
              "    <tr>\n",
              "      <th>2022-12-30 23:00:00</th>\n",
              "      <td>1013.0</td>\n",
              "      <td>196.627472</td>\n",
              "      <td>0.0</td>\n",
              "      <td>2122.162842</td>\n",
              "      <td>9.923582</td>\n",
              "      <td>20.322779</td>\n",
              "      <td>101273.460938</td>\n",
              "      <td>289.326935</td>\n",
              "      <td>0.857122</td>\n",
              "      <td>24036.123047</td>\n",
              "      <td>...</td>\n",
              "      <td>1.680000</td>\n",
              "      <td>-2.866535</td>\n",
              "      <td>0.5</td>\n",
              "      <td>0.515625</td>\n",
              "      <td>0.0</td>\n",
              "      <td>0.515625</td>\n",
              "      <td>5603.122070</td>\n",
              "      <td>1450.875000</td>\n",
              "      <td>257.380432</td>\n",
              "      <td>281.020813</td>\n",
              "    </tr>\n",
              "  </tbody>\n",
              "</table>\n",
              "<p>40843 rows × 101 columns</p>\n",
              "</div>\n",
              "      <button class=\"colab-df-convert\" onclick=\"convertToInteractive('df-767e45ea-6065-4fb1-84bc-e4a9bdfffc39')\"\n",
              "              title=\"Convert this dataframe to an interactive table.\"\n",
              "              style=\"display:none;\">\n",
              "        \n",
              "  <svg xmlns=\"http://www.w3.org/2000/svg\" height=\"24px\"viewBox=\"0 0 24 24\"\n",
              "       width=\"24px\">\n",
              "    <path d=\"M0 0h24v24H0V0z\" fill=\"none\"/>\n",
              "    <path d=\"M18.56 5.44l.94 2.06.94-2.06 2.06-.94-2.06-.94-.94-2.06-.94 2.06-2.06.94zm-11 1L8.5 8.5l.94-2.06 2.06-.94-2.06-.94L8.5 2.5l-.94 2.06-2.06.94zm10 10l.94 2.06.94-2.06 2.06-.94-2.06-.94-.94-2.06-.94 2.06-2.06.94z\"/><path d=\"M17.41 7.96l-1.37-1.37c-.4-.4-.92-.59-1.43-.59-.52 0-1.04.2-1.43.59L10.3 9.45l-7.72 7.72c-.78.78-.78 2.05 0 2.83L4 21.41c.39.39.9.59 1.41.59.51 0 1.02-.2 1.41-.59l7.78-7.78 2.81-2.81c.8-.78.8-2.07 0-2.86zM5.41 20L4 18.59l7.72-7.72 1.47 1.35L5.41 20z\"/>\n",
              "  </svg>\n",
              "      </button>\n",
              "      \n",
              "  <style>\n",
              "    .colab-df-container {\n",
              "      display:flex;\n",
              "      flex-wrap:wrap;\n",
              "      gap: 12px;\n",
              "    }\n",
              "\n",
              "    .colab-df-convert {\n",
              "      background-color: #E8F0FE;\n",
              "      border: none;\n",
              "      border-radius: 50%;\n",
              "      cursor: pointer;\n",
              "      display: none;\n",
              "      fill: #1967D2;\n",
              "      height: 32px;\n",
              "      padding: 0 0 0 0;\n",
              "      width: 32px;\n",
              "    }\n",
              "\n",
              "    .colab-df-convert:hover {\n",
              "      background-color: #E2EBFA;\n",
              "      box-shadow: 0px 1px 2px rgba(60, 64, 67, 0.3), 0px 1px 3px 1px rgba(60, 64, 67, 0.15);\n",
              "      fill: #174EA6;\n",
              "    }\n",
              "\n",
              "    [theme=dark] .colab-df-convert {\n",
              "      background-color: #3B4455;\n",
              "      fill: #D2E3FC;\n",
              "    }\n",
              "\n",
              "    [theme=dark] .colab-df-convert:hover {\n",
              "      background-color: #434B5C;\n",
              "      box-shadow: 0px 1px 3px 1px rgba(0, 0, 0, 0.15);\n",
              "      filter: drop-shadow(0px 1px 2px rgba(0, 0, 0, 0.3));\n",
              "      fill: #FFFFFF;\n",
              "    }\n",
              "  </style>\n",
              "\n",
              "      <script>\n",
              "        const buttonEl =\n",
              "          document.querySelector('#df-767e45ea-6065-4fb1-84bc-e4a9bdfffc39 button.colab-df-convert');\n",
              "        buttonEl.style.display =\n",
              "          google.colab.kernel.accessAllowed ? 'block' : 'none';\n",
              "\n",
              "        async function convertToInteractive(key) {\n",
              "          const element = document.querySelector('#df-767e45ea-6065-4fb1-84bc-e4a9bdfffc39');\n",
              "          const dataTable =\n",
              "            await google.colab.kernel.invokeFunction('convertToInteractive',\n",
              "                                                     [key], {});\n",
              "          if (!dataTable) return;\n",
              "\n",
              "          const docLinkHtml = 'Like what you see? Visit the ' +\n",
              "            '<a target=\"_blank\" href=https://colab.research.google.com/notebooks/data_table.ipynb>data table notebook</a>'\n",
              "            + ' to learn more about interactive tables.';\n",
              "          element.innerHTML = '';\n",
              "          dataTable['output_type'] = 'display_data';\n",
              "          await google.colab.output.renderOutput(dataTable, element);\n",
              "          const docLink = document.createElement('div');\n",
              "          docLink.innerHTML = docLinkHtml;\n",
              "          element.appendChild(docLink);\n",
              "        }\n",
              "      </script>\n",
              "    </div>\n",
              "  </div>\n",
              "  "
            ]
          },
          "metadata": {},
          "execution_count": 4
        }
      ]
    },
    {
      "cell_type": "markdown",
      "source": [
        "**Observed pressure (mslp_o) Vs forecasted pressure from meteorological model point 0 (mslp00)**"
      ],
      "metadata": {
        "id": "vXx7Pvwmx1g3"
      }
    },
    {
      "cell_type": "code",
      "source": [
        "pd.concat([df_all1k[\"mslp_o\"],df_all1k[\"mslp0\"]/100],axis = 1)[0::24].plot(figsize = (18, 8),grid = True,);"
      ],
      "metadata": {
        "colab": {
          "base_uri": "https://localhost:8080/",
          "height": 383
        },
        "id": "xcTPWg1XwllZ",
        "outputId": "57289347-c60c-4921-da17-24385f8c46c2"
      },
      "execution_count": 5,
      "outputs": [
        {
          "output_type": "display_data",
          "data": {
            "text/plain": [
              "<Figure size 1296x576 with 1 Axes>"
            ],
            "image/png": "[encoded data removed]"
          },
          "metadata": {
            "needs_background": "light"
          }
        }
      ]
    },
    {
      "cell_type": "markdown",
      "source": [
        "**Meteorological model scores (Point 0)**"
      ],
      "metadata": {
        "id": "1Lwji_3AffES"
      }
    },
    {
      "cell_type": "code",
      "source": [
        "from sklearn.metrics import mean_absolute_error\n",
        "from sklearn.metrics import mean_squared_error\n",
        "from sklearn.metrics import r2_score\n",
        "from sklearn.metrics import median_absolute_error\n",
        "import seaborn as sns\n",
        "\n",
        "#Mean absolute error\n",
        "Mean_AE = round(mean_absolute_error(df_all1k[\"mslp_o\"], df_all1k[\"mslp0\"]/100),2)\n",
        "\n",
        "#MSE \n",
        "MSE = round(mean_squared_error(df_all1k[\"mslp_o\"], df_all1k[\"mslp0\"]/100),2)\n",
        "\n",
        "#R2\n",
        "R2 = round(r2_score(df_all1k[\"mslp_o\"], df_all1k[\"mslp0\"]/100),2)\n",
        "\n",
        "#Median absolute error\n",
        "Median_AE = round(median_absolute_error(df_all1k[\"mslp_o\"], df_all1k[\"mslp0\"]/100),2)\n",
        "\n",
        "\n",
        "#random seed 1\n",
        "np.random.seed(1)\n",
        "\n",
        "res = pd.concat([df_all1k[\"mslp_o\"],df_all1k[\"mslp0\"]/100],axis = 1)\n",
        "sns.set_theme(style=\"darkgrid\")\n",
        "g = sns.jointplot(x=\"mslp0\", y=\"mslp_o\", data=res.sample(100),\n",
        "                  kind=\"reg\", truncate=False,\n",
        "                  color=\"m\", height=7)\n",
        "\n",
        "print(pd.DataFrame({\"Mean_AE\":Mean_AE,\"MSE\":MSE,\"R2\":R2,\"Median_AE\":Median_AE},index=[\"results point 0\"]))\n"
      ],
      "metadata": {
        "colab": {
          "base_uri": "https://localhost:8080/",
          "height": 544
        },
        "id": "giwyzjm-zVbh",
        "outputId": "9a8eb8d7-364b-4f75-ab78-6c8c9926c04a"
      },
      "execution_count": 6,
      "outputs": [
        {
          "output_type": "stream",
          "name": "stdout",
          "text": [
            "                 Mean_AE   MSE    R2  Median_AE\n",
            "results point 0     0.62  0.67  0.99        0.5\n"
          ]
        },
        {
          "output_type": "display_data",
          "data": {
            "text/plain": [
              "<Figure size 504x504 with 3 Axes>"
            ],
            "image/png": "[encoded data removed]"
          },
          "metadata": {}
        }
      ]
    },
    {
      "cell_type": "markdown",
      "source": [
        "**Meteorological model scores (Point 1)**"
      ],
      "metadata": {
        "id": "lLKgtDBM0HTA"
      }
    },
    {
      "cell_type": "code",
      "source": [
        "\n",
        "#Mean absolute error\n",
        "Mean_AE = round(mean_absolute_error(df_all1k[\"mslp_o\"], df_all1k[\"mslp1\"]/100),2)\n",
        "\n",
        "#MSE \n",
        "MSE = round(mean_squared_error(df_all1k[\"mslp_o\"], df_all1k[\"mslp1\"]/100),2)\n",
        "\n",
        "#R2\n",
        "R2 = round(r2_score(df_all1k[\"mslp_o\"], df_all1k[\"mslp1\"]/100),2)\n",
        "\n",
        "#Median absolute error\n",
        "Median_AE = round(median_absolute_error(df_all1k[\"mslp_o\"], df_all1k[\"mslp1\"]/100),2)\n",
        "\n",
        "#random seed 1\n",
        "np.random.seed(1)\n",
        "\n",
        "res = pd.concat([df_all1k[\"mslp_o\"],df_all1k[\"mslp1\"]/100],axis = 1)\n",
        "sns.set_theme(style=\"darkgrid\")\n",
        "g = sns.jointplot(x=\"mslp1\", y=\"mslp_o\", data=res.sample(100),\n",
        "                  kind=\"reg\", truncate=False,\n",
        "                  color=\"m\", height=7)\n",
        "\n",
        "\n",
        "print(pd.DataFrame({\"Mean_AE\":Mean_AE,\"MSE\":MSE,\"R2\":R2,\"Median_AE\":Median_AE},index=[\"results point 1\"]))"
      ],
      "metadata": {
        "colab": {
          "base_uri": "https://localhost:8080/",
          "height": 544
        },
        "id": "Ig8J2qWT0Mys",
        "outputId": "e0c86a41-c27d-4025-f452-da1c4dba94d0"
      },
      "execution_count": 7,
      "outputs": [
        {
          "output_type": "stream",
          "name": "stdout",
          "text": [
            "                 Mean_AE   MSE    R2  Median_AE\n",
            "results point 1     0.62  0.66  0.99        0.5\n"
          ]
        },
        {
          "output_type": "display_data",
          "data": {
            "text/plain": [
              "<Figure size 504x504 with 3 Axes>"
            ],
            "image/png": "[encoded data removed]"
          },
          "metadata": {}
        }
      ]
    },
    {
      "cell_type": "markdown",
      "source": [
        "**Meteorological model independent variables X**"
      ],
      "metadata": {
        "id": "uu6AJ_C51NXM"
      }
    },
    {
      "cell_type": "code",
      "source": [
        "df_all1k.iloc[:,1:].columns\n"
      ],
      "metadata": {
        "id": "RN6Ibn-t8l1o",
        "colab": {
          "base_uri": "https://localhost:8080/"
        },
        "outputId": "03365753-aac0-427f-8de0-df45c000b38e"
      },
      "execution_count": 8,
      "outputs": [
        {
          "output_type": "execute_result",
          "data": {
            "text/plain": [
              "Index(['dir0', 'snow_prec0', 'snowlevel0', 'mod0', 'wind_gust0', 'mslp0',\n",
              "       'temp0', 'rh0', 'visibility0', 'lhflx0', 'lwflx0', 'conv_prec0',\n",
              "       'prec0', 'swflx0', 'shflx0', 'cape0', 'cin0', 'cfh0', 'cfl0', 'cfm0',\n",
              "       'cft0', 'HGT5000', 'HGT8500', 'T5000', 'T8500', 'dir1', 'snow_prec1',\n",
              "       'snowlevel1', 'mod1', 'wind_gust1', 'mslp1', 'temp1', 'rh1',\n",
              "       'visibility1', 'lhflx1', 'lwflx1', 'conv_prec1', 'prec1', 'swflx1',\n",
              "       'shflx1', 'cape1', 'cin1', 'cfh1', 'cfl1', 'cfm1', 'cft1', 'HGT5001',\n",
              "       'HGT8501', 'T5001', 'T8501', 'dir2', 'snow_prec2', 'snowlevel2', 'mod2',\n",
              "       'wind_gust2', 'mslp2', 'temp2', 'rh2', 'visibility2', 'lhflx2',\n",
              "       'lwflx2', 'conv_prec2', 'prec2', 'swflx2', 'shflx2', 'cape2', 'cin2',\n",
              "       'cfh2', 'cfl2', 'cfm2', 'cft2', 'HGT5002', 'HGT8502', 'T5002', 'T8502',\n",
              "       'dir3', 'snow_prec3', 'snowlevel3', 'mod3', 'wind_gust3', 'mslp3',\n",
              "       'temp3', 'rh3', 'visibility3', 'lhflx3', 'lwflx3', 'conv_prec3',\n",
              "       'prec3', 'swflx3', 'shflx3', 'cape3', 'cin3', 'cfh3', 'cfl3', 'cfm3',\n",
              "       'cft3', 'HGT5003', 'HGT8503', 'T5003', 'T8503'],\n",
              "      dtype='object')"
            ]
          },
          "metadata": {},
          "execution_count": 8
        }
      ]
    },
    {
      "cell_type": "markdown",
      "source": [
        "**Find ML algorithm**"
      ],
      "metadata": {
        "id": "ChfMtedU1i6z"
      }
    },
    {
      "cell_type": "code",
      "source": [
        "from sklearn.model_selection import train_test_split\n",
        "import lazypredict\n",
        "from lazypredict.Supervised import LazyRegressor\n",
        "\n",
        "# X and Y\n",
        "Y = df_all1k[\"mslp_o\"]\n",
        "X = df_all1k.iloc[:,1:]\n",
        "\n",
        "\n",
        "X_train, X_test, y_train, y_test = train_test_split(X,Y, test_size=0.2, )\n",
        "\n",
        "\n",
        "multiple_model = LazyRegressor(verbose =0, ignore_warnings = True,predictions=True)\n",
        "models,predictions = multiple_model.fit(X_train,X_test,y_train,y_test)"
      ],
      "metadata": {
        "colab": {
          "base_uri": "https://localhost:8080/"
        },
        "id": "yDXLnryb71O1",
        "outputId": "58207801-edd6-4671-c8ee-f62c0ae66c12"
      },
      "execution_count": null,
      "outputs": [
        {
          "output_type": "stream",
          "name": "stderr",
          "text": [
            " 95%|█████████▌| 39/41 [05:25<00:12,  6.28s/it]"
          ]
        },
        {
          "output_type": "stream",
          "name": "stdout",
          "text": [
            "[08:58:02] WARNING: /workspace/src/objective/regression_obj.cu:152: reg:linear is now deprecated in favor of reg:squarederror.\n"
          ]
        },
        {
          "output_type": "stream",
          "name": "stderr",
          "text": [
            "100%|██████████| 41/41 [05:32<00:00,  8.12s/it]\n"
          ]
        }
      ]
    },
    {
      "cell_type": "code",
      "source": [
        "models"
      ],
      "metadata": {
        "id": "UOjWiLjS_zvi"
      },
      "execution_count": null,
      "outputs": []
    },
    {
      "cell_type": "markdown",
      "source": [
        "**LGBMRegressor (y_test from lazypredict)**"
      ],
      "metadata": {
        "id": "GLB6qlndgjob"
      }
    },
    {
      "cell_type": "code",
      "source": [
        "Mean_AE = round(mean_absolute_error(y_test, predictions.LGBMRegressor),2)\n",
        "MSE = round(mean_squared_error(y_test, predictions.LGBMRegressor),2)\n",
        "R2 = round(r2_score(y_test, predictions.LGBMRegressor),2)\n",
        "Median_AE = round(median_absolute_error(y_test, predictions.LGBMRegressor),2)\n",
        "\n",
        "print(pd.DataFrame({\"Mean_AE\":Mean_AE,\"MSE\":MSE,\"R2\":R2,\"Median_AE\":Median_AE},index=[\"results LGBMRegressor\"]))\n",
        "\n"
      ],
      "metadata": {
        "colab": {
          "base_uri": "https://localhost:8080/"
        },
        "id": "UdxLyqh8ARgH",
        "outputId": "e0616f30-2812-457b-b060-98d1a3922ac3"
      },
      "execution_count": null,
      "outputs": [
        {
          "output_type": "stream",
          "name": "stdout",
          "text": [
            "                       Mean_AE  MSE   R2  Median_AE\n",
            "results LGBMRegressor     0.55 0.51 0.99       0.45\n"
          ]
        }
      ]
    },
    {
      "cell_type": "markdown",
      "source": [
        "**ExtraTreesRegressor (y_test from lazypredict)**"
      ],
      "metadata": {
        "id": "CrCi7JXsg22q"
      }
    },
    {
      "cell_type": "code",
      "source": [
        "Mean_AE = round(mean_absolute_error(y_test, predictions.ExtraTreesRegressor),2)\n",
        "MSE = round(mean_squared_error(y_test, predictions.ExtraTreesRegressor),2)\n",
        "R2 = round(r2_score(y_test, predictions.ExtraTreesRegressor),2)\n",
        "Median_AE = round(median_absolute_error(y_test, predictions.ExtraTreesRegressor),2)\n",
        "\n",
        "print(pd.DataFrame({\"Mean_AE\":Mean_AE,\"MSE\":MSE,\"R2\":R2,\"Median_AE\":Median_AE},index=[\"results ExtraTreesRegressor\"]))"
      ],
      "metadata": {
        "colab": {
          "base_uri": "https://localhost:8080/"
        },
        "id": "v_1CrEyPg9t4",
        "outputId": "5d6af77a-2cea-4bea-91df-cc7ae0b54d30"
      },
      "execution_count": null,
      "outputs": [
        {
          "output_type": "stream",
          "name": "stdout",
          "text": [
            "                             Mean_AE  MSE   R2  Median_AE\n",
            "results ExtraTreesRegressor     0.51 0.46 0.99       0.39\n"
          ]
        }
      ]
    },
    {
      "cell_type": "markdown",
      "source": [
        "**lgbmregressor ML algorithm selected**"
      ],
      "metadata": {
        "id": "39WWhfb66PSv"
      }
    },
    {
      "cell_type": "code",
      "source": [
        "from lightgbm.sklearn import LGBMRegressor\n",
        "from sklearn.model_selection import train_test_split\n",
        "\n",
        "#random seed 1\n",
        "np.random.seed(1)\n",
        "\n",
        "# X and Y\n",
        "Y = df_all1k.mslp_o\n",
        "X = df_all1k.iloc[:,1:]\n",
        "\n",
        "# loop random\n",
        "Median_AE_ml = []\n",
        "Mean_AE_ml =[]\n",
        "MSE_ml = []\n",
        "R2_ml = []\n",
        "\n",
        "#20 samples to test algorithm\n",
        "for t in range (0,5):\n",
        "  #split variables\n",
        "  X_train, X_test, y_train, y_test = train_test_split(X,Y, test_size=0.15, )\n",
        "\n",
        "  #machine learning model\n",
        "  ml_model = LGBMRegressor().fit(X_train,y_train)\n",
        "  y_pred = ml_model.predict(X_test)\n",
        "  \n",
        "  #Score calculation\n",
        "  Mean_AE_ml.append(round(mean_absolute_error(y_test, y_pred),2))\n",
        "  Median_AE_ml.append(round(median_absolute_error(y_test, y_pred),2))\n",
        "  MSE_ml.append (round(mean_squared_error(y_test, y_pred),2))\n",
        "  R2_ml.append(round(r2_score(y_test, y_pred),2))\n",
        "  \n",
        "  \n",
        "print(pd.DataFrame({\"Median_AE\":Median_AE_ml,\" Mean_AE\":Mean_AE_ml,\"MSE\":MSE_ml,\"R2\":R2_ml}))"
      ],
      "metadata": {
        "colab": {
          "base_uri": "https://localhost:8080/"
        },
        "id": "AmaGouiY4907",
        "outputId": "474a142b-02cd-4cc4-ec36-0b177f1f9f05"
      },
      "execution_count": 9,
      "outputs": [
        {
          "output_type": "stream",
          "name": "stdout",
          "text": [
            "   Median_AE   Mean_AE   MSE    R2\n",
            "0       0.41      0.50  0.42  0.99\n",
            "1       0.41      0.51  0.45  0.99\n",
            "2       0.41      0.50  0.43  0.99\n",
            "3       0.42      0.51  0.43  0.99\n",
            "4       0.40      0.50  0.41  0.99\n"
          ]
        }
      ]
    },
    {
      "cell_type": "markdown",
      "source": [
        "**T test (1sample) compare machine learning median absolute error in a sample (n=\n",
        "5) versus meteorological model median absolute error at point 0 (0.5) and at point 1 (0.5). the alternative hypothesis is: the mean of the underlying distribution of the sample is less than the given population mean (popmean). Significance level (alpha) = 0.01**"
      ],
      "metadata": {
        "id": "3j5DH1765--U"
      }
    },
    {
      "cell_type": "code",
      "source": [
        "from scipy import stats\n",
        "\n",
        "alpha = 0.01\n",
        "sta0, p_value0 = stats.ttest_1samp(Median_AE_ml, popmean=0.5, alternative=\"less\")\n",
        "sta1, p_value1 = stats.ttest_1samp(Median_AE_ml, popmean=0.5, alternative=\"less\")\n",
        "\n",
        "print(\"\\nalpha: \",alpha)\n",
        "\n",
        "print(\"\\nMedian Absolute error list from machine learning test:\",Median_AE_ml)\n",
        "print(\"\\n**** Point 0 ****\")\n",
        "print(\"\\np_value point 0:\",p_value0)\n",
        "if p_value0 < alpha:    \n",
        "    print(\"\\nwe are rejecting null hypothesis  H0: Median Absolute Error machine learning = Median Absolute Error meteorological model point 0\")\n",
        "    print(\"\\nwe are accepting alternative hypothesis: Median Absolute Error machine learning is less than Median Absolute Error meteorological point 0\")\n",
        "else:\n",
        "    print(\"\\nwe are accepting null hypothesis:  H0:  Median Absolute Error machine learning = Median Absolute Error meteorological model point 0 \")\n",
        "\n",
        "print(\"\\n**** Point 1 ****\")\n",
        "print(\"\\np value point 1:\",p_value1 )\n",
        "if p_value1 < alpha:    \n",
        "    print(\"\\nwe are rejecting null hypothesis  H0: Median Absolute Error machine learning = Median Absolute Error meteorological model point 1\")\n",
        "    print(\"\\nwe are accepting alternative hypothesis: Median Absolute Error machine learning is less than Median Absolute Error meteorological point 1\")\n",
        "else:\n",
        "    print(\"\\nwe are accepting null hypothesis:  H0  Median Absolute Error machine learning = Median Absolute Error meteorological model point 1\")"
      ],
      "metadata": {
        "colab": {
          "base_uri": "https://localhost:8080/"
        },
        "id": "Rsrp3_FM6Uea",
        "outputId": "a70c7452-d50f-466e-e90c-5e9b0f9fdece"
      },
      "execution_count": 10,
      "outputs": [
        {
          "output_type": "stream",
          "name": "stdout",
          "text": [
            "\n",
            "alpha:  0.01\n",
            "\n",
            "Median Absolute error list from machine learning test: [0.41, 0.41, 0.41, 0.42, 0.4]\n",
            "\n",
            "**** Point 0 ****\n",
            "\n",
            "p_value point 0: 4.53508266350716e-06\n",
            "\n",
            "we are rejecting null hypothesis  H0: Median Absolute Error machine learning = Median Absolute Error meteorological model point 0\n",
            "\n",
            "we are accepting alternative hypothesis: Median Absolute Error machine learning is less than Median Absolute Error meteorological point 0\n",
            "\n",
            "**** Point 1 ****\n",
            "\n",
            "p value point 1: 4.53508266350716e-06\n",
            "\n",
            "we are rejecting null hypothesis  H0: Median Absolute Error machine learning = Median Absolute Error meteorological model point 1\n",
            "\n",
            "we are accepting alternative hypothesis: Median Absolute Error machine learning is less than Median Absolute Error meteorological point 1\n"
          ]
        }
      ]
    },
    {
      "cell_type": "markdown",
      "source": [
        "**Add time variables**"
      ],
      "metadata": {
        "id": "3LB7ooEm7KY7"
      }
    },
    {
      "cell_type": "code",
      "source": [
        "df_all1k[\"hour\"] = df_all1k.index.hour\n",
        "df_all1k[\"month\"] = df_all1k.index.month\n",
        "df_all1k[\"dayofyear\"] = df_all1k.index.dayofyear\n",
        "df_all1k[\"weekofyear\"] = df_all1k.index.isocalendar().week.astype(int)"
      ],
      "metadata": {
        "id": "53SehPaetF9j"
      },
      "execution_count": 11,
      "outputs": []
    },
    {
      "cell_type": "markdown",
      "source": [
        "**Machine learning with time variables**"
      ],
      "metadata": {
        "id": "-hXqalG-8edT"
      }
    },
    {
      "cell_type": "markdown",
      "source": [
        " **X variables**"
      ],
      "metadata": {
        "id": "xsz1bScg8ILz"
      }
    },
    {
      "cell_type": "code",
      "source": [
        " df_all1k.iloc[:,1:].columns"
      ],
      "metadata": {
        "colab": {
          "base_uri": "https://localhost:8080/"
        },
        "id": "jQ0o2l828Q_a",
        "outputId": "863a3b97-708e-410d-f3f3-914d81374112"
      },
      "execution_count": null,
      "outputs": [
        {
          "output_type": "execute_result",
          "data": {
            "text/plain": [
              "Index(['dir0', 'snow_prec0', 'snowlevel0', 'mod0', 'wind_gust0', 'mslp0',\n",
              "       'temp0', 'rh0', 'visibility0', 'lhflx0', 'lwflx0', 'conv_prec0',\n",
              "       'prec0', 'swflx0', 'shflx0', 'cape0', 'cin0', 'cfh0', 'cfl0', 'cfm0',\n",
              "       'cft0', 'HGT5000', 'HGT8500', 'T5000', 'T8500', 'dir1', 'snow_prec1',\n",
              "       'snowlevel1', 'mod1', 'wind_gust1', 'mslp1', 'temp1', 'rh1',\n",
              "       'visibility1', 'lhflx1', 'lwflx1', 'conv_prec1', 'prec1', 'swflx1',\n",
              "       'shflx1', 'cape1', 'cin1', 'cfh1', 'cfl1', 'cfm1', 'cft1', 'HGT5001',\n",
              "       'HGT8501', 'T5001', 'T8501', 'hour', 'month', 'dayofyear',\n",
              "       'weekofyear'],\n",
              "      dtype='object')"
            ]
          },
          "metadata": {},
          "execution_count": 32
        }
      ]
    },
    {
      "cell_type": "code",
      "source": [
        "#random seed 1\n",
        "np.random.seed(1)\n",
        "\n",
        "# X and Y\n",
        "Y = df_all1k.mslp_o\n",
        "X = df_all1k.iloc[:,1:]\n",
        "\n",
        "# loop random\n",
        "Median_AE_ml_t = []\n",
        "Mean_AE_ml_t =[]\n",
        "MSE_ml_t = []\n",
        "R2_ml_t = []\n",
        "\n",
        "#20 samples to test algorithm\n",
        "for t in range (0,5):\n",
        "  #split variables\n",
        "  X_train, X_test, y_train, y_test = train_test_split(X,Y, test_size=0.15, )\n",
        "\n",
        "  #machine learning model\n",
        "  ml_model = LGBMRegressor().fit(X_train,y_train)\n",
        "  y_pred = ml_model.predict(X_test)\n",
        "  \n",
        "  #Score calculation\n",
        "  Mean_AE_ml_t.append(round(mean_absolute_error(y_test, y_pred),2))\n",
        "  Median_AE_ml_t.append(round(median_absolute_error(y_test, y_pred),2))\n",
        "  MSE_ml_t.append (round(mean_squared_error(y_test, y_pred),2))\n",
        "  R2_ml_t.append(round(r2_score(y_test, y_pred),2))\n",
        "  \n",
        "  \n",
        "print(pd.DataFrame({\"Median_AE\":Median_AE_ml_t,\" Mean_AE\":Mean_AE_ml_t,\"MSE\":MSE_ml_t,\"R2\":R2_ml_t}))"
      ],
      "metadata": {
        "colab": {
          "base_uri": "https://localhost:8080/"
        },
        "id": "XXKcR59T71M8",
        "outputId": "ae394e87-e0b9-431e-a501-90dab839b949"
      },
      "execution_count": 12,
      "outputs": [
        {
          "output_type": "stream",
          "name": "stdout",
          "text": [
            "   Median_AE   Mean_AE   MSE    R2\n",
            "0       0.39      0.47  0.38  0.99\n",
            "1       0.39      0.49  0.41  0.99\n",
            "2       0.39      0.48  0.39  0.99\n",
            "3       0.40      0.48  0.39  0.99\n",
            "4       0.39      0.47  0.37  0.99\n"
          ]
        }
      ]
    },
    {
      "cell_type": "code",
      "source": [
        "feature_importances = ml_model.feature_importances_\n",
        "total_sum = sum(feature_importances)\n",
        "feature_importances_perc = [(importance/total_sum)*100 for importance in feature_importances]\n",
        "# Print the feature importances as a percentage of total feature importance\n",
        "\n",
        "for name, importance in zip(X.columns, feature_importances_perc):\n",
        "    print(f\"{name}: {importance:.1f}%\")"
      ],
      "metadata": {
        "colab": {
          "base_uri": "https://localhost:8080/"
        },
        "id": "Z3u6Ab6JUkZd",
        "outputId": "8f88f653-1828-4658-9be7-1fddde0d46bc"
      },
      "execution_count": 15,
      "outputs": [
        {
          "output_type": "stream",
          "name": "stdout",
          "text": [
            "dir0: 2.6%\n",
            "snow_prec0: 0.0%\n",
            "snowlevel0: 1.1%\n",
            "mod0: 0.8%\n",
            "wind_gust0: 0.6%\n",
            "mslp0: 4.9%\n",
            "temp0: 0.4%\n",
            "rh0: 1.1%\n",
            "visibility0: 0.8%\n",
            "lhflx0: 0.4%\n",
            "lwflx0: 1.6%\n",
            "conv_prec0: 0.4%\n",
            "prec0: 0.7%\n",
            "swflx0: 0.2%\n",
            "shflx0: 0.4%\n",
            "cape0: 0.6%\n",
            "cin0: 0.5%\n",
            "cfh0: 0.5%\n",
            "cfl0: 0.7%\n",
            "cfm0: 0.6%\n",
            "cft0: 0.2%\n",
            "HGT5000: 1.6%\n",
            "HGT8500: 1.8%\n",
            "T5000: 1.3%\n",
            "T8500: 1.0%\n",
            "dir1: 1.2%\n",
            "snow_prec1: 0.0%\n",
            "snowlevel1: 0.9%\n",
            "mod1: 0.5%\n",
            "wind_gust1: 0.7%\n",
            "mslp1: 4.5%\n",
            "temp1: 0.4%\n",
            "rh1: 0.7%\n",
            "visibility1: 0.6%\n",
            "lhflx1: 0.4%\n",
            "lwflx1: 0.9%\n",
            "conv_prec1: 0.2%\n",
            "prec1: 0.7%\n",
            "swflx1: 0.1%\n",
            "shflx1: 0.5%\n",
            "cape1: 0.4%\n",
            "cin1: 0.7%\n",
            "cfh1: 0.5%\n",
            "cfl1: 0.9%\n",
            "cfm1: 0.5%\n",
            "cft1: 0.2%\n",
            "HGT5001: 0.5%\n",
            "HGT8501: 1.4%\n",
            "T5001: 1.0%\n",
            "T8501: 1.1%\n",
            "dir2: 1.6%\n",
            "snow_prec2: 0.0%\n",
            "snowlevel2: 0.5%\n",
            "mod2: 0.8%\n",
            "wind_gust2: 1.1%\n",
            "mslp2: 4.7%\n",
            "temp2: 0.2%\n",
            "rh2: 0.5%\n",
            "visibility2: 0.4%\n",
            "lhflx2: 0.5%\n",
            "lwflx2: 0.8%\n",
            "conv_prec2: 0.1%\n",
            "prec2: 1.1%\n",
            "swflx2: 0.2%\n",
            "shflx2: 0.8%\n",
            "cape2: 0.7%\n",
            "cin2: 0.7%\n",
            "cfh2: 0.0%\n",
            "cfl2: 0.5%\n",
            "cfm2: 0.4%\n",
            "cft2: 0.1%\n",
            "HGT5002: 0.7%\n",
            "HGT8502: 0.9%\n",
            "T5002: 1.5%\n",
            "T8502: 1.3%\n",
            "dir3: 0.7%\n",
            "snow_prec3: 0.0%\n",
            "snowlevel3: 0.6%\n",
            "mod3: 0.6%\n",
            "wind_gust3: 0.7%\n",
            "mslp3: 6.9%\n",
            "temp3: 0.4%\n",
            "rh3: 0.5%\n",
            "visibility3: 0.4%\n",
            "lhflx3: 0.5%\n",
            "lwflx3: 0.8%\n",
            "conv_prec3: 0.0%\n",
            "prec3: 0.7%\n",
            "swflx3: 0.1%\n",
            "shflx3: 0.7%\n",
            "cape3: 0.5%\n",
            "cin3: 0.6%\n",
            "cfh3: 0.4%\n",
            "cfl3: 0.2%\n",
            "cfm3: 0.3%\n",
            "cft3: 0.1%\n",
            "HGT5003: 0.5%\n",
            "HGT8503: 1.0%\n",
            "T5003: 1.1%\n",
            "T8503: 1.4%\n",
            "hour: 6.8%\n",
            "month: 0.6%\n",
            "dayofyear: 6.7%\n",
            "weekofyear: 2.3%\n"
          ]
        }
      ]
    },
    {
      "cell_type": "markdown",
      "source": [
        "**T test two related samples. This is a test for the null hypothesis that two related samples have identical Median Absolute Error. Alternative hypothesis the Median Absolute Error of the distribution underlying the sample with time variables is less than the Median Absolute Error of the distribution underlying the sample without time variables. Significance level (alpha) = 0.01**"
      ],
      "metadata": {
        "id": "-uQb1jDO84oc"
      }
    },
    {
      "cell_type": "code",
      "source": [
        "from scipy import stats\n",
        "\n",
        "alpha = 0.01\n",
        "sta, p_value = stats.ttest_rel(Median_AE_ml_t, Median_AE_ml, alternative=\"less\")\n",
        "\n",
        "print(\"\\nMedian absolute error without time variables:\", Median_AE_ml)\n",
        "print(\"\\nMedian absolute error with time variables:\", Median_AE_ml_t)\n",
        "\n",
        "print(\"\\nalpha: \",alpha)\n",
        "\n",
        "print(\"\\np_value point: \",p_value)\n",
        "if p_value < alpha:    \n",
        "    print(\"\\nwe are rejecting null hypothesis  H0: Median absolute error machine learning without time variables = Median absolute error machine learning with time variables\")\n",
        "    print(\"\\nwe are accepting alternative hypothesis: Median absolute error of the sample with time variables inputs is less than the Median absolute error of the sample without time variables inputs\")\n",
        "else:\n",
        "    print(\"\\nwe are accepting null hypothesis:  H0: Median absolute error machine learning without time variables = Median absolute error machine learning with time variables\")\n",
        "     "
      ],
      "metadata": {
        "colab": {
          "base_uri": "https://localhost:8080/"
        },
        "id": "_AW7s4T19JEO",
        "outputId": "d7f4bb08-e1b4-4a5b-ff7b-f6631a5c7f2f"
      },
      "execution_count": 13,
      "outputs": [
        {
          "output_type": "stream",
          "name": "stdout",
          "text": [
            "\n",
            "Median absolute error without time variables: [0.41, 0.41, 0.41, 0.42, 0.4]\n",
            "\n",
            "Median absolute error with time variables: [0.39, 0.39, 0.39, 0.4, 0.39]\n",
            "\n",
            "alpha:  0.01\n",
            "\n",
            "p_value point:  0.0004219162588006339\n",
            "\n",
            "we are rejecting null hypothesis  H0: Median absolute error machine learning without time variables = Median absolute error machine learning with time variables\n",
            "\n",
            "we are accepting alternative hypothesis: Median absolute error of the sample with time variables inputs is less than the Median absolute error of the sample without time variables inputs\n"
          ]
        }
      ]
    },
    {
      "cell_type": "markdown",
      "source": [
        "**Save algorithm**"
      ],
      "metadata": {
        "id": "owVD0zsI_1JD"
      }
    },
    {
      "cell_type": "code",
      "source": [
        "import pickle\n",
        "from sklearn.pipeline import Pipeline\n",
        "\n",
        "x_var = df_all1k.iloc[:,1:].columns\n",
        "estimators = [('ml_model', ml_model)]\n",
        "pipe = Pipeline(estimators)\n",
        "print(pipe)\n",
        "al_file={\"x_var\":x_var,\"coor\":coor,\"pipe\":pipe}\n",
        "pickle.dump(al_file, open(\"pres_LECO_d0.al\", 'wb'))"
      ],
      "metadata": {
        "colab": {
          "base_uri": "https://localhost:8080/"
        },
        "id": "ZXM71i31__XS",
        "outputId": "9ea20549-4d41-481b-930d-effe284feb6c"
      },
      "execution_count": 14,
      "outputs": [
        {
          "output_type": "stream",
          "name": "stdout",
          "text": [
            "Pipeline(steps=[('ml_model', LGBMRegressor())])\n"
          ]
        }
      ]
    }
  ]
}