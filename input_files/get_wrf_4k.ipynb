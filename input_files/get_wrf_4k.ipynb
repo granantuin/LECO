{
  "cells": [
    {
      "cell_type": "code",
      "execution_count": 6,
      "metadata": {
        "id": "RsinAru0hKeW",
        "cellView": "form"
      },
      "outputs": [],
      "source": [
        "#@title Select station coordinates (N+ S- W- and E+) and n nearest points\n",
        "lat_station = 43.302 #@param {type:\"number\"}\n",
        "lon_station = -8.377 #@param {type:\"number\"}\n",
        "n_nearest =  4#@param {type:\"integer\"}\n",
        "forecast_D = 0 #@param [\"0\", \"1\", \"2\", \"3\"] {type:\"raw\"}\n",
        "initial_day_YYYYMMDD = \"20200101\" #@param {type:\"raw\"}\n",
        "final_day_YYYYMMDD = \"20201231\" #@param {type:\"raw\"}\n",
        "spatial_resolution = \"4Km\" #@param [\"4Km\", \"12Km\", \"36Km\"] {allow-input: true}"
      ]
    },
    {
      "cell_type": "code",
      "execution_count": 1,
      "metadata": {
        "id": "f3ZxyIZ5iJXD",
        "colab": {
          "base_uri": "https://localhost:8080/"
        },
        "outputId": "d61ab4a9-5b0a-4df7-f11e-944bef04f5e3"
      },
      "outputs": [
        {
          "output_type": "stream",
          "name": "stdout",
          "text": [
            "Looking in indexes: https://pypi.org/simple, https://us-python.pkg.dev/colab-wheels/public/simple/\n",
            "Collecting simplekml\n",
            "  Downloading simplekml-1.3.6.tar.gz (52 kB)\n",
            "\u001b[2K     \u001b[90m━━━━━━━━━━━━━━━━━━━━━━━━━━━━━━━━━━━━━━━━\u001b[0m \u001b[32m53.0/53.0 KB\u001b[0m \u001b[31m1.1 MB/s\u001b[0m eta \u001b[36m0:00:00\u001b[0m\n",
            "\u001b[?25h  Preparing metadata (setup.py) ... \u001b[?25l\u001b[?25hdone\n",
            "Building wheels for collected packages: simplekml\n",
            "  Building wheel for simplekml (setup.py) ... \u001b[?25l\u001b[?25hdone\n",
            "  Created wheel for simplekml: filename=simplekml-1.3.6-py3-none-any.whl size=65875 sha256=44ab5bd8bffaf03eb17bf8d823f4fe136ad6dc728f203d7af99e0ffedf06c99a\n",
            "  Stored in directory: /root/.cache/pip/wheels/64/ed/fa/ce203ffaab4888a5365e9b2298b50f93705391e25098fd7a3d\n",
            "Successfully built simplekml\n",
            "Installing collected packages: simplekml\n",
            "Successfully installed simplekml-1.3.6\n"
          ]
        }
      ],
      "source": [
        "pip install simplekml"
      ]
    },
    {
      "cell_type": "code",
      "execution_count": null,
      "metadata": {
        "colab": {
          "base_uri": "https://localhost:8080/"
        },
        "id": "V_L99Mgmhguz",
        "outputId": "285e2ddf-5018-4e18-e529-a31cbc93daf4"
      },
      "outputs": [
        {
          "output_type": "stream",
          "name": "stdout",
          "text": [
            "analysis date: 2020-01-01 00:00:00\n",
            "analysis date: 2020-01-02 00:00:00\n",
            "analysis date: 2020-01-03 00:00:00\n",
            "analysis date: 2020-01-04 00:00:00\n",
            "analysis date: 2020-01-05 00:00:00\n",
            "analysis date: 2020-01-06 00:00:00\n",
            "analysis date: 2020-01-07 00:00:00\n",
            "analysis date: 2020-01-08 00:00:00\n",
            "analysis date: 2020-01-09 00:00:00\n",
            "analysis date: 2020-01-10 00:00:00\n",
            "analysis date: 2020-01-11 00:00:00\n",
            "analysis date: 2020-01-12 00:00:00\n",
            "analysis date: 2020-01-13 00:00:00\n",
            "analysis date: 2020-01-14 00:00:00\n",
            "analysis date: 2020-01-15 00:00:00\n",
            "analysis date: 2020-01-16 00:00:00\n",
            "analysis date: 2020-01-17 00:00:00\n",
            "analysis date: 2020-01-18 00:00:00\n",
            "analysis date: 2020-01-19 00:00:00\n",
            "analysis date: 2020-01-20 00:00:00\n",
            "analysis date: 2020-01-21 00:00:00\n",
            "analysis date: 2020-01-22 00:00:00\n",
            "analysis date: 2020-01-23 00:00:00\n",
            "analysis date: 2020-01-24 00:00:00\n",
            "analysis date: 2020-01-25 00:00:00\n",
            "analysis date: 2020-01-26 00:00:00\n",
            "analysis date: 2020-01-27 00:00:00\n",
            "analysis date: 2020-01-28 00:00:00\n",
            "analysis date: 2020-01-29 00:00:00\n",
            "analysis date: 2020-01-30 00:00:00\n",
            "analysis date: 2020-01-31 00:00:00\n",
            "analysis date: 2020-02-01 00:00:00\n",
            "analysis date: 2020-02-02 00:00:00\n",
            "analysis date: 2020-02-03 00:00:00\n",
            "analysis date: 2020-02-04 00:00:00\n",
            "analysis date: 2020-02-05 00:00:00\n",
            "analysis date: 2020-02-06 00:00:00\n",
            "analysis date: 2020-02-07 00:00:00\n",
            "analysis date: 2020-02-08 00:00:00\n",
            "analysis date: 2020-02-09 00:00:00\n",
            "analysis date: 2020-02-10 00:00:00\n",
            "analysis date: 2020-02-11 00:00:00\n",
            "2020-02-11 00:00:00 failed\n",
            "analysis date: 2020-02-12 00:00:00\n"
          ]
        }
      ],
      "source": [
        "\n",
        "import simplekml\n",
        "from urllib.request import urlretrieve\n",
        "import xarray as xr\n",
        "import numpy as np\n",
        "import pandas as pd\n",
        "from math import radians, cos, sin, asin, sqrt\n",
        "from datetime import timedelta\n",
        "\n",
        "def haversine(lon1, lat1, lon2, lat2):\n",
        "       lon1, lat1, lon2, lat2 = map(radians, [lon1, lat1, lon2, lat2])\n",
        "       dlon, dlat = lon2 - lon1 ,lat2 - lat1 \n",
        "       a = sin(dlat/2)**2 + cos(lat1) * cos(lat2) * sin(dlon/2)**2\n",
        "       km = 2 * asin(sqrt(a))*6367\n",
        "       return km\n",
        "#directory drive\n",
        "root=\"\"\n",
        "\n",
        "# select url from 4km, 12km, 1.3Km and 36km in order to get the nearest points. Not real forecast !!!\n",
        "#url1=\"http://mandeo.meteogalicia.es/thredds/ncss/modelos/WRF_HIST/d05/2020/11/wrf_arw_det_history_d05_20211101_0000.nc4?var=mod&disableLLSubset=on&disableProjSubset=on&horizStride=1&time_start=2020-11-01T01%3A00%3A00Z&time_end=2020-11-01T01%3A00%3A00Z&timeStride=1&addLatLon=true&accept=netcdf\"\n",
        "url4=\"http://mandeo.meteogalicia.es/thredds/ncss/modelos/WRF_HIST/d03/2020/11/wrf_arw_det_history_d03_20201101_0000.nc4?var=mod&disableLLSubset=on&disableProjSubset=on&horizStride=1&time_start=2020-11-01T01%3A00%3A00Z&time_end=2020-11-01T01%3A00%3A00Z&timeStride=1&addLatLon=true&accept=netcdf\"\n",
        "url12=\"http://mandeo.meteogalicia.es/thredds/ncss/modelos/WRF_HIST/d02/2016/09/wrf_arw_det_history_d02_20160927_0000.nc4?var=mod&disableLLSubset=on&disableProjSubset=on&horizStride=1&time_start=2016-09-27T01%3A00%3A00Z&time_end=2016-09-27T01%3A00%3A00Z&timeStride=1&addLatLon=true&accept=netcdf\"\n",
        "url36=\"http://mandeo.meteogalicia.es/thredds/ncss/modelos/WRF_HIST/d01/2018/10/wrf_arw_det_history_d01_20181031_0000.nc4?var=mod&disableLLSubset=on&disableProjSubset=on&horizStride=1&time_start=2018-10-31T01%3A00%3A00Z&time_end=2018-10-31T01%3A00%3A00Z&timeStride=1&addLatLon=true&accept=netcdf\"\n",
        "resolution={\"4Km\":url4,\"12Km\":url12,\"36Km\":url36}\n",
        "resol_tag={\"4Km\":\"d03\",\"12Km\":\"d02\",\"36Km\":\"d01\"}\n",
        "df=xr.open_dataset(urlretrieve(resolution[spatial_resolution])[0],).to_dataframe()\n",
        "df_n=pd.DataFrame(df[[\"lat\",\"lon\",\"mod\"]].values,columns=df[[\"lat\",\"lon\",\"mod\"]].columns)\n",
        "\n",
        "#add station coordinates\n",
        "df_n[\"lat_st\"],df_n[\"lon_st\"]=lat_station,lon_station\n",
        "\n",
        "#find the distances from the meteorological model to the station \n",
        "for index, row in df_n.iterrows():\n",
        "       df_n.loc[index, 'distance'] = round(haversine(row['lon'], row['lat'], row['lon_st'], row['lat_st']),2)\n",
        "\n",
        "#select n nearest points to the station. \n",
        "df_r=df_n.sort_values(by=[\"distance\"]).head(n_nearest)\n",
        "\n",
        "# KML with all the distances to the station\n",
        "#df_n[\"distance\"]=df_n[\"distance\"].astype(str)\n",
        "#kml = simplekml.Kml()\n",
        "#df_n.apply(lambda X: kml.newpoint(name=X[\"distance\"], coords=[( X[\"lon\"],X[\"lat\"])]) ,axis=1)\n",
        "#kml.save(\"full_\"+spatial_resolution+\".kml\")  \n",
        "\n",
        "# KML with nearest n points\n",
        "df_r[\"distance\"]=df_r[\"distance\"].astype(str)\n",
        "kmlr = simplekml.Kml()\n",
        "df_r.apply(lambda X: kmlr.newpoint(name=X[\"distance\"], coords=[( X[\"lon\"],X[\"lat\"])]) ,axis=1)\n",
        "kmlr.newpoint(name=\"STATION\",coords=[(lon_station,lat_station)])\n",
        "kmlr.save(root+\"lat\"+str(lat_station)+\"lon\"+str(lon_station)+\"p\"+str(n_nearest)+\"R\"+str(spatial_resolution)+\".kml\")\n",
        "\n",
        "#save nearest points as csv file\n",
        "df_r.set_index(np.arange(0,n_nearest)).drop([\"mod\"],axis=1).to_csv(root+\"distan_\"+\"lat\"+str(lat_station)+\"lon\"+str(lon_station)+\"p\"+str(n_nearest)+\"R\"+str(spatial_resolution)+\".csv\")\n",
        "\n",
        "#get the meteorological model\n",
        "df_sum=pd.DataFrame()\n",
        "for a_day in pd.date_range(start=str(initial_day_YYYYMMDD), end=str(final_day_YYYYMMDD)):\n",
        "  print(\"analysis date:\",a_day)\n",
        "  head=a_day.strftime(\"http://mandeo.meteogalicia.es/thredds/ncss/modelos/WRF_HIST/\"+resol_tag[spatial_resolution]+\"/%Y/%m/wrf_arw_det_history_\"+resol_tag[spatial_resolution]+\"_%Y%m%d_0000.nc4?\")\n",
        "  f_day=(a_day+timedelta(days=forecast_D)).strftime(\"%Y-%m-%d\") \n",
        "  var=\"var=dir&var=snow_prec&var=snowlevel&var=mod&var=wind_gust&var=mslp&var=temp&var=rh&var=visibility&var=lhflx&var=lwflx&var=conv_prec&var=prec&var=swflx&var=shflx&var=cape&var=cin&var=cfh&var=cfl&var=cfm&var=cft&var=HGT500&var=HGT850&var=T500&var=T850\"\n",
        "  tail=\"&time_start=\"+f_day+\"T00%3A00%3A00Z&time_end=\"+f_day+\"T23%3A00%3A00Z&accept=csv\"\n",
        "  try:\n",
        "     dffinal=pd.DataFrame() \n",
        "     for coor in list(zip(df_r[\"lat\"].astype(str),df_r[\"lon\"].astype(str),np.arange(0,n_nearest).astype(str))):\n",
        "        dffinal=pd.concat([dffinal,pd.read_csv(head+var+\"&latitude=\"+coor[0]+\"&longitude=\"+coor[1]+tail,).add_suffix(coor[2])],axis=1)\n",
        "\n",
        "     #filter all columns with lat lon and date\n",
        "     dffinal=dffinal.filter(regex='^(?!(lat|lon|date).*?)')\n",
        " \n",
        "     #remove column string between brakets\n",
        "     new_col=[c.split(\"[\")[0]+c.split(\"]\")[-1] for c in dffinal.columns]\n",
        "     for col in zip(dffinal.columns,new_col):\n",
        "       dffinal=dffinal.rename(columns = {col[0]:col[1]})\n",
        " \n",
        "     #add time  \n",
        "     if forecast_D==0:\n",
        "       dffinal[\"time\"]=pd.date_range(f_day,periods=24, freq='H')[1:]\n",
        "     else:\n",
        "       dffinal[\"time\"]=pd.date_range(f_day,periods=24, freq='H') \n",
        "     df_sum=pd.concat([df_sum,dffinal.set_index(\"time\")])\n",
        "\n",
        "  except:\n",
        "     print(a_day,\"failed\")\n",
        "\n",
        "#time index to column\n",
        "df_sum.reset_index(inplace=True)\n",
        "\n",
        "#save csv file\n",
        "df_sum.to_csv(root+\"lat\"+str(lat_station)+\"lon\"+str(lon_station)+\"p\"+str(n_nearest)+\"R\"+str(spatial_resolution)+\"D\"+str(forecast_D)+\".csv\")"
      ]
    }
  ],
  "metadata": {
    "colab": {
      "provenance": []
    },
    "kernelspec": {
      "display_name": "Python 3",
      "name": "python3"
    },
    "language_info": {
      "name": "python"
    }
  },
  "nbformat": 4,
  "nbformat_minor": 0
}